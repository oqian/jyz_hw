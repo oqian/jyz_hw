{
 "cells": [
  {
   "cell_type": "markdown",
   "id": "105a35d8",
   "metadata": {},
   "source": [
    "# Homework 1\n",
    "### Introduction to Data Science EN.553.436/EN.553.636 - Fall 2021\n",
    "\n",
    "Due date: Wednesday, September 22 at midnight."
   ]
  },
  {
   "cell_type": "markdown",
   "id": "2f5d825d",
   "metadata": {},
   "source": [
    "## Guidelines\n",
    "* Answer in the cells immediately below the problem statements. If a problem calls for code, a code cell will follow. If a problem calls for a text response, a Markdown cell will follow.\n",
    "* Your code should include some comments. Insufficient commentary may result in loss of points. But you do not necessarily need to comment every line or problem. Further guidelines:\n",
    "    - If the the meaning of some line of code would be obvious to the average Python novice, you do not need to comment (e.g., you do not need to comment _import numpy_). \n",
    "    - If your code is moderately complex, you should comment (e.g., if you nest several functions in one line, you should comment). \n",
    "    - It may be proper to comment before a code block to describe generally what you are doing (e.g., you should comment before a function definition to explain the function and its parameters)."
   ]
  },
  {
   "cell_type": "markdown",
   "id": "c3122224",
   "metadata": {},
   "source": [
    "# Problem 1"
   ]
  },
  {
   "cell_type": "markdown",
   "id": "5a9688e5",
   "metadata": {},
   "source": [
    "## 1.1 (2 pts.)\n",
    "Load the _lowbwt_ dataset from the OpenML repository as a Pandas DataFrame from following URL: https://www.openml.org/data/get_csv/3640/dataset_2189_lowbwt.arff. Use a function that is able to handle loading the data directly into Jupyter from the URL. The function should take the URL as an argument. **Do not load the data using a filepath on your hard drive:** again, load the data directly into Jupyter using the URL.\n",
    "\n",
    "Print the loaded DataFrame. Read the [description](https://www.openml.org/d/203) of the dataset to better understand it. Check the column names and values to see if they match the variables discussed in the description. One or more variables may have been renamed."
   ]
  },
  {
   "cell_type": "code",
   "execution_count": 1,
   "id": "2691edd7",
   "metadata": {
    "scrolled": true
   },
   "outputs": [
    {
     "data": {
      "text/html": [
       "<div>\n",
       "<style scoped>\n",
       "    .dataframe tbody tr th:only-of-type {\n",
       "        vertical-align: middle;\n",
       "    }\n",
       "\n",
       "    .dataframe tbody tr th {\n",
       "        vertical-align: top;\n",
       "    }\n",
       "\n",
       "    .dataframe thead th {\n",
       "        text-align: right;\n",
       "    }\n",
       "</style>\n",
       "<table border=\"1\" class=\"dataframe\">\n",
       "  <thead>\n",
       "    <tr style=\"text-align: right;\">\n",
       "      <th></th>\n",
       "      <th>LOW</th>\n",
       "      <th>AGE</th>\n",
       "      <th>LWT</th>\n",
       "      <th>RACE</th>\n",
       "      <th>SMOKE</th>\n",
       "      <th>PTL</th>\n",
       "      <th>HT</th>\n",
       "      <th>UI</th>\n",
       "      <th>FTV</th>\n",
       "      <th>class</th>\n",
       "    </tr>\n",
       "  </thead>\n",
       "  <tbody>\n",
       "    <tr>\n",
       "      <th>0</th>\n",
       "      <td>0</td>\n",
       "      <td>19</td>\n",
       "      <td>182</td>\n",
       "      <td>2</td>\n",
       "      <td>0</td>\n",
       "      <td>0</td>\n",
       "      <td>0</td>\n",
       "      <td>1</td>\n",
       "      <td>0</td>\n",
       "      <td>2523</td>\n",
       "    </tr>\n",
       "    <tr>\n",
       "      <th>1</th>\n",
       "      <td>0</td>\n",
       "      <td>33</td>\n",
       "      <td>155</td>\n",
       "      <td>3</td>\n",
       "      <td>0</td>\n",
       "      <td>0</td>\n",
       "      <td>0</td>\n",
       "      <td>0</td>\n",
       "      <td>3</td>\n",
       "      <td>2551</td>\n",
       "    </tr>\n",
       "    <tr>\n",
       "      <th>2</th>\n",
       "      <td>0</td>\n",
       "      <td>20</td>\n",
       "      <td>105</td>\n",
       "      <td>1</td>\n",
       "      <td>1</td>\n",
       "      <td>0</td>\n",
       "      <td>0</td>\n",
       "      <td>0</td>\n",
       "      <td>1</td>\n",
       "      <td>2557</td>\n",
       "    </tr>\n",
       "    <tr>\n",
       "      <th>3</th>\n",
       "      <td>0</td>\n",
       "      <td>21</td>\n",
       "      <td>108</td>\n",
       "      <td>1</td>\n",
       "      <td>1</td>\n",
       "      <td>0</td>\n",
       "      <td>0</td>\n",
       "      <td>1</td>\n",
       "      <td>2</td>\n",
       "      <td>2594</td>\n",
       "    </tr>\n",
       "    <tr>\n",
       "      <th>4</th>\n",
       "      <td>0</td>\n",
       "      <td>18</td>\n",
       "      <td>107</td>\n",
       "      <td>1</td>\n",
       "      <td>1</td>\n",
       "      <td>0</td>\n",
       "      <td>0</td>\n",
       "      <td>1</td>\n",
       "      <td>0</td>\n",
       "      <td>2600</td>\n",
       "    </tr>\n",
       "    <tr>\n",
       "      <th>...</th>\n",
       "      <td>...</td>\n",
       "      <td>...</td>\n",
       "      <td>...</td>\n",
       "      <td>...</td>\n",
       "      <td>...</td>\n",
       "      <td>...</td>\n",
       "      <td>...</td>\n",
       "      <td>...</td>\n",
       "      <td>...</td>\n",
       "      <td>...</td>\n",
       "    </tr>\n",
       "    <tr>\n",
       "      <th>184</th>\n",
       "      <td>1</td>\n",
       "      <td>28</td>\n",
       "      <td>95</td>\n",
       "      <td>1</td>\n",
       "      <td>1</td>\n",
       "      <td>0</td>\n",
       "      <td>0</td>\n",
       "      <td>0</td>\n",
       "      <td>2</td>\n",
       "      <td>2466</td>\n",
       "    </tr>\n",
       "    <tr>\n",
       "      <th>185</th>\n",
       "      <td>1</td>\n",
       "      <td>14</td>\n",
       "      <td>100</td>\n",
       "      <td>3</td>\n",
       "      <td>0</td>\n",
       "      <td>0</td>\n",
       "      <td>0</td>\n",
       "      <td>0</td>\n",
       "      <td>2</td>\n",
       "      <td>2495</td>\n",
       "    </tr>\n",
       "    <tr>\n",
       "      <th>186</th>\n",
       "      <td>1</td>\n",
       "      <td>23</td>\n",
       "      <td>94</td>\n",
       "      <td>3</td>\n",
       "      <td>1</td>\n",
       "      <td>0</td>\n",
       "      <td>0</td>\n",
       "      <td>0</td>\n",
       "      <td>0</td>\n",
       "      <td>2495</td>\n",
       "    </tr>\n",
       "    <tr>\n",
       "      <th>187</th>\n",
       "      <td>1</td>\n",
       "      <td>17</td>\n",
       "      <td>142</td>\n",
       "      <td>2</td>\n",
       "      <td>0</td>\n",
       "      <td>0</td>\n",
       "      <td>1</td>\n",
       "      <td>0</td>\n",
       "      <td>0</td>\n",
       "      <td>2495</td>\n",
       "    </tr>\n",
       "    <tr>\n",
       "      <th>188</th>\n",
       "      <td>1</td>\n",
       "      <td>21</td>\n",
       "      <td>130</td>\n",
       "      <td>1</td>\n",
       "      <td>1</td>\n",
       "      <td>0</td>\n",
       "      <td>1</td>\n",
       "      <td>0</td>\n",
       "      <td>3</td>\n",
       "      <td>2495</td>\n",
       "    </tr>\n",
       "  </tbody>\n",
       "</table>\n",
       "<p>189 rows × 10 columns</p>\n",
       "</div>"
      ],
      "text/plain": [
       "     LOW  AGE  LWT  RACE  SMOKE  PTL  HT  UI  FTV  class\n",
       "0      0   19  182     2      0    0   0   1    0   2523\n",
       "1      0   33  155     3      0    0   0   0    3   2551\n",
       "2      0   20  105     1      1    0   0   0    1   2557\n",
       "3      0   21  108     1      1    0   0   1    2   2594\n",
       "4      0   18  107     1      1    0   0   1    0   2600\n",
       "..   ...  ...  ...   ...    ...  ...  ..  ..  ...    ...\n",
       "184    1   28   95     1      1    0   0   0    2   2466\n",
       "185    1   14  100     3      0    0   0   0    2   2495\n",
       "186    1   23   94     3      1    0   0   0    0   2495\n",
       "187    1   17  142     2      0    0   1   0    0   2495\n",
       "188    1   21  130     1      1    0   1   0    3   2495\n",
       "\n",
       "[189 rows x 10 columns]"
      ]
     },
     "execution_count": 1,
     "metadata": {},
     "output_type": "execute_result"
    }
   ],
   "source": [
    "import pandas as pd\n",
    "\n",
    "lowbwt = pd.read_csv('https://www.openml.org/data/get_csv/3640/dataset_2189_lowbwt.arff')\n",
    "lowbwt"
   ]
  },
  {
   "cell_type": "markdown",
   "id": "5d7d0517",
   "metadata": {},
   "source": [
    "## 1.2 (2 pts.)\n",
    "From the full DataFrame, extract and print a DataFrame with the birthweight column (and only the birthweight column) for mothers who smoked during pregnancy and had low-birthweight deliveries."
   ]
  },
  {
   "cell_type": "code",
   "execution_count": 2,
   "id": "9cc25d57",
   "metadata": {},
   "outputs": [
    {
     "data": {
      "text/html": [
       "<div>\n",
       "<style scoped>\n",
       "    .dataframe tbody tr th:only-of-type {\n",
       "        vertical-align: middle;\n",
       "    }\n",
       "\n",
       "    .dataframe tbody tr th {\n",
       "        vertical-align: top;\n",
       "    }\n",
       "\n",
       "    .dataframe thead th {\n",
       "        text-align: right;\n",
       "    }\n",
       "</style>\n",
       "<table border=\"1\" class=\"dataframe\">\n",
       "  <thead>\n",
       "    <tr style=\"text-align: right;\">\n",
       "      <th></th>\n",
       "      <th>class</th>\n",
       "    </tr>\n",
       "  </thead>\n",
       "  <tbody>\n",
       "    <tr>\n",
       "      <th>130</th>\n",
       "      <td>709</td>\n",
       "    </tr>\n",
       "    <tr>\n",
       "      <th>132</th>\n",
       "      <td>1135</td>\n",
       "    </tr>\n",
       "    <tr>\n",
       "      <th>139</th>\n",
       "      <td>1790</td>\n",
       "    </tr>\n",
       "    <tr>\n",
       "      <th>140</th>\n",
       "      <td>1818</td>\n",
       "    </tr>\n",
       "    <tr>\n",
       "      <th>141</th>\n",
       "      <td>1885</td>\n",
       "    </tr>\n",
       "    <tr>\n",
       "      <th>144</th>\n",
       "      <td>1928</td>\n",
       "    </tr>\n",
       "    <tr>\n",
       "      <th>145</th>\n",
       "      <td>1928</td>\n",
       "    </tr>\n",
       "    <tr>\n",
       "      <th>147</th>\n",
       "      <td>1936</td>\n",
       "    </tr>\n",
       "    <tr>\n",
       "      <th>152</th>\n",
       "      <td>2084</td>\n",
       "    </tr>\n",
       "    <tr>\n",
       "      <th>153</th>\n",
       "      <td>2084</td>\n",
       "    </tr>\n",
       "    <tr>\n",
       "      <th>155</th>\n",
       "      <td>2125</td>\n",
       "    </tr>\n",
       "    <tr>\n",
       "      <th>156</th>\n",
       "      <td>2126</td>\n",
       "    </tr>\n",
       "    <tr>\n",
       "      <th>157</th>\n",
       "      <td>2187</td>\n",
       "    </tr>\n",
       "    <tr>\n",
       "      <th>159</th>\n",
       "      <td>2211</td>\n",
       "    </tr>\n",
       "    <tr>\n",
       "      <th>160</th>\n",
       "      <td>2225</td>\n",
       "    </tr>\n",
       "    <tr>\n",
       "      <th>164</th>\n",
       "      <td>2296</td>\n",
       "    </tr>\n",
       "    <tr>\n",
       "      <th>165</th>\n",
       "      <td>2296</td>\n",
       "    </tr>\n",
       "    <tr>\n",
       "      <th>168</th>\n",
       "      <td>2353</td>\n",
       "    </tr>\n",
       "    <tr>\n",
       "      <th>170</th>\n",
       "      <td>2367</td>\n",
       "    </tr>\n",
       "    <tr>\n",
       "      <th>171</th>\n",
       "      <td>2381</td>\n",
       "    </tr>\n",
       "    <tr>\n",
       "      <th>172</th>\n",
       "      <td>2381</td>\n",
       "    </tr>\n",
       "    <tr>\n",
       "      <th>175</th>\n",
       "      <td>2410</td>\n",
       "    </tr>\n",
       "    <tr>\n",
       "      <th>176</th>\n",
       "      <td>2410</td>\n",
       "    </tr>\n",
       "    <tr>\n",
       "      <th>177</th>\n",
       "      <td>2414</td>\n",
       "    </tr>\n",
       "    <tr>\n",
       "      <th>178</th>\n",
       "      <td>2424</td>\n",
       "    </tr>\n",
       "    <tr>\n",
       "      <th>182</th>\n",
       "      <td>2466</td>\n",
       "    </tr>\n",
       "    <tr>\n",
       "      <th>183</th>\n",
       "      <td>2466</td>\n",
       "    </tr>\n",
       "    <tr>\n",
       "      <th>184</th>\n",
       "      <td>2466</td>\n",
       "    </tr>\n",
       "    <tr>\n",
       "      <th>186</th>\n",
       "      <td>2495</td>\n",
       "    </tr>\n",
       "    <tr>\n",
       "      <th>188</th>\n",
       "      <td>2495</td>\n",
       "    </tr>\n",
       "  </tbody>\n",
       "</table>\n",
       "</div>"
      ],
      "text/plain": [
       "     class\n",
       "130    709\n",
       "132   1135\n",
       "139   1790\n",
       "140   1818\n",
       "141   1885\n",
       "144   1928\n",
       "145   1928\n",
       "147   1936\n",
       "152   2084\n",
       "153   2084\n",
       "155   2125\n",
       "156   2126\n",
       "157   2187\n",
       "159   2211\n",
       "160   2225\n",
       "164   2296\n",
       "165   2296\n",
       "168   2353\n",
       "170   2367\n",
       "171   2381\n",
       "172   2381\n",
       "175   2410\n",
       "176   2410\n",
       "177   2414\n",
       "178   2424\n",
       "182   2466\n",
       "183   2466\n",
       "184   2466\n",
       "186   2495\n",
       "188   2495"
      ]
     },
     "execution_count": 2,
     "metadata": {},
     "output_type": "execute_result"
    }
   ],
   "source": [
    "mask = (lowbwt['SMOKE']==1) & (lowbwt['LOW']==1)\n",
    "subset = lowbwt[mask][['class']]\n",
    "subset"
   ]
  },
  {
   "cell_type": "markdown",
   "id": "cf267a0a",
   "metadata": {},
   "source": [
    "## 1.3 (3 pts.)\n",
    "Print the following statistics for the birthweights in the original full dataset:\n",
    "- Standard deviation\n",
    "- 0.16 Quantile\n",
    "- Mean\n",
    "- Median\n",
    "- 0.84 Quantile\n",
    "\n",
    "Afterwards, print the same statistics for the birthweights in the subset you selected in 1.2."
   ]
  },
  {
   "cell_type": "code",
   "execution_count": 3,
   "id": "29b16094",
   "metadata": {
    "scrolled": true
   },
   "outputs": [
    {
     "name": "stdout",
     "output_type": "stream",
     "text": [
      "Birthweights, All Mothers\n",
      "St. Deviation   729.02\n",
      "0.16 Quantile   2226.2\n",
      "Mean            2944.66\n",
      "Median          2977.0\n",
      "0.84 Quantile   3695.16\n",
      "\n",
      "Birthweights, Smokers With Low-Birthweight Deliveries\n",
      "St. Deviation   399.81\n",
      "0.16 Quantile   1912.52\n",
      "Mean            2143.03\n",
      "Median          2260.5\n",
      "0.84 Quantile   2439.12\n"
     ]
    }
   ],
   "source": [
    "print('Birthweights, All Mothers')\n",
    "label = ['St. Deviation', '0.16 Quantile', 'Mean', 'Median', '0.84 Quantile']\n",
    "value = [round(lowbwt['class'].std(), 2), round(lowbwt['class'].quantile(0.16),2), round(lowbwt['class'].mean(),2), \\\n",
    "         round(lowbwt['class'].quantile(0.50),2), round(lowbwt['class'].quantile(0.84),2)]\n",
    "for i in range(len(label)):\n",
    "    print('{:<15} {}'.format(label[i], value[i])) \n",
    "\n",
    "print('\\nBirthweights, Smokers With Low-Birthweight Deliveries')\n",
    "label = ['St. Deviation', '0.16 Quantile', 'Mean', 'Median', '0.84 Quantile']\n",
    "value = [round(subset['class'].std(), 2), round(subset['class'].quantile(0.16),2), round(subset['class'].mean(),2), \\\n",
    "         round(subset['class'].quantile(0.50),2), round(subset['class'].quantile(0.84),2)]\n",
    "for i in range(len(label)):\n",
    "    print('{:<15} {}'.format(label[i], value[i])) "
   ]
  },
  {
   "cell_type": "markdown",
   "id": "de9fffee",
   "metadata": {},
   "source": [
    "## 1.4 (2 pts.)\n",
    "Plot two density histograms: one for the birthweights in the full dataset, and one for the birthweights in the subset you selected in 1.2. Label the histograms."
   ]
  },
  {
   "cell_type": "code",
   "execution_count": 4,
   "id": "bbd11ac4",
   "metadata": {},
   "outputs": [
    {
     "data": {
      "image/png": "[encoded data removed]",
      "text/plain": [
       "<Figure size 432x288 with 1 Axes>"
      ]
     },
     "metadata": {
      "needs_background": "light"
     },
     "output_type": "display_data"
    },
    {
     "data": {
      "image/png": "[encoded data removed]",
      "text/plain": [
       "<Figure size 432x288 with 1 Axes>"
      ]
     },
     "metadata": {
      "needs_background": "light"
     },
     "output_type": "display_data"
    }
   ],
   "source": [
    "import matplotlib.pyplot as plt\n",
    "\n",
    "plt.hist(lowbwt['class'], density=True)\n",
    "plt.title('All Mothers')\n",
    "plt.xlabel('Birthweigts')\n",
    "plt.show()\n",
    "\n",
    "plt.hist(subset['class'], density=True)\n",
    "plt.title('Smokers With Low-Birthweight Deliveries')\n",
    "plt.xlabel('Birthweigts')\n",
    "plt.show()"
   ]
  },
  {
   "cell_type": "markdown",
   "id": "1744c952",
   "metadata": {},
   "source": [
    "## 1.5 (2 pts.)\n",
    "Is a normal distribution a plausible model for birthweight in either of the two datasets? Back up your answer using the previous results. This image of a normal PDF may be useful:\n",
    "\n",
    "![Normal PDF](https://therionorteline.files.wordpress.com/2011/12/bell-curve.jpg)"
   ]
  },
  {
   "cell_type": "markdown",
   "id": "e2e7fd85",
   "metadata": {},
   "source": [
    "### _Answer:_ \n",
    "The normal distribution is a plausible model for birthweight in the full dataset. Birthweight in the full dataset has sample quantiles that are approximately aligned with normal quantiles; a sample mean and median that are close; and a density histogram that exhibits an approximately normal shape. The normal distribution is not a plausible model for birthweight in the other dataset because birthweight in that dataset does not have the aforementioned properties."
   ]
  },
  {
   "cell_type": "markdown",
   "id": "9f1fa5c9",
   "metadata": {},
   "source": [
    "# Problem 2\n",
    "In this exercise, we will proceed in steps to perform rejection sampling of a [beta random variable](https://docs.scipy.org/doc/scipy/reference/generated/scipy.stats.beta.html) using a [triangular random variable](https://docs.scipy.org/doc/scipy/reference/generated/scipy.stats.triang.html) as candidate."
   ]
  },
  {
   "cell_type": "markdown",
   "id": "1385c9da",
   "metadata": {},
   "source": [
    "## 2.1 (2 pts.)\n",
    "Plot an overlay of a beta PDF and a triangular PDF with the following parameters:\n",
    "- For the beta PDF, a=2, b=2, loc=0, scale=1.\n",
    "- For the triangular PDF, c=0.50, loc=0, scale=1."
   ]
  },
  {
   "cell_type": "code",
   "execution_count": 5,
   "id": "ef38fde1",
   "metadata": {},
   "outputs": [
    {
     "data": {
      "image/png": "[encoded data removed]",
      "text/plain": [
       "<Figure size 432x288 with 1 Axes>"
      ]
     },
     "metadata": {
      "needs_background": "light"
     },
     "output_type": "display_data"
    }
   ],
   "source": [
    "import scipy.stats as stats\n",
    "import numpy as np\n",
    "\n",
    "x = np.linspace(0, 1, 100)\n",
    "plt.plot(x, stats.beta.pdf(x, a=2, b=2, loc=0, scale=1))\n",
    "plt.plot(x, stats.triang.pdf(x, c=0.50, loc=0, scale=1))\n",
    "plt.show()"
   ]
  },
  {
   "cell_type": "markdown",
   "id": "cbeb64f4",
   "metadata": {},
   "source": [
    "## 2.2 (2 pts.)\n",
    "We will perform 10,000 trials of the rejection sampling procedure. Simulate and store 10,000 random variables distributed as $\\text{Uniform}[0,1]$ using random state 436. Simulate and store 10,000 triangular random variables from the specified triangular distribution using random state 636."
   ]
  },
  {
   "cell_type": "code",
   "execution_count": 6,
   "id": "44639b9d",
   "metadata": {},
   "outputs": [],
   "source": [
    "trials = 10000\n",
    "U = stats.uniform.rvs(loc=0, scale=1, size=trials, random_state=436)\n",
    "Y = stats.triang.rvs(c=0.50, loc=0, scale=1, size=trials, random_state=636)"
   ]
  },
  {
   "cell_type": "markdown",
   "id": "2746f2d6",
   "metadata": {},
   "source": [
    "## 2.3 (2 pts.)\n",
    "Let $f$ be the beta PDF and $g$ the triangular PDF. Using 1.5 as an estimate of $\\sup f/g$, generate samples from the beta distribution by rejection sampling. Store your samples. Print the number of samples you obtain."
   ]
  },
  {
   "cell_type": "code",
   "execution_count": 7,
   "id": "a03a959b",
   "metadata": {},
   "outputs": [
    {
     "name": "stdout",
     "output_type": "stream",
     "text": [
      "Number of samples:\t 6674\n"
     ]
    }
   ],
   "source": [
    "M = 1.5\n",
    "f = stats.beta.pdf(Y, a=2, b=2, loc=0, scale=1)\n",
    "g = stats.triang.pdf(Y, c=0.50, loc=0, scale=1)\n",
    "ratio = f/g\n",
    "samples = Y[U <= ratio/M]\n",
    "print('Number of samples:\\t', len(samples))"
   ]
  },
  {
   "cell_type": "markdown",
   "id": "73974ee3",
   "metadata": {},
   "source": [
    "## 2.4 (2 pts.)\n",
    "Plot a density histogram of your samples overlaid with the beta and triangular PDFs. Use 100 bins."
   ]
  },
  {
   "cell_type": "code",
   "execution_count": 8,
   "id": "6bd37bc0",
   "metadata": {},
   "outputs": [
    {
     "data": {
      "image/png": "[encoded data removed]",
      "text/plain": [
       "<Figure size 432x288 with 1 Axes>"
      ]
     },
     "metadata": {
      "needs_background": "light"
     },
     "output_type": "display_data"
    }
   ],
   "source": [
    "plt.hist(samples, density=True, bins=100)\n",
    "x = np.linspace(0, 1, 100)\n",
    "plt.plot(x, stats.beta.pdf(x, a=2, b=2, loc=0, scale=1))\n",
    "plt.plot(x, stats.triang.pdf(x, c=0.50, loc=0, scale=1))\n",
    "plt.show()"
   ]
  },
  {
   "cell_type": "markdown",
   "id": "5eb32b56",
   "metadata": {},
   "source": [
    "# Problem 3"
   ]
  },
  {
   "cell_type": "markdown",
   "id": "3ae69a85",
   "metadata": {},
   "source": [
    "## 3.1 (4 pts.)\n",
    "The Epanechnikov kernel is defined by\n",
    "$$K(u) = \\frac{3}{4}\\left(1 - u^{2}\\right)\\qquad\\text{for }\\lvert u \\rvert \\leq 1$$\n",
    "Perform Epanechnikov kernel density estimation on 1,000 simulated samples from a [lognormal distribution](https://docs.scipy.org/doc/scipy/reference/generated/scipy.stats.lognorm.html) with s=1 and random state 636. Use a bandwidth of 2.0. Plot the density estimate over the support of the lognormal distribution. (You can use 2 times the maximum of your samples as an upper bound for the support.)"
   ]
  },
  {
   "cell_type": "code",
   "execution_count": 9,
   "id": "3b8c24d1",
   "metadata": {},
   "outputs": [
    {
     "data": {
      "image/png": "[encoded data removed]",
      "text/plain": [
       "<Figure size 432x288 with 1 Axes>"
      ]
     },
     "metadata": {
      "needs_background": "light"
     },
     "output_type": "display_data"
    }
   ],
   "source": [
    "lognorm = stats.lognorm.rvs(s=1, size=1000, random_state=636)\n",
    "\n",
    "def epa(u):\n",
    "    return (3/4)*(1-u**2)*(abs(u)<=1)\n",
    "\n",
    "kde = lambda x, data, bw: (1/(len(data)*bw)) * sum([epa((x - data[i])/bw) \\\n",
    "                                for i in range(len(data))])\n",
    "\n",
    "x = np.linspace(0, 2*max(lognorm), 100);\n",
    "bw = 2.0\n",
    "plt.plot(x, kde(x, lognorm, bw))\n",
    "plt.show()"
   ]
  },
  {
   "cell_type": "markdown",
   "id": "aeea4af2",
   "metadata": {},
   "source": [
    "## 3.2 (2 pts.)\n",
    "Test whether the estimate integrates to unity over the support of the lognormal distribution."
   ]
  },
  {
   "cell_type": "code",
   "execution_count": 10,
   "id": "928ed953",
   "metadata": {},
   "outputs": [
    {
     "name": "stdout",
     "output_type": "stream",
     "text": [
      "Integral:\t 0.8206900514275497\n"
     ]
    }
   ],
   "source": [
    "print('Integral:\\t', np.trapz(kde(x, lognorm, bw), x))"
   ]
  },
  {
   "cell_type": "markdown",
   "id": "be029f4a",
   "metadata": {},
   "source": [
    "## 3.3 (2 pts.)\n",
    "Explain the results of your integration."
   ]
  },
  {
   "cell_type": "markdown",
   "id": "a014ee9b",
   "metadata": {},
   "source": [
    "### _Answer:_ \n",
    "The density estimate does not integrate to unity because the support of the lognormal distribution is nonnegative, while the support of the density estimate extends into the negative domain as can be seen from the plot below."
   ]
  },
  {
   "cell_type": "code",
   "execution_count": 11,
   "id": "bc010b5c",
   "metadata": {},
   "outputs": [
    {
     "name": "stdout",
     "output_type": "stream",
     "text": [
      "Integral:\t 1.0000368736356235\n"
     ]
    },
    {
     "data": {
      "image/png": "[encoded data removed]",
      "text/plain": [
       "<Figure size 432x288 with 1 Axes>"
      ]
     },
     "metadata": {
      "needs_background": "light"
     },
     "output_type": "display_data"
    }
   ],
   "source": [
    "x = np.linspace(-2, 2*max(lognorm), 100);\n",
    "bw = 2.0\n",
    "plt.plot(x, kde(x, lognorm, bw))\n",
    "\n",
    "print('Integral:\\t', np.trapz(kde(x, lognorm, bw), x))"
   ]
  },
  {
   "cell_type": "markdown",
   "id": "4029c9d5",
   "metadata": {},
   "source": [
    "# Problem 4"
   ]
  },
  {
   "cell_type": "markdown",
   "id": "83b6a1f2",
   "metadata": {},
   "source": [
    "## 4.1 (2 pts.)\n",
    "Below we load the [Boston house prices dataset](https://scikit-learn.org/stable/datasets/toy_dataset.html#boston-dataset). We also store the labels of predictors for you.\n",
    "\n",
    "Our goal will be to predict house price (MEDV) by regression. Split the dataset into a training and test set using 1/3 as the test size and a random state of 553. Use the function [_train_test_split_](https://scikit-learn.org/stable/modules/generated/sklearn.model_selection.train_test_split.html) from _sklearn.model_selection_ for this purpose."
   ]
  },
  {
   "cell_type": "code",
   "execution_count": 12,
   "id": "85df0a46",
   "metadata": {},
   "outputs": [],
   "source": [
    "# Loading data:\n",
    "\n",
    "# Import function for loading the 'boston' dataset.\n",
    "from sklearn.datasets import load_boston\n",
    "# Load a 'bunch' containing data and descriptions.\n",
    "boston_bunch = load_boston()\n",
    "# Extract and store predictor variables.\n",
    "X = boston_bunch.data\n",
    "# Extract and store the variable that is the target for prediction.\n",
    "y = boston_bunch.target\n",
    "# Extract and store labels of predictor variables.\n",
    "labels = boston_bunch.feature_names"
   ]
  },
  {
   "cell_type": "code",
   "execution_count": 13,
   "id": "d7faaf55",
   "metadata": {},
   "outputs": [],
   "source": [
    "from sklearn.model_selection import train_test_split\n",
    "X_train, X_test, y_train, y_test = train_test_split(X, y, test_size=0.33, random_state=553)"
   ]
  },
  {
   "cell_type": "markdown",
   "id": "952ed133",
   "metadata": {},
   "source": [
    "## 4.2 (6 pts.)\n",
    "Fit three different linear models on the training set by ordinary least squares (OLS): \n",
    "- A model using all predictor variables.\n",
    "- A model using only AGE, NOX, DIS, and RAD as predictor variables.\n",
    "- A model using all polynomial combinations of degree $\\leq 2$ of the original thirteen predictor variables."
   ]
  },
  {
   "cell_type": "code",
   "execution_count": 14,
   "id": "50d719c3",
   "metadata": {},
   "outputs": [],
   "source": [
    "from sklearn.linear_model import LinearRegression\n",
    "\n",
    "reg1 = LinearRegression().fit(X_train, y_train)\n",
    "\n",
    "ind2 = np.where([a in ['AGE','NOX','DIS','RAD'] for a in boston_bunch.feature_names])[0]\n",
    "reg2 = LinearRegression().fit(X_train[:,ind2], y_train)\n",
    "\n",
    "import sklearn.preprocessing as prepro\n",
    "poly = prepro.PolynomialFeatures(2)\n",
    "X_train_enhanced = poly.fit_transform(X_train)\n",
    "X_test_enhanced = poly.fit_transform(X_test)\n",
    "reg3 = LinearRegression().fit(X_train_enhanced, y_train)"
   ]
  },
  {
   "cell_type": "markdown",
   "id": "80d8bfd2",
   "metadata": {},
   "source": [
    "## 4.3 (3 pts.)\n",
    "For model assessment, print the following for each of the three models:\n",
    "- The $R^{2}$ of the predictions on the training set.\n",
    "- The $R^{2}$ of the predictions on the test set.\n",
    "- Predicted MEDV for the first five sample points in the test set.\n",
    "- True MEDV for the first five sample points in the test set."
   ]
  },
  {
   "cell_type": "code",
   "execution_count": 15,
   "id": "010135c5",
   "metadata": {
    "scrolled": true
   },
   "outputs": [
    {
     "name": "stdout",
     "output_type": "stream",
     "text": [
      "MODEL 1\n",
      "Training R^2:   0.7679628381299844\n",
      "Test R^2:       0.6848940888411765\n",
      "Predictions:\n",
      " [24.25726341 12.11009855 27.68460646 24.1247323  21.84676907]\n",
      "True:\n",
      " [24.6  5.6 27.1 21.9 20. ] \n",
      "\n",
      "MODEL 2\n",
      "Training R^2:   0.28125855252798593\n",
      "Test R^2:       0.18632959698825236\n",
      "Predictions:\n",
      " [27.98320109 15.51317765 25.38341437 24.12187893 26.39505681]\n",
      "True:\n",
      " [24.6  5.6 27.1 21.9 20. ] \n",
      "\n",
      "MODEL 3\n",
      "Training R^2:   0.9425328444439955\n",
      "Test R^2:       0.8258937549100432\n",
      "Predictions:\n",
      " [26.31024152  6.62266335 28.09554833 19.676503   21.88080508]\n",
      "True:\n",
      " [24.6  5.6 27.1 21.9 20. ] \n",
      "\n"
     ]
    }
   ],
   "source": [
    "print('MODEL 1')\n",
    "print('{:<15} {}'.format('Training R^2:', reg1.score(X_train, y_train)))\n",
    "print('{:<15} {}'.format('Test R^2:', reg1.score(X_test, y_test)))\n",
    "print('Predictions:\\n', reg1.predict(X_test[0:5]))\n",
    "print('True:\\n', y_test[0:5],'\\n')\n",
    "\n",
    "print('MODEL 2')\n",
    "print('{:<15} {}'.format('Training R^2:', reg2.score(X_train[:,ind2], y_train)))\n",
    "print('{:<15} {}'.format('Test R^2:', reg2.score(X_test[:,ind2], y_test)))\n",
    "print('Predictions:\\n', reg2.predict(X_test[0:5,ind2]))\n",
    "print('True:\\n', y_test[0:5],'\\n')\n",
    "\n",
    "print('MODEL 3')\n",
    "print('{:<15} {}'.format('Training R^2:', reg3.score(X_train_enhanced, y_train)))\n",
    "print('{:<15} {}'.format('Test R^2:', reg3.score(X_test_enhanced, y_test)))\n",
    "print('Predictions:\\n', reg3.predict(X_test_enhanced[0:5]))\n",
    "print('True:\\n', y_test[0:5],'\\n')"
   ]
  },
  {
   "cell_type": "markdown",
   "id": "8129b609",
   "metadata": {},
   "source": [
    "## 4.4 (2 pts)\n",
    "Comment on your results in 4.3, which model do you think is the best? Explain your answer."
   ]
  },
  {
   "cell_type": "markdown",
   "id": "217bfb06",
   "metadata": {},
   "source": [
    "### _Answer:_ \n",
    "Judging solely on test $R^2$, Model 3 is the best."
   ]
  },
  {
   "cell_type": "markdown",
   "id": "bf6259f2",
   "metadata": {},
   "source": [
    "## 4.5 (2 pts.)\n",
    "Consider the linear regression model using all original features you built above. Holding all other variables equal, what effect does the model predict that an increase in 0.1 parts per 10 million nitric oxide concentration in a place will have on the median value of of owner-occupied homes in that place? Write code that will return and print the answer."
   ]
  },
  {
   "cell_type": "code",
   "execution_count": 16,
   "id": "58838385",
   "metadata": {},
   "outputs": [
    {
     "name": "stdout",
     "output_type": "stream",
     "text": [
      "Change in value of -1669.1224354213869 USD.\n"
     ]
    }
   ],
   "source": [
    "index = np.where(labels=='NOX')\n",
    "beta = reg1.coef_[index][0]/10\n",
    "print('Change in value of', beta*1000, 'USD.')"
   ]
  }
 ],
 "metadata": {
  "kernelspec": {
   "display_name": "Python 3",
   "language": "python",
   "name": "python3"
  },
  "language_info": {
   "codemirror_mode": {
    "name": "ipython",
    "version": 3
   },
   "file_extension": ".py",
   "mimetype": "text/x-python",
   "name": "python",
   "nbconvert_exporter": "python",
   "pygments_lexer": "ipython3",
   "version": "3.8.8"
  },
  "varInspector": {
   "cols": {
    "lenName": 16,
    "lenType": 16,
    "lenVar": 40
   },
   "kernels_config": {
    "python": {
     "delete_cmd_postfix": "",
     "delete_cmd_prefix": "del ",
     "library": "var_list.py",
     "varRefreshCmd": "print(var_dic_list())"
    },
    "r": {
     "delete_cmd_postfix": ") ",
     "delete_cmd_prefix": "rm(",
     "library": "var_list.r",
     "varRefreshCmd": "cat(var_dic_list()) "
    }
   },
   "types_to_exclude": [
    "module",
    "function",
    "builtin_function_or_method",
    "instance",
    "_Feature"
   ],
   "window_display": false
  }
 },
 "nbformat": 4,
 "nbformat_minor": 5
}
