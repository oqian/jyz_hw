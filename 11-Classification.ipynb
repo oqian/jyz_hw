{
 "cells": [
  {
   "cell_type": "markdown",
   "metadata": {
    "slideshow": {
     "slide_type": "slide"
    }
   },
   "source": [
    "<hr/>\n",
    "\n",
    "# Introduction to Data Science - Fall 2021\n",
    "**Jinchao Feng and Christian Kuemmerle** - introdsfall2021@jh.edu <br/>\n",
    "\n",
    "- Classification problems\n",
    "- Nearest Neighbors (NN, $k$-NN)\n",
    "- Curse of Dimensionality\n",
    "\n",
    "<hr/>"
   ]
  },
  {
   "cell_type": "markdown",
   "metadata": {},
   "source": [
    "### First Midterm\n",
    "\n",
    "  - Results to be published today or tomorrow.\n",
    "  - Curving applied: If $x$ is number of raw points obtained out of $50$, <br>\n",
    " Points (out of 100) for exam: $f(x)=2\\cdot (50^{0.6}\\cdot x^{0.4})$.\n",
    "  - Mean and median: $\\approx 30$ in raw points.\n",
    "  - Mean (in final points): $\\approx 80\\%$,\n",
    "  - Median (in final points): $\\approx 81.5\\%$."
   ]
  },
  {
   "cell_type": "markdown",
   "metadata": {},
   "source": [
    "### Group Projects:\n",
    "\n",
    " - Groups (5-6 students per group) assigned on Wednesday (Oct 13).\n",
    " - More information provided on Wednesday.\n",
    " - Project proposal (2 paragraphs) due on **October 25**."
   ]
  },
  {
   "cell_type": "markdown",
   "metadata": {},
   "source": [
    "#### Recap of last lectures:\n",
    "  - (Bayesian) Inference: **Understand relationship** between variables (predictors, and maybe also response variables) and samples.\n",
    "  - Tools: Prior distribution, likelihood, posterior distribution.\n",
    "\n",
    "> Example: Understand height of women and men in a certain subpopulation.\n",
    "   \n",
    "  - Sampling techniques: Rejection sampling, importance sampling, Metropolis-Hastings,... <br>\n",
    "  Purpose: Approximate \"difficult\" posterior distributions."
   ]
  },
  {
   "cell_type": "markdown",
   "metadata": {},
   "source": [
    "<h1><font color=\"darkblue\">Classification Problems</font></h1>\n",
    "\n",
    "Recall:\n",
    ">|                | Supervised Learning    |         Unsupervised Learning   |\n",
    " |:---------------|:--------------:|:------------------------:|\n",
    " | **Discrete**   | Classification | Clustering               |   \n",
    " | **Continuous** | Regression     | Dimensionality Reduction |\n",
    " \n",
    "Examples for **Regression**:\n",
    "  - Predict house price in a neighborhood based on data from comparable neighborhoods\n",
    "  - Predict disease progression from patient data and blood sample measurements\n",
    "  \n",
    "Examples for **Classification**:\n",
    "  - Detect spam e-mails: Given e-mail, spam yes/no?\n",
    "  - Serological COVID-19 test: Patient previously infected yes/no?\n",
    "  - Recognize digit from image data"
   ]
  },
  {
   "cell_type": "code",
   "execution_count": 1,
   "metadata": {},
   "outputs": [
    {
     "data": {
      "image/png": "[encoded data removed]",
      "text/plain": [
       "<Figure size 720x216 with 10 Axes>"
      ]
     },
     "metadata": {
      "needs_background": "light"
     },
     "output_type": "display_data"
    }
   ],
   "source": [
    "import matplotlib.pyplot as plt\n",
    "from sklearn import datasets\n",
    "digits = datasets.load_digits()\n",
    "_, axes = plt.subplots(nrows=2, ncols=5, figsize=(10, 3))\n",
    "for ax, image, label in zip(axes.reshape(-1), digits.images, digits.target):\n",
    "    ax.set_axis_off()\n",
    "    ax.imshow(image, cmap=plt.cm.gray_r, interpolation='nearest')\n",
    "    ax.set_title('Digit %i' % label)"
   ]
  },
  {
   "cell_type": "markdown",
   "metadata": {
    "slideshow": {
     "slide_type": "slide"
    }
   },
   "source": [
    "### Setup: Classification\n",
    "\n",
    "- Based on a **training set** of labeled points, assign _class labels_ to unknown vectors in the **query/test set**.  \n",
    "\n",
    "> **Training set**\n",
    "><br><br>\n",
    ">$T = \\big\\{ (x_i, y_i) \\big\\}$ where $x_i\\in \\mathbb{R}^d$ and $y_i$ is the known class membership.\n",
    "The class if also often called **label** or **category**.\n",
    ">  - The classes/labels $y_i$ can take only a (small) number of discrete values.\n",
    "\n",
    "Examples:  \n",
    "   - Spam emails: $y_i \\in \\{0, 1\\}$ (**binary classification**): $0$ if no spam, $1$ if spam. <br>\n",
    "   - Digits: $y_i \\in \\{0,1,2,3,4,5,6,7,8,9\\}$ (**multiclass classification**)\n",
    " \n",
    "\n",
    "> **Query/Test set**\n",
    "><br><br>\n",
    ">$Q = \\big\\{ x_i \\big\\}$ where $x_i\\in \\mathbb{R}^d$.\n",
    "\n",
    "Examples:\n",
    "   - Text of incoming emails\n",
    "   - Pixels of digits that have not been recognized yet."
   ]
  },
  {
   "cell_type": "markdown",
   "metadata": {
    "slideshow": {
     "slide_type": "slide"
    }
   },
   "source": [
    "### Classification Methods\n",
    "\n",
    "- **$k$-Nearest Neighbors ($k$-NN)**\n",
    "- Naive Bayes\n",
    "- Linear Discriminant Analysis\n",
    "- Quadratic Discriminant Analysis\n",
    "- Logistic Regression\n",
    "- Decision Trees\n",
    "- Random Forests\n",
    "- Support Vector Machines"
   ]
  },
  {
   "cell_type": "markdown",
   "metadata": {
    "slideshow": {
     "slide_type": "slide"
    }
   },
   "source": [
    "### Example: Iris dataset\n",
    "\n",
    "Recall the [Iris dataset](http://scikit-learn.org/stable/auto_examples/datasets/plot_iris_dataset.html) from Lecture 8 and 9 (08-09-PCABiplots.ipynb)."
   ]
  },
  {
   "cell_type": "code",
   "execution_count": 2,
   "metadata": {},
   "outputs": [
    {
     "name": "stdout",
     "output_type": "stream",
     "text": [
      "<class 'sklearn.utils.Bunch'>\n"
     ]
    },
    {
     "data": {
      "text/plain": [
       "['data',\n",
       " 'target',\n",
       " 'frame',\n",
       " 'target_names',\n",
       " 'DESCR',\n",
       " 'feature_names',\n",
       " 'filename']"
      ]
     },
     "execution_count": 2,
     "metadata": {},
     "output_type": "execute_result"
    }
   ],
   "source": [
    "from sklearn import datasets\n",
    "iris = datasets.load_iris()\n",
    "print(type(iris))\n",
    "[k for k in iris]"
   ]
  },
  {
   "cell_type": "code",
   "execution_count": 3,
   "metadata": {},
   "outputs": [
    {
     "name": "stdout",
     "output_type": "stream",
     "text": [
      "['setosa' 'versicolor' 'virginica']\n",
      "['sepal length (cm)', 'sepal width (cm)', 'petal length (cm)', 'petal width (cm)']\n"
     ]
    }
   ],
   "source": [
    "print(iris.target_names)\n",
    "print(iris.feature_names)"
   ]
  },
  {
   "cell_type": "code",
   "execution_count": 4,
   "metadata": {},
   "outputs": [
    {
     "name": "stdout",
     "output_type": "stream",
     "text": [
      ".. _iris_dataset:\n",
      "\n",
      "Iris plants dataset\n",
      "--------------------\n",
      "\n",
      "**Data Set Characteristics:**\n",
      "\n",
      "    :Number of Instances: 150 (50 in each of three classes)\n",
      "    :Number of Attributes: 4 numeric, predictive attributes and the class\n",
      "    :Attribute Information:\n",
      "        - sepal length in cm\n",
      "        - sepal width in cm\n",
      "        - petal length in cm\n",
      "        - petal width in cm\n",
      "        - class:\n",
      "                - Iris-Setosa\n",
      "                - Iris-Versicolour\n",
      "                - Iris-Virginica\n",
      "                \n",
      "    :Summary Statistics:\n",
      "\n",
      "    ============== ==== ==== ======= ===== ====================\n",
      "                    Min  Max   Mean    SD   Class Correlation\n",
      "    ============== ==== ==== ======= ===== ====================\n",
      "    sepal length:   4.3  7.9   5.84   0.83    0.7826\n",
      "    sepal width:    2.0  4.4   3.05   0.43   -0.4194\n",
      "    petal length:   1.0  6.9   3.76   1.76    0.9490  (high!)\n",
      "    petal width:    0.1  2.5   1.20   0.76    0.9565  (high!)\n",
      "    ============== ==== ==== ======= ===== ====================\n",
      "\n",
      "    :Missing Attribute Values: None\n",
      "    :Class Distribution: 33.3% for each of 3 classes.\n",
      "    :Creator: R.A. Fisher\n",
      "    :Donor: Michael Marshall (MARSHALL%PLU@io.arc.nasa.gov)\n",
      "    :Date: July, 1988\n",
      "\n",
      "The famous Iris database, first used by Sir R.A. Fisher. The dataset is taken\n",
      "from Fisher's paper. Note that it's the same as in R, but not as in the UCI\n",
      "Machine Learning Repository, which has two wrong data points.\n",
      "\n",
      "This is perhaps the best known database to be found in the\n",
      "pattern recognition literature.  Fisher's paper is a classic in the field and\n",
      "is referenced frequently to this day.  (See Duda & Hart, for example.)  The\n",
      "data set contains 3 classes of 50 instances each, where each class refers to a\n",
      "type of iris plant.  One class is linearly separable from the other 2; the\n",
      "latter are NOT linearly separable from each other.\n",
      "\n",
      ".. topic:: References\n",
      "\n",
      "   - Fisher, R.A. \"The use of multiple measurements in taxonomic problems\"\n",
      "     Annual Eugenics, 7, Part II, 179-188 (1936); also in \"Contributions to\n",
      "     Mathematical Statistics\" (John Wiley, NY, 1950).\n",
      "   - Duda, R.O., & Hart, P.E. (1973) Pattern Classification and Scene Analysis.\n",
      "     (Q327.D83) John Wiley & Sons.  ISBN 0-471-22361-1.  See page 218.\n",
      "   - Dasarathy, B.V. (1980) \"Nosing Around the Neighborhood: A New System\n",
      "     Structure and Classification Rule for Recognition in Partially Exposed\n",
      "     Environments\".  IEEE Transactions on Pattern Analysis and Machine\n",
      "     Intelligence, Vol. PAMI-2, No. 1, 67-71.\n",
      "   - Gates, G.W. (1972) \"The Reduced Nearest Neighbor Rule\".  IEEE Transactions\n",
      "     on Information Theory, May 1972, 431-433.\n",
      "   - See also: 1988 MLC Proceedings, 54-64.  Cheeseman et al\"s AUTOCLASS II\n",
      "     conceptual clustering system finds 3 classes in the data.\n",
      "   - Many, many more ...\n"
     ]
    }
   ],
   "source": [
    "print(iris.DESCR)"
   ]
  },
  {
   "cell_type": "code",
   "execution_count": 5,
   "metadata": {},
   "outputs": [
    {
     "name": "stdout",
     "output_type": "stream",
     "text": [
      "<class 'numpy.ndarray'>\n",
      "(150, 4)\n",
      "[[5.1 3.5 1.4 0.2]\n",
      " [4.9 3.  1.4 0.2]\n",
      " [4.7 3.2 1.3 0.2]\n",
      " [4.6 3.1 1.5 0.2]\n",
      " [5.  3.6 1.4 0.2]]\n",
      "[0 0 0 0 0 0 0 0 0 0 0 0 0 0 0 0 0 0 0 0 0 0 0 0 0 0 0 0 0 0 0 0 0 0 0 0 0\n",
      " 0 0 0 0 0 0 0 0 0 0 0 0 0 1 1 1 1 1 1 1 1 1 1 1 1 1 1 1 1 1 1 1 1 1 1 1 1\n",
      " 1 1 1 1 1 1 1 1 1 1 1 1 1 1 1 1 1 1 1 1 1 1 1 1 1 1 2 2 2 2 2 2 2 2 2 2 2\n",
      " 2 2 2 2 2 2 2 2 2 2 2 2 2 2 2 2 2 2 2 2 2 2 2 2 2 2 2 2 2 2 2 2 2 2 2 2 2\n",
      " 2 2]\n"
     ]
    },
    {
     "data": {
      "text/plain": [
       "numpy.ndarray"
      ]
     },
     "execution_count": 5,
     "metadata": {},
     "output_type": "execute_result"
    }
   ],
   "source": [
    "print (type(iris.data))\n",
    "print (iris.data.shape)\n",
    "\n",
    "# have a peek\n",
    "print (iris.data[:5])\n",
    "print (iris.target)\n",
    "type(iris.target_names)"
   ]
  },
  {
   "cell_type": "code",
   "execution_count": 6,
   "metadata": {},
   "outputs": [
    {
     "name": "stdout",
     "output_type": "stream",
     "text": [
      "Number of samples in Iris class 0 : 50 ( setosa )\n",
      "Number of samples in Iris class 1 : 50 ( versicolor )\n",
      "Number of samples in Iris class 2 : 50 ( virginica )\n"
     ]
    }
   ],
   "source": [
    "for i in range(iris.target_names.size):\n",
    "    print(\"Number of samples in Iris class\",i,\": %i\" % (iris.target==0).sum() ,'(',iris.target_names[i],\")\")"
   ]
  },
  {
   "cell_type": "code",
   "execution_count": 7,
   "metadata": {},
   "outputs": [
    {
     "data": {
      "image/png": "[encoded data removed]",
      "text/plain": [
       "<Figure size 864x288 with 2 Axes>"
      ]
     },
     "metadata": {
      "needs_background": "light"
     },
     "output_type": "display_data"
    }
   ],
   "source": [
    "import numpy as np\n",
    "import pandas as pd\n",
    "import matplotlib.pyplot as plt\n",
    "import seaborn as sns # use seaborn for plotting instead of matplotlib (often easier interface)\n",
    "\n",
    "df_iris = pd.DataFrame(iris.data,columns=iris['feature_names']) # define dataframe (easier interface with seaborn)\n",
    "iris.target_class = []\n",
    "for k in range(len(iris.target)): # compute list with label names based on class assignment\n",
    "    iris.target_class.append(iris.target_names[iris.target[k]])\n",
    "df_iris = df_iris.assign(iris_class=iris.target_class)\n",
    "fig, axs = plt.subplots(1, 2,figsize=(12, 4))\n",
    "i,j = 0,1\n",
    "sns.scatterplot(ax=axs[0],data=df_iris, x=iris.feature_names[i],y=iris.feature_names[j],\\\n",
    "                hue= \"iris_class\",palette=\"tab10\")\n",
    "i,j = 0,2\n",
    "sns.scatterplot(ax=axs[1],data=df_iris, x=iris.feature_names[i],y=iris.feature_names[j],\\\n",
    "                hue= \"iris_class\",palette=\"tab10\")\n",
    "plt.show()"
   ]
  },
  {
   "cell_type": "markdown",
   "metadata": {
    "slideshow": {
     "slide_type": "slide"
    }
   },
   "source": [
    "\n",
    "### Nearest Neighbor\n",
    "\n",
    "\n",
    "- Assign label/class of **nearest neighbor** (NN) in the training set\n",
    "\n",
    "> Simple but powerful\n",
    "> <br>\n",
    "> <img src=\"files/KnnClassification.svg\" width=200 align=center>\n",
    "\n",
    "- *Nearest Neighbor*: If $\\{x_1,\\ldots,x_n\\}$ are predictor vectors of training set, the **nearest neighbor** of $v \\in \\mathbb{R}^{d}$ is $x_{\\pi(v)}$ where \n",
    "> $$\\pi(v)  = \\operatorname{argmin}_{i \\in \\{1,\\ldots, n\\}} \\|v-x_i\\|.$$"
   ]
  },
  {
   "cell_type": "code",
   "execution_count": 8,
   "metadata": {},
   "outputs": [
    {
     "name": "stdout",
     "output_type": "stream",
     "text": [
      "Unique classes: [0 1 2]\n"
     ]
    }
   ],
   "source": [
    "import numpy as np\n",
    "X = iris.data[:,:]\n",
    "y = iris.target\n",
    "\n",
    "print ('Unique classes:', np.unique(iris.target))"
   ]
  },
  {
   "cell_type": "code",
   "execution_count": 9,
   "metadata": {},
   "outputs": [],
   "source": [
    "# we implement a simple function that applies classification by the nearest neighbor\n",
    "def NearestNeighborClassify(X,y):\n",
    "    y_pred = -1 * np.ones(X.shape[0]) # initialized y_pred with -1, i.e., a class value that does not exist\n",
    "    for i in np.arange(y.size): \n",
    "        d2min = np.inf  # set d2min to infinty \n",
    "\n",
    "        # loop on training set\n",
    "        for j in np.arange(y.size):\n",
    "            if i != j:               # leave one out\n",
    "                d = X[i,:] - X[j,:]  # compute vector difference between i-th row of X and j-th row of X.\n",
    "                d2 = d.dot(d)        # compute squared length of this vector difference\n",
    "                if d2 < d2min:       # check if closer\n",
    "                    d2min = d2       # if yes, set this distance as the smallest so far \n",
    "                    y_pred[i] = y[j] # ... and assign predicted label accordingly\n",
    "    return y_pred\n",
    "y_pred = NearestNeighborClassify(X,y)"
   ]
  },
  {
   "cell_type": "code",
   "execution_count": 10,
   "metadata": {},
   "outputs": [
    {
     "name": "stdout",
     "output_type": "stream",
     "text": [
      "Number of mislabeled points out of a total 150 points: 6\n",
      "Number of correctly labeled points out of a total 150 points: 144\n"
     ]
    }
   ],
   "source": [
    "print (\"Number of mislabeled points out of a total %d points: %d\" \n",
    "       % (iris.target.size, (y!=y_pred).sum()))\n",
    "print (\"Number of correctly labeled points out of a total %d points: %d\" \n",
    "       % (iris.target.size, (y==y_pred).sum()))"
   ]
  },
  {
   "cell_type": "markdown",
   "metadata": {
    "slideshow": {
     "slide_type": "slide"
    }
   },
   "source": [
    "### $k$ Nearest Neighbors\n",
    "\n",
    "- Assign label/class based the **$k$ nearest neighbors** ($k$-NN) in the training set, where $k \\in \\mathbb{N}$ that is fixed.\n",
    "\n",
    "> For example, the most frequent \"vote\" <br/> possibly with weighting\n",
    "> <br>\n",
    "> <img src=\"files/KnnClassification.svg\" width=200>\n",
    "\n",
    "#### Outline of $k$-nearest neighbor classification\n",
    "- Input: $\\{x_1,\\ldots,x_n\\}$ are predictor vectors of training set, training labels $(y_1,\\ldots,y_n)$, predictor vector $x$ of sample to be classified, parameter $k$.\n",
    "\n",
    "If $\\pi_i(x)$ is index of $i$-th closest vector $x_i$ of $x$ among $\\{x_1,\\ldots,x_n\\}$, then set $y_{\\text{pred}}$ as the majority label among $\\{y_{\\pi_1(x)},y_{\\pi_2(x)},\\ldots,y_{\\pi_k(x)}\\}$.\n",
    "\n",
    "- Output: Predicted label $y_{\\text{pred}}$ of $x$."
   ]
  },
  {
   "cell_type": "markdown",
   "metadata": {},
   "source": [
    "We can also use the k-nearest neighbors classifier of [sklearn.neighbors.KNeighborsClassifier](https://scikit-learn.org/stable/modules/generated/sklearn.neighbors.KNeighborsClassifier.html)."
   ]
  },
  {
   "cell_type": "code",
   "execution_count": 11,
   "metadata": {
    "slideshow": {
     "slide_type": "slide"
    }
   },
   "outputs": [
    {
     "name": "stdout",
     "output_type": "stream",
     "text": [
      "Number of mislabeled points out of a total 150 points: 3\n"
     ]
    }
   ],
   "source": [
    "from sklearn.neighbors import KNeighborsClassifier\n",
    "k = 20\n",
    "d = 4\n",
    "X = iris.data[:,:d] # using only the first d features\n",
    "y = iris.target\n",
    "knn = KNeighborsClassifier(n_neighbors=k)\n",
    "knn.fit(X,y)\n",
    "y_pred = knn.predict(X)\n",
    "\n",
    "print(\"Number of mislabeled points out of a total %d points: %d\"\n",
    "      % (iris.target.size, (iris.target!=y_pred).sum()))"
   ]
  },
  {
   "cell_type": "markdown",
   "metadata": {},
   "source": [
    "### Where did we \"cheat\"?\n",
    "\n",
    "- Can you spot the problem with the setup above?"
   ]
  },
  {
   "cell_type": "markdown",
   "metadata": {},
   "source": [
    "### Exercise / Unhomework \n",
    "\n",
    "- Implement a function that performs $k$-nearest neighbor classification (without using sklearn)."
   ]
  },
  {
   "cell_type": "markdown",
   "metadata": {},
   "source": [
    "### Create classification maps\n",
    "To obtain a feeling about what the classifier do, we create classification maps\n",
    "for different algorithmic parameters (nr. of neighbors considered for KNeighborsClassifier). Since we will call this piece of code several times, we write a function for this.\n",
    "\n",
    "- Create a mesh of points with resolution $h$\n",
    "- Plot classification results for each grid point based on training data\n",
    "- Visualize results\n",
    "- Do it for different $k$NN classifiers"
   ]
  },
  {
   "cell_type": "code",
   "execution_count": 12,
   "metadata": {},
   "outputs": [
    {
     "name": "stdout",
     "output_type": "stream",
     "text": [
      "[[1 2 3]\n",
      " [1 2 3]]\n",
      "[[10 10 10]\n",
      " [20 20 20]]\n"
     ]
    }
   ],
   "source": [
    "# creating a grid of points \n",
    "gx,gy = np.meshgrid([1,2,3], [10,20])\n",
    "print (gx)\n",
    "print (gy)"
   ]
  },
  {
   "cell_type": "code",
   "execution_count": 13,
   "metadata": {},
   "outputs": [
    {
     "data": {
      "text/plain": [
       "(array([1, 2, 3, 1, 2, 3]),)"
      ]
     },
     "execution_count": 13,
     "metadata": {},
     "output_type": "execute_result"
    }
   ],
   "source": [
    "gx.ravel(),"
   ]
  },
  {
   "cell_type": "code",
   "execution_count": 14,
   "metadata": {},
   "outputs": [
    {
     "data": {
      "text/plain": [
       "array([[ 1, 10],\n",
       "       [ 2, 10],\n",
       "       [ 3, 10],\n",
       "       [ 1, 20],\n",
       "       [ 2, 20],\n",
       "       [ 3, 20]])"
      ]
     },
     "execution_count": 14,
     "metadata": {},
     "output_type": "execute_result"
    }
   ],
   "source": [
    "np.c_[gx.ravel(), gy.ravel()]"
   ]
  },
  {
   "cell_type": "code",
   "execution_count": 15,
   "metadata": {},
   "outputs": [],
   "source": [
    "def classification_map(X,y,classifier,i=0,j=1,X_test=None,y_test=None,h=0.1):\n",
    "    '''\n",
    "    h: step size in the mesh\n",
    "    i: first feature number to be plotted\n",
    "    j: second feature number to be plotted\n",
    "    '''\n",
    "    import matplotlib.pyplot as plt\n",
    "    from matplotlib.colors import ListedColormap\n",
    "    cmap_light = ListedColormap(['#FFBBBB', '#BBFFBB', '#BBBBFF'])\n",
    "    cmap_bold = ListedColormap(['#CC0000', '#00AA00', '#0000CC'])\n",
    "# Points in a mesh of [x_min, m_max] x [y_min, y_max]\n",
    "    x_min, x_max = X[:,i].min()-1, X[:,i].max()+1\n",
    "    y_min, y_max = X[:,j].min()-1, X[:,j].max()+1\n",
    "    xx, yy = np.meshgrid(np.arange(x_min, x_max, h),\n",
    "                         np.arange(y_min, y_max, h))\n",
    "    grid = np.c_[xx.ravel(), yy.ravel()]\n",
    "    classifier.fit(X,y)\n",
    "    Z = classifier.predict(grid)\n",
    "    \n",
    "    # Put the result into a color plot\n",
    "    Z = Z.reshape(xx.shape)\n",
    "    fig = plt.figure(figsize=(5,5))\n",
    "    if False:\n",
    "        plt.scatter(xx, yy, c=Z, cmap=cmap_light, edgecolor='none')\n",
    "    else:\n",
    "        plt.pcolormesh(xx, yy, Z, cmap=cmap_light,shading='auto')\n",
    "    # Plot also the training points\n",
    "    plt.scatter(X[:,i], X[:,j], c=y, cmap=cmap_bold)\n",
    "    plt.xlim(xx.min(), xx.max())\n",
    "    plt.ylim(yy.min(), yy.max())\n",
    "    plt.title(\"3-Class classification with classifier \"+str(classifier))\n",
    "    if not X_test is None and not y_test is None: # if test set features are provided, overlay classified labels on test set as well\n",
    "        plt.scatter(X_test[:,i], X_test[:,j], c=y_test,cmap=cmap_bold,marker=\"x\")\n",
    "    ax=plt.gca()\n",
    "    ax.legend([\"training data\",\"test data\"],loc=0,fontsize=8)\n",
    "    \n",
    "    return fig"
   ]
  },
  {
   "cell_type": "markdown",
   "metadata": {},
   "source": [
    "We now seperate the Iris data into training and test set, as usual, using [sklearn.model_selection.train_test_split](https://scikit-learn.org/stable/modules/generated/sklearn.model_selection.train_test_split.html?highlight=train_#sklearn.model_selection.train_test_split). <br>\n",
    "_Note:_ Might use optional parameter \"stratify\" to obtain splits with balanced class label memberships."
   ]
  },
  {
   "cell_type": "code",
   "execution_count": 16,
   "metadata": {},
   "outputs": [
    {
     "name": "stdout",
     "output_type": "stream",
     "text": [
      "40\n",
      "40\n",
      "40\n"
     ]
    }
   ],
   "source": [
    "from sklearn.model_selection import train_test_split\n",
    "X_train, X_test, y_train, y_test = train_test_split(X,y,random_state=10,\n",
    "                                                    test_size=0.2,stratify=y)\n",
    "print(np.sum(y_train==0))\n",
    "print(np.sum(y_train==1))\n",
    "print(np.sum(y_train==2))"
   ]
  },
  {
   "cell_type": "markdown",
   "metadata": {},
   "source": [
    "Without stratify:"
   ]
  },
  {
   "cell_type": "code",
   "execution_count": 17,
   "metadata": {},
   "outputs": [
    {
     "name": "stdout",
     "output_type": "stream",
     "text": [
      "40\n",
      "37\n",
      "43\n"
     ]
    }
   ],
   "source": [
    "X_train1, X_test1, y_train1, y_test1 = train_test_split(X,y,random_state=10,\n",
    "                                                    test_size=0.2)\n",
    "print(np.sum(y_train1==0))\n",
    "print(np.sum(y_train1==1))\n",
    "print(np.sum(y_train1==2))"
   ]
  },
  {
   "cell_type": "code",
   "execution_count": 18,
   "metadata": {},
   "outputs": [
    {
     "data": {
      "image/png": "[encoded data removed]",
      "text/plain": [
       "<Figure size 360x360 with 1 Axes>"
      ]
     },
     "metadata": {
      "needs_background": "light"
     },
     "output_type": "display_data"
    }
   ],
   "source": [
    "k = 1\n",
    "import matplotlib.pyplot as plt\n",
    "features = [0,1] # subset of selected features\n",
    "knn = KNeighborsClassifier(n_neighbors=k)\n",
    "classification_map(X_train[:,features],y_train,knn)\n",
    "plt.xlabel(iris.feature_names[features[0]])\n",
    "plt.ylabel(iris.feature_names[features[1]])\n",
    "plt.show()"
   ]
  },
  {
   "cell_type": "markdown",
   "metadata": {},
   "source": [
    "Note: We did not use all 4 features to \"train\" the $k$-NN classifier, but only 2.\n",
    "\n",
    "We now add the test data, and evaluate our predictions."
   ]
  },
  {
   "cell_type": "code",
   "execution_count": 19,
   "metadata": {},
   "outputs": [
    {
     "data": {
      "image/png": "[encoded data removed]",
      "text/plain": [
       "<Figure size 360x360 with 1 Axes>"
      ]
     },
     "metadata": {
      "needs_background": "light"
     },
     "output_type": "display_data"
    }
   ],
   "source": [
    "classification_map(X_train[:,features],y_train,knn,X_test=X_test[:,features],y_test=y_test)\n",
    "plt.xlabel(iris.feature_names[features[0]])\n",
    "plt.ylabel(iris.feature_names[features[1]])\n",
    "plt.show()"
   ]
  },
  {
   "cell_type": "code",
   "execution_count": 20,
   "metadata": {},
   "outputs": [
    {
     "name": "stdout",
     "output_type": "stream",
     "text": [
      "Prediction accuracy for KNeighborsClassifier(n_neighbors=1) on the training set: 0.925000\n",
      "Prediction accuracy for KNeighborsClassifier(n_neighbors=1) on the test set: 0.666667\n"
     ]
    }
   ],
   "source": [
    "print(\"Prediction accuracy for\",str(knn),\"on the training set: %f\" % knn.score(X_train[:,features],y_train))\n",
    "print(\"Prediction accuracy for\",str(knn),\"on the test set: %f\" % knn.score(X_test[:,features],y_test))"
   ]
  },
  {
   "cell_type": "markdown",
   "metadata": {},
   "source": [
    "This \"score\" corresponds to the [accuracy score](https://scikit-learn.org/stable/modules/model_evaluation.html#accuracy-score), which is often used to assess prediction in classification problems. It represents to the fraction of correctly labeled samples. See also [sklearn.metrics.accuracy_score](https://scikit-learn.org/stable/modules/generated/sklearn.metrics.accuracy_score.html#sklearn.metrics.accuracy_score)."
   ]
  },
  {
   "cell_type": "markdown",
   "metadata": {},
   "source": [
    "### Exercise / Unhomework \n",
    "\n",
    "- Which two features work best to predict the classes of the iris dataset? Which $k$ works best?"
   ]
  },
  {
   "cell_type": "markdown",
   "metadata": {},
   "source": [
    "Now, we use _all four_ features and perform classification by $k$-NN, despite visualization being difficult."
   ]
  },
  {
   "cell_type": "code",
   "execution_count": 21,
   "metadata": {},
   "outputs": [
    {
     "name": "stdout",
     "output_type": "stream",
     "text": [
      "Prediction accuracy for KNeighborsClassifier(n_neighbors=1) on the training set: 1.000000\n",
      "Prediction accuracy for KNeighborsClassifier(n_neighbors=1) on the test set: 1.000000\n",
      "Prediction accuracy for KNeighborsClassifier(n_neighbors=6) on the training set: 0.966667\n",
      "Prediction accuracy for KNeighborsClassifier(n_neighbors=6) on the test set: 1.000000\n",
      "Prediction accuracy for KNeighborsClassifier(n_neighbors=30) on the training set: 0.941667\n",
      "Prediction accuracy for KNeighborsClassifier(n_neighbors=30) on the test set: 0.966667\n"
     ]
    }
   ],
   "source": [
    "knnall = KNeighborsClassifier(n_neighbors=k)\n",
    "knnall.fit(X_train, y_train)\n",
    "print(\"Prediction accuracy for\",str(knnall),\"on the training set: %f\" % knnall.score(X_train,y_train))\n",
    "print(\"Prediction accuracy for\",str(knnall),\"on the test set: %f\" % knnall.score(X_test,y_test))\n",
    "k = 6\n",
    "knnall6 = KNeighborsClassifier(n_neighbors=k)\n",
    "knnall6.fit(X_train, y_train)\n",
    "print(\"Prediction accuracy for\",str(knnall6),\"on the training set: %f\" % knnall6.score(X_train,y_train))\n",
    "print(\"Prediction accuracy for\",str(knnall6),\"on the test set: %f\" % knnall6.score(X_test,y_test))\n",
    "k = 30\n",
    "knnall30 = KNeighborsClassifier(n_neighbors=k)\n",
    "knnall30.fit(X_train, y_train)\n",
    "print(\"Prediction accuracy for\",str(knnall30),\"on the training set: %f\" % knnall30.score(X_train,y_train))\n",
    "print(\"Prediction accuracy for\",str(knnall30),\"on the test set: %f\" % knnall30.score(X_test,y_test))"
   ]
  },
  {
   "cell_type": "markdown",
   "metadata": {},
   "source": [
    "A helpful tool to visually evaluate the performance of classifiers for a given dataset is the [confusion matrix](https://scikit-learn.org/stable/modules/model_evaluation.html#confusion-matrix). It presents the counts of how many true labels were correctly predicted, and which classes were wrongly predicted in case the prediction was not correct."
   ]
  },
  {
   "cell_type": "code",
   "execution_count": 22,
   "metadata": {},
   "outputs": [
    {
     "data": {
      "text/plain": [
       "array(['setosa', 'versicolor', 'virginica'], dtype='<U10')"
      ]
     },
     "execution_count": 22,
     "metadata": {},
     "output_type": "execute_result"
    }
   ],
   "source": [
    "iris['target_names']"
   ]
  },
  {
   "cell_type": "code",
   "execution_count": 23,
   "metadata": {},
   "outputs": [
    {
     "name": "stdout",
     "output_type": "stream",
     "text": [
      "['setosa' 'versicolor' 'virginica']\n"
     ]
    },
    {
     "data": {
      "text/plain": [
       "<sklearn.metrics._plot.confusion_matrix.ConfusionMatrixDisplay at 0x7f8bf527a5e0>"
      ]
     },
     "execution_count": 23,
     "metadata": {},
     "output_type": "execute_result"
    },
    {
     "data": {
      "image/png": "[encoded data removed]",
      "text/plain": [
       "<Figure size 432x288 with 2 Axes>"
      ]
     },
     "metadata": {
      "needs_background": "light"
     },
     "output_type": "display_data"
    },
    {
     "data": {
      "image/png": "[encoded data removed]",
      "text/plain": [
       "<Figure size 432x288 with 2 Axes>"
      ]
     },
     "metadata": {
      "needs_background": "light"
     },
     "output_type": "display_data"
    },
    {
     "data": {
      "image/png": "[encoded data removed]",
      "text/plain": [
       "<Figure size 432x288 with 2 Axes>"
      ]
     },
     "metadata": {
      "needs_background": "light"
     },
     "output_type": "display_data"
    },
    {
     "data": {
      "image/png": "[encoded data removed]",
      "text/plain": [
       "<Figure size 432x288 with 2 Axes>"
      ]
     },
     "metadata": {
      "needs_background": "light"
     },
     "output_type": "display_data"
    }
   ],
   "source": [
    "from sklearn import metrics\n",
    "print (iris['target_names'])\n",
    "metrics.plot_confusion_matrix(knn,X_test[:,features],y_test)\n",
    "ax = plt.gca()\n",
    "ax.set_xticklabels(iris['target_names'])\n",
    "ax.set_yticklabels(iris['target_names'])                  \n",
    "metrics.plot_confusion_matrix(knnall,X_test,y_test)\n",
    "ax = plt.gca()\n",
    "ax.set_xticklabels(iris['target_names'])\n",
    "ax.set_yticklabels(iris['target_names'])\n",
    "metrics.plot_confusion_matrix(knnall6,X_test,y_test)\n",
    "metrics.plot_confusion_matrix(knnall30,X_test,y_test)"
   ]
  },
  {
   "cell_type": "markdown",
   "metadata": {
    "slideshow": {
     "slide_type": "slide"
    }
   },
   "source": [
    "#### Meaningful Distance?\n",
    "\n",
    "- $k$-NN requires a distance function.\n",
    "\n",
    ">   - Euclidean distance in $\\mathbb{R}^d$ (as above)\n",
    ">   - $\\ell_1$-distance (\"Manhattan\" distance)\n",
    ">   - or others.\n",
    "\n",
    "- Problem with features of different scales.\n",
    "\n",
    "> In practice, (centering) and **scaling** often helps.\n"
   ]
  },
  {
   "cell_type": "markdown",
   "metadata": {},
   "source": [
    "### Strengths and weaknesses of $k$-nearest neighbors\n",
    "\n",
    "  **+** $k$-NN is a *local* method, and is very simple. <br>\n",
    "  **+** Often good baseline <br>\n",
    "  **-** Can be computationally very demanding (needs $n d$ pairwise distances) <br>\n",
    "  **-** Suffers from *curse of dimensionality* if $d$ is large."
   ]
  },
  {
   "cell_type": "markdown",
   "metadata": {
    "slideshow": {
     "slide_type": "slide"
    }
   },
   "source": [
    "# Curse of Dimensionality\n",
    "\n",
    "- Everybody is lonely in high dimensions!"
   ]
  },
  {
   "cell_type": "markdown",
   "metadata": {},
   "source": [
    "### Fewer points per unit cell/ unit volume if $d$ large"
   ]
  },
  {
   "cell_type": "code",
   "execution_count": 24,
   "metadata": {},
   "outputs": [
    {
     "data": {
      "image/png": "[encoded data removed]",
      "text/plain": [
       "<Figure size 432x72 with 1 Axes>"
      ]
     },
     "metadata": {
      "needs_background": "light"
     },
     "output_type": "display_data"
    }
   ],
   "source": [
    "import matplotlib.pyplot as plt\n",
    "import random\n",
    "from scipy import stats\n",
    "import numpy as np\n",
    "\n",
    "n = 50\n",
    "fig = plt.figure(figsize=(6,1))\n",
    "ax  = plt.gca()\n",
    "x = stats.uniform.rvs(loc=0,scale=10, size=n) \n",
    "y = [0 for xval in x]\n",
    "plt.scatter(x, y)\n",
    "for grid_pt in [2, 4, 6, 8]:\n",
    "    plt.axvline(x=grid_pt, color='grey')\n",
    "ax.set_xlim((0,10))\n",
    "ax.set_xlabel(\"Dimension $d=1$\", fontsize=14)\n",
    "ax.set_ylabel(\"\")\n",
    "plt.yticks([], [])\n",
    "plt.title([\"d=1: \"+str(n/5)+\" samples per cell\"])\n",
    "plt.show()"
   ]
  },
  {
   "cell_type": "code",
   "execution_count": 25,
   "metadata": {},
   "outputs": [
    {
     "data": {
      "text/plain": [
       "Text(0.5, 1.0, \"['d=2: 2.0 samples per cell']\")"
      ]
     },
     "execution_count": 25,
     "metadata": {},
     "output_type": "execute_result"
    },
    {
     "data": {
      "image/png": "[encoded data removed]",
      "text/plain": [
       "<Figure size 360x360 with 1 Axes>"
      ]
     },
     "metadata": {
      "needs_background": "light"
     },
     "output_type": "display_data"
    }
   ],
   "source": [
    "\n",
    "y = stats.uniform.rvs(loc=0,scale=10, size=n)\n",
    "fig = plt.figure(figsize=(5,5))\n",
    "ax  = plt.gca()\n",
    "y = stats.uniform.rvs(loc=0,scale=10, size=n) \n",
    "plt.scatter(x, y)\n",
    "plt.grid()\n",
    "plt.title([\"d=2: \"+str(n/(5*5))+\" samples per cell\"])"
   ]
  },
  {
   "cell_type": "markdown",
   "metadata": {},
   "source": [
    "### Average distance between random points gets large"
   ]
  },
  {
   "cell_type": "code",
   "execution_count": 26,
   "metadata": {},
   "outputs": [],
   "source": [
    "n = 500\n",
    "d = 1\n",
    "X = stats.uniform.rvs(loc=-1,scale=2, size=(d,n))"
   ]
  },
  {
   "cell_type": "code",
   "execution_count": 27,
   "metadata": {},
   "outputs": [],
   "source": [
    "Mat_sq = np.sum(np.square(X),0).reshape(1,-1) + np.sum(np.square(X),0).reshape(-1,1)-  2*X.T@(X)\n",
    "Distfct = lambda X:  np.sqrt(np.max(np.sum(np.square(X),0).reshape(1,-1) + np.sum(np.square(X),0).reshape(-1,1)-  2*X.T@(X),0))"
   ]
  },
  {
   "cell_type": "code",
   "execution_count": 28,
   "metadata": {},
   "outputs": [],
   "source": [
    "# this formula computes a matrix Dist with Dist(i,j) = \\|x_i,x_j\\|_2^2\n",
    "Dist = Distfct(X)"
   ]
  },
  {
   "cell_type": "code",
   "execution_count": 29,
   "metadata": {},
   "outputs": [
    {
     "data": {
      "image/png": "[encoded data removed]",
      "text/plain": [
       "<Figure size 432x288 with 1 Axes>"
      ]
     },
     "metadata": {
      "needs_background": "light"
     },
     "output_type": "display_data"
    }
   ],
   "source": [
    "plt.figure()\n",
    "plt.hist(Dist[:]/np.sqrt(d))\n",
    "plt.title([\"Histogram of pairwise distances for random points in unit cube in $d=$\",d])\n",
    "plt.show()"
   ]
  },
  {
   "cell_type": "code",
   "execution_count": 30,
   "metadata": {},
   "outputs": [
    {
     "data": {
      "image/png": "[encoded data removed]",
      "text/plain": [
       "<Figure size 432x288 with 1 Axes>"
      ]
     },
     "metadata": {
      "needs_background": "light"
     },
     "output_type": "display_data"
    }
   ],
   "source": [
    "d=100\n",
    "X = stats.uniform.rvs(loc=0,scale=1, size=(d,n))\n",
    "Dist = Distfct(X)\n",
    "plt.figure()\n",
    "plt.hist(Dist[:]/np.sqrt(d),bins=100)\n",
    "plt.title([\"Histogram of pairwise distances for random points in unit cube in $d=$\",d])\n",
    "plt.show()"
   ]
  },
  {
   "cell_type": "markdown",
   "metadata": {},
   "source": [
    "We observe that for uniform random points, the resulting pairwise distances are quite spread out for $d=1$ or other small dimensions. Large dimension such as $d=100$ or larger, pairwise distances are very close to each other!\n",
    "\n",
    "**Curse of dimensionality**, much unintuitive behavior in large dimensions."
   ]
  }
 ],
 "metadata": {
  "anaconda-cloud": {},
  "kernelspec": {
   "display_name": "Python 3",
   "language": "python",
   "name": "python3"
  },
  "language_info": {
   "codemirror_mode": {
    "name": "ipython",
    "version": 3
   },
   "file_extension": ".py",
   "mimetype": "text/x-python",
   "name": "python",
   "nbconvert_exporter": "python",
   "pygments_lexer": "ipython3",
   "version": "3.8.8"
  },
  "varInspector": {
   "cols": {
    "lenName": 16,
    "lenType": 16,
    "lenVar": 40
   },
   "kernels_config": {
    "python": {
     "delete_cmd_postfix": "",
     "delete_cmd_prefix": "del ",
     "library": "var_list.py",
     "varRefreshCmd": "print(var_dic_list())"
    },
    "r": {
     "delete_cmd_postfix": ") ",
     "delete_cmd_prefix": "rm(",
     "library": "var_list.r",
     "varRefreshCmd": "cat(var_dic_list()) "
    }
   },
   "types_to_exclude": [
    "module",
    "function",
    "builtin_function_or_method",
    "instance",
    "_Feature"
   ],
   "window_display": false
  }
 },
 "nbformat": 4,
 "nbformat_minor": 4
}
