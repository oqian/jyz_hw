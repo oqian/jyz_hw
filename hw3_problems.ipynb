{
 "cells": [
  {
   "cell_type": "markdown",
   "id": "69b29ed5",
   "metadata": {},
   "source": [
    "# Homework 3 - Introduction to Data Science - Fall 2021"
   ]
  },
  {
   "cell_type": "markdown",
   "id": "3a4082aa",
   "metadata": {},
   "source": [
    "# Guidelines\n",
    "- If asked to fit a model to given data, do not preprocess the given data before fitting. \n",
    "- Use default values for any parameters not mentioned in a problem statement.\n",
    "- Comment where appropriate for clarity."
   ]
  },
  {
   "cell_type": "markdown",
   "id": "f355f89a",
   "metadata": {},
   "source": [
    "# Problem 1"
   ]
  },
  {
   "cell_type": "markdown",
   "id": "944ab4d2",
   "metadata": {},
   "source": [
    "We will apply decision trees to the `Titanic` dataset for prediction of passenger survival. The dataset contains the following variables:\n",
    "\n",
    "* `Pclass`: Ticket class where 1 = 1st, 2 = 2nd, 3 = 3rd\n",
    "* `Sex`: Female/male\n",
    "* `Embarked`: Port of Embarkation where C = Cherbourg, Q = Queenstown, S = Southampton\n",
    "* `SibSp`: Number of siblings\n",
    "* `Parch`: Number of parents\n",
    "* `Age`: Age in years\t\n",
    "* `Fare`: Passenger fare\t\n",
    "* `Survived`: 0 = No, 1 = Yes"
   ]
  },
  {
   "cell_type": "code",
   "execution_count": 80,
   "id": "382bf811",
   "metadata": {
    "scrolled": true
   },
   "outputs": [
    {
     "data": {
      "text/html": [
       "<div>\n",
       "<style scoped>\n",
       "    .dataframe tbody tr th:only-of-type {\n",
       "        vertical-align: middle;\n",
       "    }\n",
       "\n",
       "    .dataframe tbody tr th {\n",
       "        vertical-align: top;\n",
       "    }\n",
       "\n",
       "    .dataframe thead th {\n",
       "        text-align: right;\n",
       "    }\n",
       "</style>\n",
       "<table border=\"1\" class=\"dataframe\">\n",
       "  <thead>\n",
       "    <tr style=\"text-align: right;\">\n",
       "      <th></th>\n",
       "      <th>Pclass</th>\n",
       "      <th>Sex</th>\n",
       "      <th>Embarked</th>\n",
       "      <th>SibSp</th>\n",
       "      <th>Parch</th>\n",
       "      <th>Age</th>\n",
       "      <th>Fare</th>\n",
       "      <th>Survived</th>\n",
       "    </tr>\n",
       "  </thead>\n",
       "  <tbody>\n",
       "    <tr>\n",
       "      <th>0</th>\n",
       "      <td>3</td>\n",
       "      <td>1</td>\n",
       "      <td>1</td>\n",
       "      <td>1</td>\n",
       "      <td>0</td>\n",
       "      <td>22.0</td>\n",
       "      <td>7.2500</td>\n",
       "      <td>0</td>\n",
       "    </tr>\n",
       "    <tr>\n",
       "      <th>1</th>\n",
       "      <td>1</td>\n",
       "      <td>0</td>\n",
       "      <td>2</td>\n",
       "      <td>1</td>\n",
       "      <td>0</td>\n",
       "      <td>38.0</td>\n",
       "      <td>71.2833</td>\n",
       "      <td>1</td>\n",
       "    </tr>\n",
       "    <tr>\n",
       "      <th>2</th>\n",
       "      <td>3</td>\n",
       "      <td>0</td>\n",
       "      <td>1</td>\n",
       "      <td>0</td>\n",
       "      <td>0</td>\n",
       "      <td>26.0</td>\n",
       "      <td>7.9250</td>\n",
       "      <td>1</td>\n",
       "    </tr>\n",
       "    <tr>\n",
       "      <th>3</th>\n",
       "      <td>1</td>\n",
       "      <td>0</td>\n",
       "      <td>1</td>\n",
       "      <td>1</td>\n",
       "      <td>0</td>\n",
       "      <td>35.0</td>\n",
       "      <td>53.1000</td>\n",
       "      <td>1</td>\n",
       "    </tr>\n",
       "    <tr>\n",
       "      <th>4</th>\n",
       "      <td>3</td>\n",
       "      <td>1</td>\n",
       "      <td>1</td>\n",
       "      <td>0</td>\n",
       "      <td>0</td>\n",
       "      <td>35.0</td>\n",
       "      <td>8.0500</td>\n",
       "      <td>0</td>\n",
       "    </tr>\n",
       "    <tr>\n",
       "      <th>...</th>\n",
       "      <td>...</td>\n",
       "      <td>...</td>\n",
       "      <td>...</td>\n",
       "      <td>...</td>\n",
       "      <td>...</td>\n",
       "      <td>...</td>\n",
       "      <td>...</td>\n",
       "      <td>...</td>\n",
       "    </tr>\n",
       "    <tr>\n",
       "      <th>886</th>\n",
       "      <td>2</td>\n",
       "      <td>1</td>\n",
       "      <td>1</td>\n",
       "      <td>0</td>\n",
       "      <td>0</td>\n",
       "      <td>27.0</td>\n",
       "      <td>13.0000</td>\n",
       "      <td>0</td>\n",
       "    </tr>\n",
       "    <tr>\n",
       "      <th>887</th>\n",
       "      <td>1</td>\n",
       "      <td>0</td>\n",
       "      <td>1</td>\n",
       "      <td>0</td>\n",
       "      <td>0</td>\n",
       "      <td>19.0</td>\n",
       "      <td>30.0000</td>\n",
       "      <td>1</td>\n",
       "    </tr>\n",
       "    <tr>\n",
       "      <th>888</th>\n",
       "      <td>3</td>\n",
       "      <td>0</td>\n",
       "      <td>1</td>\n",
       "      <td>1</td>\n",
       "      <td>2</td>\n",
       "      <td>28.0</td>\n",
       "      <td>23.4500</td>\n",
       "      <td>0</td>\n",
       "    </tr>\n",
       "    <tr>\n",
       "      <th>889</th>\n",
       "      <td>1</td>\n",
       "      <td>1</td>\n",
       "      <td>2</td>\n",
       "      <td>0</td>\n",
       "      <td>0</td>\n",
       "      <td>26.0</td>\n",
       "      <td>30.0000</td>\n",
       "      <td>1</td>\n",
       "    </tr>\n",
       "    <tr>\n",
       "      <th>890</th>\n",
       "      <td>3</td>\n",
       "      <td>1</td>\n",
       "      <td>3</td>\n",
       "      <td>0</td>\n",
       "      <td>0</td>\n",
       "      <td>32.0</td>\n",
       "      <td>7.7500</td>\n",
       "      <td>0</td>\n",
       "    </tr>\n",
       "  </tbody>\n",
       "</table>\n",
       "<p>891 rows × 8 columns</p>\n",
       "</div>"
      ],
      "text/plain": [
       "     Pclass  Sex  Embarked  SibSp  Parch   Age     Fare  Survived\n",
       "0         3    1         1      1      0  22.0   7.2500         0\n",
       "1         1    0         2      1      0  38.0  71.2833         1\n",
       "2         3    0         1      0      0  26.0   7.9250         1\n",
       "3         1    0         1      1      0  35.0  53.1000         1\n",
       "4         3    1         1      0      0  35.0   8.0500         0\n",
       "..      ...  ...       ...    ...    ...   ...      ...       ...\n",
       "886       2    1         1      0      0  27.0  13.0000         0\n",
       "887       1    0         1      0      0  19.0  30.0000         1\n",
       "888       3    0         1      1      2  28.0  23.4500         0\n",
       "889       1    1         2      0      0  26.0  30.0000         1\n",
       "890       3    1         3      0      0  32.0   7.7500         0\n",
       "\n",
       "[891 rows x 8 columns]"
      ]
     },
     "execution_count": 80,
     "metadata": {},
     "output_type": "execute_result"
    }
   ],
   "source": [
    "import pandas as pd\n",
    "\n",
    "titanic = pd.read_csv(\"titanic.csv\")\n",
    "\n",
    "# Select subset of columns.\n",
    "columns = ['Pclass', 'Sex','Embarked','SibSp', 'Parch','Age','Fare','Survived']\n",
    "titanic = titanic[columns]\n",
    "\n",
    "# Fill NA values.\n",
    "titanic['Embarked'].fillna(\"S\", inplace=True)\n",
    "med_age = int(titanic['Age'].median())\n",
    "titanic['Age'].fillna(med_age, inplace=True)\n",
    "\n",
    "# Encode classes as integers.\n",
    "titanic['Sex'] = titanic['Sex'].map( {'female': 0, 'male': 1} ).astype(int)\n",
    "titanic['Embarked'] = titanic['Embarked'].map( {'S': 1, 'C': 2, 'Q': 3} ).astype(int)\n",
    "\n",
    "# Print.\n",
    "titanic"
   ]
  },
  {
   "cell_type": "code",
   "execution_count": 4,
   "id": "6008d0dd",
   "metadata": {},
   "outputs": [],
   "source": [
    "from sklearn.model_selection import train_test_split\n",
    "\n",
    "# Test/train split.\n",
    "X_titan = titanic.drop('Survived', axis = 1)\n",
    "y_titan = titanic[['Survived']]\n",
    "X_titan_train, X_titan_test, y_titan_train, y_titan_test = train_test_split(X_titan, y_titan, test_size=1/3, random_state=42)"
   ]
  },
  {
   "cell_type": "markdown",
   "id": "42574fff",
   "metadata": {},
   "source": [
    "## 1.1\n",
    "For `max_depth` ranging from 1 to 50, fit decision tree classifiers using `random_state=42` and store the training and test accuracies in the given variables."
   ]
  },
  {
   "cell_type": "code",
   "execution_count": 79,
   "id": "78c6857a",
   "metadata": {},
   "outputs": [
    {
     "name": "stdout",
     "output_type": "stream",
     "text": [
      "Best prediction accuracy:  0.8215488215488216\n",
      "Depth:  3\n"
     ]
    },
    {
     "data": {
      "image/png": "[encoded data removed]",
      "text/plain": [
       "<Figure size 432x288 with 1 Axes>"
      ]
     },
     "metadata": {
      "needs_background": "light"
     },
     "output_type": "display_data"
    }
   ],
   "source": [
    "import numpy as np\n",
    "from sklearn import tree\n",
    "from sklearn.metrics import accuracy_score\n",
    "import matplotlib.pyplot as plt\n",
    "\n",
    "depth = np.arange(1,51,1)\n",
    "dtaccuracy_train = [] # List for storing training accuracies.\n",
    "dtaccuracy_test = [] # List for storing test accuracies.\n",
    "\n",
    "### YOUR CODE HERE:\n",
    "models = []\n",
    "for i in range(1,51):\n",
    "    clf = tree.DecisionTreeClassifier(max_depth=i,random_state=42).fit(X_titan_train, y_titan_train)\n",
    "    models.append(clf)\n",
    "    y_pred_test = clf.predict(X_titan_test)\n",
    "    y_pred_train = clf.predict(X_titan_train)\n",
    "    dtaccuracy_test.append(accuracy_score(y_pred_test,y_titan_test))\n",
    "    dtaccuracy_train.append(accuracy_score(y_pred_train, y_titan_train))\n",
    "    \n",
    "print(\"Best prediction accuracy: \", max(dtaccuracy_test))\n",
    "print(\"Depth: \", depth[dtaccuracy_test.index(max(dtaccuracy_test))])\n",
    "\n",
    "plt.plot(depth, dtaccuracy_train, label = \"Training\")\n",
    "plt.plot(depth, dtaccuracy_test, label = \"Test\")\n",
    "plt.xlabel(\"Depth\")\n",
    "plt.ylabel(\"Accuracy\")\n",
    "plt.title(\"Accuracy vs. Depth\")\n",
    "plt.legend()\n",
    "plt.show()"
   ]
  },
  {
   "cell_type": "markdown",
   "id": "46192243",
   "metadata": {},
   "source": [
    "## 1.2\n",
    "What trends do you observe in the training and test accuracies as depth increases? Explain these trends."
   ]
  },
  {
   "cell_type": "markdown",
   "id": "86e70b79",
   "metadata": {},
   "source": [
    "### Answer:\n",
    "As depth increases, the model shows an overfitting pattern, leading to a poor performance on the test data set."
   ]
  },
  {
   "cell_type": "markdown",
   "id": "7ade8065",
   "metadata": {},
   "source": [
    "## 1.3\n",
    "For the decision tree with the best test accuracy, print the three most important features."
   ]
  },
  {
   "cell_type": "code",
   "execution_count": 106,
   "id": "b059912a",
   "metadata": {},
   "outputs": [
    {
     "name": "stdout",
     "output_type": "stream",
     "text": [
      "['Pclass' 'Fare' 'Sex']\n"
     ]
    }
   ],
   "source": [
    "# YOUR CODE HERE:\n",
    "print(np.array(columns)[models[2].feature_importances_.argsort()[-3:]])"
   ]
  },
  {
   "cell_type": "markdown",
   "id": "c4769c93",
   "metadata": {},
   "source": [
    "# Problem 2\n",
    "We continue to explore prediction on the `Titanic` dataset with random forests."
   ]
  },
  {
   "cell_type": "markdown",
   "id": "3befd3b4",
   "metadata": {},
   "source": [
    "## 2.1\n",
    "For `n_estimators` ranging from 1 to 201 with step size 10, fit random forest classifiers using `random_state=42` and `max_depth=3`. Store the training and test accuracies in the given variables."
   ]
  },
  {
   "cell_type": "code",
   "execution_count": 86,
   "id": "c3045ede",
   "metadata": {},
   "outputs": [
    {
     "name": "stdout",
     "output_type": "stream",
     "text": [
      "Best prediction accuracy 0.8282828282828283\n",
      "Corredsponding n_estimators 101\n"
     ]
    },
    {
     "data": {
      "image/png": "[encoded data removed]",
      "text/plain": [
       "<Figure size 432x288 with 1 Axes>"
      ]
     },
     "metadata": {
      "needs_background": "light"
     },
     "output_type": "display_data"
    }
   ],
   "source": [
    "import numpy as np\n",
    "import matplotlib.pyplot as plt\n",
    "from sklearn.ensemble import RandomForestClassifier\n",
    "\n",
    "rf_arru_lst_test = [] # List for storing training accuracies.\n",
    "rf_arru_lst_train = [] # List for storing test accuracies.\n",
    "n_estimators_lst = np.arange(1,202,10)\n",
    "\n",
    "\n",
    "# YOUR CODE HERE:\n",
    "models = []\n",
    "for i in range(1, 202,10):\n",
    "    clf = RandomForestClassifier(n_estimators=i, random_state=42, max_depth=3).fit(X_titan_train, y_titan_train)\n",
    "    models.append(clf)\n",
    "    rf_arru_lst_train.append(accuracy_score(clf.predict(X_titan_train), y_titan_train))\n",
    "    rf_arru_lst_test.append(accuracy_score(clf.predict(X_titan_test), y_titan_test))\n",
    "    \n",
    "# print \"Best prediction accuracy\" and corresponding \"n_estimators\"\n",
    "# YOUR CODE HERE:\n",
    "print(f'Best prediction accuracy {max(rf_arru_lst_test)}')\n",
    "print(f'Corredsponding n_estimators {models[rf_arru_lst_test.index(max(rf_arru_lst_test))].n_estimators}')\n",
    "\n",
    "\n",
    "# plot the accuracies\n",
    "plt.plot(n_estimators_lst, rf_arru_lst_test, label = \"Test\")\n",
    "plt.plot(n_estimators_lst, rf_arru_lst_train, label = \"Train\")\n",
    "plt.xlabel('n_estimators')\n",
    "plt.ylabel('Accuracy')\n",
    "plt.title('n_estimators vs. Accuracy')\n",
    "plt.legend()\n",
    "plt.show()"
   ]
  },
  {
   "cell_type": "code",
   "execution_count": 16,
   "id": "b5c30d8a",
   "metadata": {},
   "outputs": [
    {
     "data": {
      "text/plain": [
       "[1, 11, 21, 31, 41]"
      ]
     },
     "execution_count": 16,
     "metadata": {},
     "output_type": "execute_result"
    }
   ],
   "source": [
    "[i for i in range(1,51,10)]"
   ]
  },
  {
   "cell_type": "markdown",
   "id": "9fa17a62",
   "metadata": {},
   "source": [
    "## 2.2\n",
    "What trends do you observe in the training and test accuracies as `n_estimators` increases? Explain these trends."
   ]
  },
  {
   "cell_type": "markdown",
   "id": "465c3570",
   "metadata": {},
   "source": [
    "### Answer:\n",
    "I observe that the there is still an overfitting after 41 trees are attempted, but with a less severity than the previous model. Reason behind such phenomenon is that RandomForest has a limitation on the nuumber of features selected each time it extends, which drastically decreases the possibility of overfitting."
   ]
  },
  {
   "cell_type": "markdown",
   "id": "9c404fac",
   "metadata": {},
   "source": [
    "## 2.3\n",
    "`GridSearchCV` is a class to assist in finding the best parameters for a model. Read about `GridSearchCV` here:\n",
    "\n",
    "https://scikit-learn.org/stable/modules/generated/sklearn.model_selection.GridSearchCV.html\n",
    "\n",
    "To use `GridSearchCV`, follow these steps:\n",
    "* Create your model object.\n",
    "* Create a dictionary with the model parameters and ranges over which you want to optimize.\n",
    "* Create a `GridSearchCV` object and fit it on your training data.\n",
    "* Access the attributes of the `GridSearchCV` object to find the optimal parameters and scores.\n",
    "\n",
    "For a Random Forest model with `random_state=42`, use `GridSearchCV` with 10-fold CV to determine the best combination of the following parameters:\n",
    "* `max_depth` ranging from 1 to 10\n",
    "* `n_estimators` ranging from 1 to 10\n",
    "\n",
    "Print the best parameters and corresponding score."
   ]
  },
  {
   "cell_type": "code",
   "execution_count": 121,
   "id": "83a7767a",
   "metadata": {},
   "outputs": [
    {
     "name": "stdout",
     "output_type": "stream",
     "text": [
      "Best estimator: RandomForestClassifier(max_depth=9, n_estimators=10, random_state=42)\n",
      "Score:0.831638418079096\n"
     ]
    }
   ],
   "source": [
    "from sklearn.model_selection import GridSearchCV\n",
    "\n",
    "# create the default model\n",
    "# YOUR CODE HERE:\n",
    "rf = RandomForestClassifier(random_state=42)\n",
    "\n",
    "# Grid of parameters over which to optimize.\n",
    "# YOUR CODE HERE:\n",
    "params = {'max_depth':[i for i in range(1,11)],'n_estimators':[i for i in range(1,11)]}\n",
    "\n",
    "# search the grid\n",
    "# YOUR CODE HERE:\n",
    "clf = GridSearchCV(rf, param_grid=params,cv=10)\n",
    "clf.fit(X_titan_train,np.ravel(y_titan_train))\n",
    "\n",
    "\n",
    "# Print the \"Best parameters\" and its \"Score\"\n",
    "# YOUR CODE HERE:\n",
    "print(f\"Best estimator: {clf.best_estimator_}\\nScore:{clf.best_score_}\")"
   ]
  },
  {
   "cell_type": "markdown",
   "id": "1a8bec9f",
   "metadata": {},
   "source": [
    "# Problem 3"
   ]
  },
  {
   "cell_type": "markdown",
   "id": "f76be33d",
   "metadata": {},
   "source": [
    "We will apply logistic regression to the problem of classifying images of fashion articles in the [Fashion-MNIST dataset](https://github.com/zalandoresearch/fashion-mnist)."
   ]
  },
  {
   "cell_type": "code",
   "execution_count": 28,
   "id": "60e55b42",
   "metadata": {},
   "outputs": [
    {
     "data": {
      "text/html": [
       "<div>\n",
       "<style scoped>\n",
       "    .dataframe tbody tr th:only-of-type {\n",
       "        vertical-align: middle;\n",
       "    }\n",
       "\n",
       "    .dataframe tbody tr th {\n",
       "        vertical-align: top;\n",
       "    }\n",
       "\n",
       "    .dataframe thead th {\n",
       "        text-align: right;\n",
       "    }\n",
       "</style>\n",
       "<table border=\"1\" class=\"dataframe\">\n",
       "  <thead>\n",
       "    <tr style=\"text-align: right;\">\n",
       "      <th></th>\n",
       "      <th>label</th>\n",
       "      <th>pixel1</th>\n",
       "      <th>pixel2</th>\n",
       "      <th>pixel3</th>\n",
       "      <th>pixel4</th>\n",
       "      <th>pixel5</th>\n",
       "      <th>pixel6</th>\n",
       "      <th>pixel7</th>\n",
       "      <th>pixel8</th>\n",
       "      <th>pixel9</th>\n",
       "      <th>...</th>\n",
       "      <th>pixel775</th>\n",
       "      <th>pixel776</th>\n",
       "      <th>pixel777</th>\n",
       "      <th>pixel778</th>\n",
       "      <th>pixel779</th>\n",
       "      <th>pixel780</th>\n",
       "      <th>pixel781</th>\n",
       "      <th>pixel782</th>\n",
       "      <th>pixel783</th>\n",
       "      <th>pixel784</th>\n",
       "    </tr>\n",
       "  </thead>\n",
       "  <tbody>\n",
       "    <tr>\n",
       "      <th>0</th>\n",
       "      <td>Pullover</td>\n",
       "      <td>0</td>\n",
       "      <td>0</td>\n",
       "      <td>0</td>\n",
       "      <td>0</td>\n",
       "      <td>0</td>\n",
       "      <td>0</td>\n",
       "      <td>0</td>\n",
       "      <td>0</td>\n",
       "      <td>0</td>\n",
       "      <td>...</td>\n",
       "      <td>0</td>\n",
       "      <td>0</td>\n",
       "      <td>0</td>\n",
       "      <td>0</td>\n",
       "      <td>0</td>\n",
       "      <td>0</td>\n",
       "      <td>0</td>\n",
       "      <td>0</td>\n",
       "      <td>0</td>\n",
       "      <td>0</td>\n",
       "    </tr>\n",
       "    <tr>\n",
       "      <th>1</th>\n",
       "      <td>Ankle boot</td>\n",
       "      <td>0</td>\n",
       "      <td>0</td>\n",
       "      <td>0</td>\n",
       "      <td>0</td>\n",
       "      <td>0</td>\n",
       "      <td>0</td>\n",
       "      <td>0</td>\n",
       "      <td>0</td>\n",
       "      <td>0</td>\n",
       "      <td>...</td>\n",
       "      <td>0</td>\n",
       "      <td>0</td>\n",
       "      <td>0</td>\n",
       "      <td>0</td>\n",
       "      <td>0</td>\n",
       "      <td>0</td>\n",
       "      <td>0</td>\n",
       "      <td>0</td>\n",
       "      <td>0</td>\n",
       "      <td>0</td>\n",
       "    </tr>\n",
       "    <tr>\n",
       "      <th>2</th>\n",
       "      <td>Shirt</td>\n",
       "      <td>0</td>\n",
       "      <td>0</td>\n",
       "      <td>0</td>\n",
       "      <td>0</td>\n",
       "      <td>0</td>\n",
       "      <td>0</td>\n",
       "      <td>0</td>\n",
       "      <td>5</td>\n",
       "      <td>0</td>\n",
       "      <td>...</td>\n",
       "      <td>0</td>\n",
       "      <td>0</td>\n",
       "      <td>0</td>\n",
       "      <td>30</td>\n",
       "      <td>43</td>\n",
       "      <td>0</td>\n",
       "      <td>0</td>\n",
       "      <td>0</td>\n",
       "      <td>0</td>\n",
       "      <td>0</td>\n",
       "    </tr>\n",
       "    <tr>\n",
       "      <th>3</th>\n",
       "      <td>T-shirt/top</td>\n",
       "      <td>0</td>\n",
       "      <td>0</td>\n",
       "      <td>0</td>\n",
       "      <td>1</td>\n",
       "      <td>2</td>\n",
       "      <td>0</td>\n",
       "      <td>0</td>\n",
       "      <td>0</td>\n",
       "      <td>0</td>\n",
       "      <td>...</td>\n",
       "      <td>3</td>\n",
       "      <td>0</td>\n",
       "      <td>0</td>\n",
       "      <td>0</td>\n",
       "      <td>0</td>\n",
       "      <td>1</td>\n",
       "      <td>0</td>\n",
       "      <td>0</td>\n",
       "      <td>0</td>\n",
       "      <td>0</td>\n",
       "    </tr>\n",
       "    <tr>\n",
       "      <th>4</th>\n",
       "      <td>Dress</td>\n",
       "      <td>0</td>\n",
       "      <td>0</td>\n",
       "      <td>0</td>\n",
       "      <td>0</td>\n",
       "      <td>0</td>\n",
       "      <td>0</td>\n",
       "      <td>0</td>\n",
       "      <td>0</td>\n",
       "      <td>0</td>\n",
       "      <td>...</td>\n",
       "      <td>0</td>\n",
       "      <td>0</td>\n",
       "      <td>0</td>\n",
       "      <td>0</td>\n",
       "      <td>0</td>\n",
       "      <td>0</td>\n",
       "      <td>0</td>\n",
       "      <td>0</td>\n",
       "      <td>0</td>\n",
       "      <td>0</td>\n",
       "    </tr>\n",
       "    <tr>\n",
       "      <th>...</th>\n",
       "      <td>...</td>\n",
       "      <td>...</td>\n",
       "      <td>...</td>\n",
       "      <td>...</td>\n",
       "      <td>...</td>\n",
       "      <td>...</td>\n",
       "      <td>...</td>\n",
       "      <td>...</td>\n",
       "      <td>...</td>\n",
       "      <td>...</td>\n",
       "      <td>...</td>\n",
       "      <td>...</td>\n",
       "      <td>...</td>\n",
       "      <td>...</td>\n",
       "      <td>...</td>\n",
       "      <td>...</td>\n",
       "      <td>...</td>\n",
       "      <td>...</td>\n",
       "      <td>...</td>\n",
       "      <td>...</td>\n",
       "      <td>...</td>\n",
       "    </tr>\n",
       "    <tr>\n",
       "      <th>995</th>\n",
       "      <td>Bag</td>\n",
       "      <td>0</td>\n",
       "      <td>0</td>\n",
       "      <td>0</td>\n",
       "      <td>0</td>\n",
       "      <td>0</td>\n",
       "      <td>0</td>\n",
       "      <td>0</td>\n",
       "      <td>0</td>\n",
       "      <td>0</td>\n",
       "      <td>...</td>\n",
       "      <td>0</td>\n",
       "      <td>0</td>\n",
       "      <td>0</td>\n",
       "      <td>0</td>\n",
       "      <td>0</td>\n",
       "      <td>0</td>\n",
       "      <td>0</td>\n",
       "      <td>0</td>\n",
       "      <td>0</td>\n",
       "      <td>0</td>\n",
       "    </tr>\n",
       "    <tr>\n",
       "      <th>996</th>\n",
       "      <td>Trouser</td>\n",
       "      <td>0</td>\n",
       "      <td>0</td>\n",
       "      <td>0</td>\n",
       "      <td>0</td>\n",
       "      <td>0</td>\n",
       "      <td>0</td>\n",
       "      <td>0</td>\n",
       "      <td>0</td>\n",
       "      <td>0</td>\n",
       "      <td>...</td>\n",
       "      <td>164</td>\n",
       "      <td>0</td>\n",
       "      <td>0</td>\n",
       "      <td>0</td>\n",
       "      <td>0</td>\n",
       "      <td>0</td>\n",
       "      <td>0</td>\n",
       "      <td>0</td>\n",
       "      <td>0</td>\n",
       "      <td>0</td>\n",
       "    </tr>\n",
       "    <tr>\n",
       "      <th>997</th>\n",
       "      <td>Coat</td>\n",
       "      <td>0</td>\n",
       "      <td>0</td>\n",
       "      <td>0</td>\n",
       "      <td>0</td>\n",
       "      <td>0</td>\n",
       "      <td>0</td>\n",
       "      <td>0</td>\n",
       "      <td>0</td>\n",
       "      <td>1</td>\n",
       "      <td>...</td>\n",
       "      <td>0</td>\n",
       "      <td>0</td>\n",
       "      <td>0</td>\n",
       "      <td>0</td>\n",
       "      <td>170</td>\n",
       "      <td>193</td>\n",
       "      <td>11</td>\n",
       "      <td>0</td>\n",
       "      <td>0</td>\n",
       "      <td>0</td>\n",
       "    </tr>\n",
       "    <tr>\n",
       "      <th>998</th>\n",
       "      <td>Sneaker</td>\n",
       "      <td>0</td>\n",
       "      <td>0</td>\n",
       "      <td>0</td>\n",
       "      <td>0</td>\n",
       "      <td>0</td>\n",
       "      <td>0</td>\n",
       "      <td>0</td>\n",
       "      <td>0</td>\n",
       "      <td>0</td>\n",
       "      <td>...</td>\n",
       "      <td>0</td>\n",
       "      <td>0</td>\n",
       "      <td>0</td>\n",
       "      <td>0</td>\n",
       "      <td>0</td>\n",
       "      <td>0</td>\n",
       "      <td>0</td>\n",
       "      <td>0</td>\n",
       "      <td>0</td>\n",
       "      <td>0</td>\n",
       "    </tr>\n",
       "    <tr>\n",
       "      <th>999</th>\n",
       "      <td>Trouser</td>\n",
       "      <td>0</td>\n",
       "      <td>0</td>\n",
       "      <td>0</td>\n",
       "      <td>0</td>\n",
       "      <td>0</td>\n",
       "      <td>0</td>\n",
       "      <td>0</td>\n",
       "      <td>0</td>\n",
       "      <td>0</td>\n",
       "      <td>...</td>\n",
       "      <td>138</td>\n",
       "      <td>0</td>\n",
       "      <td>0</td>\n",
       "      <td>0</td>\n",
       "      <td>0</td>\n",
       "      <td>0</td>\n",
       "      <td>0</td>\n",
       "      <td>0</td>\n",
       "      <td>0</td>\n",
       "      <td>0</td>\n",
       "    </tr>\n",
       "  </tbody>\n",
       "</table>\n",
       "<p>1000 rows × 785 columns</p>\n",
       "</div>"
      ],
      "text/plain": [
       "           label  pixel1  pixel2  pixel3  pixel4  pixel5  pixel6  pixel7  \\\n",
       "0       Pullover       0       0       0       0       0       0       0   \n",
       "1     Ankle boot       0       0       0       0       0       0       0   \n",
       "2          Shirt       0       0       0       0       0       0       0   \n",
       "3    T-shirt/top       0       0       0       1       2       0       0   \n",
       "4          Dress       0       0       0       0       0       0       0   \n",
       "..           ...     ...     ...     ...     ...     ...     ...     ...   \n",
       "995          Bag       0       0       0       0       0       0       0   \n",
       "996      Trouser       0       0       0       0       0       0       0   \n",
       "997         Coat       0       0       0       0       0       0       0   \n",
       "998      Sneaker       0       0       0       0       0       0       0   \n",
       "999      Trouser       0       0       0       0       0       0       0   \n",
       "\n",
       "     pixel8  pixel9  ...  pixel775  pixel776  pixel777  pixel778  pixel779  \\\n",
       "0         0       0  ...         0         0         0         0         0   \n",
       "1         0       0  ...         0         0         0         0         0   \n",
       "2         5       0  ...         0         0         0        30        43   \n",
       "3         0       0  ...         3         0         0         0         0   \n",
       "4         0       0  ...         0         0         0         0         0   \n",
       "..      ...     ...  ...       ...       ...       ...       ...       ...   \n",
       "995       0       0  ...         0         0         0         0         0   \n",
       "996       0       0  ...       164         0         0         0         0   \n",
       "997       0       1  ...         0         0         0         0       170   \n",
       "998       0       0  ...         0         0         0         0         0   \n",
       "999       0       0  ...       138         0         0         0         0   \n",
       "\n",
       "     pixel780  pixel781  pixel782  pixel783  pixel784  \n",
       "0           0         0         0         0         0  \n",
       "1           0         0         0         0         0  \n",
       "2           0         0         0         0         0  \n",
       "3           1         0         0         0         0  \n",
       "4           0         0         0         0         0  \n",
       "..        ...       ...       ...       ...       ...  \n",
       "995         0         0         0         0         0  \n",
       "996         0         0         0         0         0  \n",
       "997       193        11         0         0         0  \n",
       "998         0         0         0         0         0  \n",
       "999         0         0         0         0         0  \n",
       "\n",
       "[1000 rows x 785 columns]"
      ]
     },
     "metadata": {},
     "output_type": "display_data"
    }
   ],
   "source": [
    "import numpy as np\n",
    "import pandas as pd\n",
    "\n",
    "fash = pd.read_csv(\"fash.csv\")\n",
    "labels = [\n",
    "    \"T-shirt/top\",\n",
    "    \"Trouser\",\n",
    "    \"Pullover\",\n",
    "    \"Dress\",\n",
    "    \"Coat\",\n",
    "    \"Sandal\",\n",
    "    \"Shirt\",\n",
    "    \"Sneaker\",\n",
    "    \"Bag\",\n",
    "    \"Ankle boot\"]\n",
    "fash['label'].replace(to_replace=np.arange(0,10), value=labels, inplace=True)\n",
    "\n",
    "X_fash = fash.iloc[:, 1:]\n",
    "y_fash = fash.iloc[:, 0]\n",
    "\n",
    "display(fash)"
   ]
  },
  {
   "cell_type": "markdown",
   "id": "5b1c5418",
   "metadata": {},
   "source": [
    "## 3.1\n",
    "Fit a logistic regression model for image classification to the data with `penalty=\"none\"`. Print the first three images using [`matplotlib.pyplot.imshow`](https://matplotlib.org/stable/api/_as_gen/matplotlib.pyplot.imshow.html) along with your model classifications and the predicted probabilities of each class."
   ]
  },
  {
   "cell_type": "code",
   "execution_count": 90,
   "id": "1b32748c",
   "metadata": {
    "scrolled": true
   },
   "outputs": [
    {
     "name": "stdout",
     "output_type": "stream",
     "text": [
      "classifications: ['Pullover' 'Ankle boot' 'Shirt']\n",
      "   Ankle boot            Bag          Coat          Dress       Pullover  \\\n",
      "0         0.0  3.957841e-142  3.684823e-77   0.000000e+00   1.000000e+00   \n",
      "1         1.0  8.379433e-227  0.000000e+00   0.000000e+00  1.589731e-278   \n",
      "2         0.0  1.712257e-222  8.983572e-93  1.195805e-121  6.887740e-119   \n",
      "\n",
      "          Sandal          Shirt       Sneaker    T-shirt/top        Trouser  \n",
      "0   0.000000e+00  8.693958e-167  0.000000e+00  1.104110e-246  2.578524e-220  \n",
      "1  1.333352e-100  2.964394e-323  1.023284e-40   0.000000e+00  1.489360e-308  \n",
      "2   0.000000e+00   1.000000e+00  0.000000e+00  1.737005e-172  1.636035e-311  \n"
     ]
    },
    {
     "data": {
      "image/png": "[encoded data removed]",
      "text/plain": [
       "<Figure size 432x288 with 3 Axes>"
      ]
     },
     "metadata": {
      "needs_background": "light"
     },
     "output_type": "display_data"
    }
   ],
   "source": [
    "from sklearn.linear_model import LogisticRegression\n",
    "import matplotlib.pyplot as plt\n",
    "\n",
    "# YOUR CODE HERE:\n",
    "lgr = LogisticRegression(penalty='none').fit(X_fash,y_fash)\n",
    "print(f\"classifications: {lgr.predict(X_fash[:3])}\")\n",
    "print(pd.DataFrame(lgr.predict_proba(X_fash[:3]), columns=lgr.classes_))\n",
    "\n",
    "width=5\n",
    "height=5\n",
    "rows = 1\n",
    "cols = 3\n",
    "axes=[]\n",
    "fig=plt.figure()\n",
    "\n",
    "for a in range(rows*cols):\n",
    "    axes.append(fig.add_subplot(rows, cols, a+1))\n",
    "    subplot_title=(y_fash[a])\n",
    "    axes[-1].set_title(subplot_title)  \n",
    "    plt.imshow(np.array(X_fash[:3])[a].reshape(28,28), cmap = \"gray\")\n",
    "fig.tight_layout()    \n",
    "plt.show()"
   ]
  },
  {
   "cell_type": "markdown",
   "id": "dcd7f96a",
   "metadata": {},
   "source": [
    "## 3.2\n",
    "In the previous part we used no penalty term. Now we will explore L2 penalization. Answer the following questions in the context of logistic regression:\n",
    "1. What is L2 penalization?\n",
    "2. What main benefit does it have and how does it achieve that?"
   ]
  },
  {
   "cell_type": "markdown",
   "id": "e40cdc4c",
   "metadata": {},
   "source": [
    "### Answer:\n",
    "1. L2 regularization is also called Ridge regression, and it functions as prevention of overfittting and improve the accuracy of models.\n",
    "2. The form of L2 regularization is \n",
    "\\begin{equation}\n",
    "    \\lambda * \\sum_{i=0}^n {w_i^2} \n",
    "\\end{equation},\n",
    "so it can provide a closed form solution as a square of weights, which imposes constraints on all coefficients."
   ]
  },
  {
   "cell_type": "markdown",
   "id": "eff5a563",
   "metadata": {},
   "source": [
    "## 3.3\n",
    "Fit logistic regression models to the data using L2 regularization and the given values of `C`. Determine the optimal value of the inverse regularization strength parameter $C$ by performing 5-fold cross-validation. Plot the averaged `accuracy_score` associated with the each model against $\\log(C)$."
   ]
  },
  {
   "cell_type": "code",
   "execution_count": 108,
   "id": "4e1d2c64",
   "metadata": {
    "scrolled": true
   },
   "outputs": [
    {
     "name": "stdout",
     "output_type": "stream",
     "text": [
      "optimal C: {'C': 10.0}\n"
     ]
    },
    {
     "data": {
      "image/png": "[encoded data removed]",
      "text/plain": [
       "<Figure size 432x288 with 1 Axes>"
      ]
     },
     "metadata": {
      "needs_background": "light"
     },
     "output_type": "display_data"
    }
   ],
   "source": [
    "from numpy.linalg import norm\n",
    "from sklearn.model_selection import cross_val_score\n",
    "import warnings\n",
    "warnings.filterwarnings(\"ignore\")\n",
    "\n",
    "C = [1e-3, 1e-2, 1e-1, 1e0, 1e1, 1e2, 1e3]\n",
    "cv_scores = [0]*7 # List for storing the averaged accuracies.\n",
    "\n",
    "# YOUR CODE HERE:\n",
    "lgr = LogisticRegression()\n",
    "gs = GridSearchCV(lgr,param_grid={'C':C},cv=5)\n",
    "gs.fit(X_fash,y_fash)\n",
    "# Print the \"Optimal C\"\n",
    "# YOUR CODE HERE:\n",
    "print(f\"optimal C: {gs.best_params_}\")\n",
    "cv_scores = gs.cv_results_['mean_test_score']\n",
    "plt.plot(np.log(C), cv_scores)\n",
    "plt.xlabel(\"log(C)\")\n",
    "plt.ylabel(\"Averaged Accuracy\")\n",
    "plt.title(\"L2 Regularization\")\n",
    "plt.show()"
   ]
  },
  {
   "cell_type": "markdown",
   "id": "f986ff97",
   "metadata": {},
   "source": [
    "## 3.4\n",
    "Perform a random 80/20 split into training and test data set and use the optimal `C` of Problem 3.3 to train a logistic regression model. Plot the confusion matrix of the test set."
   ]
  },
  {
   "cell_type": "code",
   "execution_count": 101,
   "id": "f2e169fc",
   "metadata": {},
   "outputs": [
    {
     "data": {
      "text/plain": [
       "<sklearn.metrics._plot.confusion_matrix.ConfusionMatrixDisplay at 0x2acbe6fb4f0>"
      ]
     },
     "execution_count": 101,
     "metadata": {},
     "output_type": "execute_result"
    },
    {
     "data": {
      "image/png": "[encoded data removed]",
      "text/plain": [
       "<Figure size 432x288 with 2 Axes>"
      ]
     },
     "metadata": {
      "needs_background": "light"
     },
     "output_type": "display_data"
    }
   ],
   "source": [
    "from sklearn.model_selection import train_test_split\n",
    "from sklearn.metrics import plot_confusion_matrix\n",
    "\n",
    "X_train, X_test, y_train, y_test = train_test_split(X_fash,y_fash,test_size=0.2,random_state=42)\n",
    "model = LogisticRegression(C=10).fit(X_train, y_train)\n",
    "#y_pred = model.predict(X_test)\n",
    "plot_confusion_matrix(model, X_test, y_test,xticks_rotation=45)\n",
    "# YOUR CODE HERE:\n"
   ]
  },
  {
   "cell_type": "markdown",
   "id": "d7f88a31",
   "metadata": {},
   "source": [
    "## 3.5\n",
    "For this model, which is the class label with the lowest classification accuracy in the test set?"
   ]
  },
  {
   "cell_type": "markdown",
   "id": "eed6983d",
   "metadata": {},
   "source": [
    "### Answer:\n",
    "Shirt label is the one with lowest classification accuracy\n"
   ]
  },
  {
   "cell_type": "markdown",
   "id": "c43eeb12",
   "metadata": {},
   "source": [
    "# Problem 4"
   ]
  },
  {
   "cell_type": "markdown",
   "id": "593e64af",
   "metadata": {},
   "source": [
    "We explore classification using support vector machines (SVM) on the [`wine`](https://scikit-learn.org/stable/datasets/toy_dataset.html#wine-dataset) dataset. Wines are divided into class 0 and class 1."
   ]
  },
  {
   "cell_type": "code",
   "execution_count": 122,
   "id": "ed964020",
   "metadata": {
    "scrolled": true
   },
   "outputs": [
    {
     "name": "stdout",
     "output_type": "stream",
     "text": [
      "     color_intensity   hue\n",
      "0               5.64  1.04\n",
      "1               4.38  1.05\n",
      "2               5.68  1.03\n",
      "3               7.80  0.86\n",
      "4               4.32  1.04\n",
      "..               ...   ...\n",
      "173             7.70  0.64\n",
      "174             7.30  0.70\n",
      "175            10.20  0.59\n",
      "176             9.30  0.60\n",
      "177             9.20  0.61\n",
      "\n",
      "[178 rows x 2 columns]\n",
      "0      1\n",
      "1      1\n",
      "2      1\n",
      "3      1\n",
      "4      1\n",
      "      ..\n",
      "173    0\n",
      "174    0\n",
      "175    0\n",
      "176    0\n",
      "177    0\n",
      "Name: target, Length: 178, dtype: int32\n"
     ]
    },
    {
     "data": {
      "image/png": "[encoded data removed]",
      "text/plain": [
       "<Figure size 576x432 with 1 Axes>"
      ]
     },
     "metadata": {
      "needs_background": "light"
     },
     "output_type": "display_data"
    }
   ],
   "source": [
    "from sklearn import datasets\n",
    "from sklearn.preprocessing import StandardScaler\n",
    "import numpy as np\n",
    "import matplotlib.pyplot as plt\n",
    "\n",
    "X_wine = datasets.load_wine(as_frame = True).data[['color_intensity', 'hue']]\n",
    "y_wine = (datasets.load_wine(as_frame = True).target == 0)*1\n",
    "\n",
    "print(X_wine)\n",
    "print(y_wine)\n",
    "\n",
    "# Scale X_wine.\n",
    "scaler = StandardScaler()\n",
    "X_wine = scaler.fit_transform(X=X_wine)\n",
    "\n",
    "fig, ax = plt.subplots(figsize=(8,6));\n",
    "scatter = ax.scatter(X_wine[:,0], X_wine[:,1],c=y_wine)\n",
    "ax.legend(handles=scatter.legend_elements()[0],labels=['0','1'], fontsize=16);\n",
    "ax.set_xlabel(\"Color Intensity (Scaled)\")\n",
    "ax.set_ylabel(\"Hue (Scaled)\")\n",
    "ax.set_title(\"Wine\");"
   ]
  },
  {
   "cell_type": "markdown",
   "id": "f287590e",
   "metadata": {},
   "source": [
    "## 4.1\n",
    "Fit an SVM model with a linear kernel to the whole dataset and print the accuracy on the whole dataset."
   ]
  },
  {
   "cell_type": "code",
   "execution_count": 58,
   "id": "ec694cca",
   "metadata": {},
   "outputs": [
    {
     "name": "stdout",
     "output_type": "stream",
     "text": [
      "0.6853932584269663\n"
     ]
    }
   ],
   "source": [
    "from sklearn.metrics import accuracy_score\n",
    "from sklearn import svm\n",
    "\n",
    "# YOUR CODE HERE:\n",
    "print(accuracy_score(svm.SVC(kernel=\"linear\").fit(X_wine,y_wine).predict(X_wine),y_wine))"
   ]
  },
  {
   "cell_type": "markdown",
   "id": "fdf2be17",
   "metadata": {},
   "source": [
    "## 4.2\n",
    "Describe qualitatively why SVM with linear kernel has limited accuracy for this dataset."
   ]
  },
  {
   "cell_type": "markdown",
   "id": "97e1a544",
   "metadata": {},
   "source": [
    "### Answer:\n",
    "The dimensionality of our dataset is 2, and from the plot in previous part we can tell that there are many overlapped points, which imposes a limitation on SVM's perforamce since the hyperplane itself is bound by the dimensions of the dataset"
   ]
  },
  {
   "cell_type": "markdown",
   "id": "ad83d8bb",
   "metadata": {},
   "source": [
    "## 4.3\n",
    "Perform 10-fold CV with the following two SVM models:\n",
    "- One using an RBF kernel with C=1.\n",
    "- One using an RBF kernel with C=1e4.\n",
    "\n",
    "Print the mean 10-fold CV accuracies of the models."
   ]
  },
  {
   "cell_type": "code",
   "execution_count": 88,
   "id": "5f730b53",
   "metadata": {},
   "outputs": [
    {
     "name": "stdout",
     "output_type": "stream",
     "text": [
      "model1: 0.8549019607843137\n",
      "model2: 0.8379084967320262\n"
     ]
    }
   ],
   "source": [
    "from sklearn.metrics import accuracy_score\n",
    "from sklearn import svm\n",
    "from sklearn.model_selection import cross_val_score\n",
    "\n",
    "# YOUR CODE HERE:\n",
    "model = svm.SVC(kernel='rbf')\n",
    "params = {'C':[1,1e4]}\n",
    "gs = GridSearchCV(model,param_grid=params,cv=10)\n",
    "gs.fit(X_wine,y_wine)\n",
    "\n",
    "# Print the 'C=1 Mean Accuracy' and the 'C=1e4 Mean Accuracy'\n",
    "# YOUR CODE HERE:\n",
    "print(f\"model1: {gs.cv_results_['mean_test_score'][0]}\\nmodel2: {gs.cv_results_['mean_test_score'][1]}\")"
   ]
  },
  {
   "cell_type": "markdown",
   "id": "7813bf9f",
   "metadata": {},
   "source": [
    "## 4.4\n",
    "For each of the two models, create a plot showing:\n",
    "- The decision boundaries and margins, and\n",
    "- the support vectors (highlighted)."
   ]
  },
  {
   "cell_type": "code",
   "execution_count": 74,
   "id": "cb89817d",
   "metadata": {},
   "outputs": [
    {
     "data": {
      "image/png": "[encoded data removed]",
      "text/plain": [
       "<Figure size 432x288 with 1 Axes>"
      ]
     },
     "metadata": {
      "needs_background": "light"
     },
     "output_type": "display_data"
    },
    {
     "data": {
      "image/png": "[encoded data removed]",
      "text/plain": [
       "<Figure size 432x288 with 1 Axes>"
      ]
     },
     "metadata": {
      "needs_background": "light"
     },
     "output_type": "display_data"
    }
   ],
   "source": [
    "import numpy as np\n",
    "import matplotlib.pyplot as plt\n",
    "\n",
    "# Create grid to evaluate model\n",
    "# YOUR CODE HERE:\n",
    "\n",
    "# Fit the model with C=1.\n",
    "# YOUR CODE HERE:\n",
    "model1 = svm.SVC(kernel='rbf',C=1).fit(X_wine,y_wine)\n",
    "xx = np.linspace(X_wine[:,0].min()-0.5, X_wine[:,0].max()+0.5, 30)\n",
    "yy = np.linspace(X_wine[:,1].min()-0.5, X_wine[:,1].max()+0.5, 30)\n",
    "YY, XX = np.meshgrid(yy, xx)\n",
    "xy = np.vstack([XX.ravel(), YY.ravel()]).T\n",
    "Z = model1.decision_function(xy).reshape(XX.shape)\n",
    "plt.scatter(X_wine[:,0], X_wine[:,1], c=y_wine);\n",
    "plt.contour(XX, YY, Z, colors='k', levels=[-1, 0, 1], alpha=0.5, linestyles=['--', '-', '--']);\n",
    "plt.title(\"Points from Concentric Classes classified by Soft Margin SVM with Gaussian/RBF kernel\")\n",
    "plt.show()\n",
    "\n",
    "# Fit the model with C=1e4.\n",
    "# YOUR CODE HERE:\n",
    "model2 = svm.SVC(kernel='rbf',C=1e4).fit(X_wine,y_wine)\n",
    "\n",
    "# Plot decision boundary and margins\n",
    "# YOUR CODE HERE:\n",
    "xx = np.linspace(X_wine[:,0].min()-0.5, X_wine[:,0].max()+0.5, 30)\n",
    "yy = np.linspace(X_wine[:,1].min()-0.5, X_wine[:,1].max()+0.5, 30)\n",
    "YY, XX = np.meshgrid(yy, xx)\n",
    "xy = np.vstack([XX.ravel(), YY.ravel()]).T\n",
    "Z = model2.decision_function(xy).reshape(XX.shape)\n",
    "plt.scatter(X_wine[:,0], X_wine[:,1], c=y_wine);\n",
    "plt.contour(XX, YY, Z, colors='k', levels=[-1, 0, 1], alpha=0.5, linestyles=['--', '-', '--']);\n",
    "plt.title(\"Points from Concentric Classes classified by Soft Margin SVM with Gaussian/RBF kernel\")\n",
    "plt.show()"
   ]
  }
 ],
 "metadata": {
  "kernelspec": {
   "display_name": "Python 3",
   "language": "python",
   "name": "python3"
  },
  "language_info": {
   "codemirror_mode": {
    "name": "ipython",
    "version": 3
   },
   "file_extension": ".py",
   "mimetype": "text/x-python",
   "name": "python",
   "nbconvert_exporter": "python",
   "pygments_lexer": "ipython3",
   "version": "3.8.8"
  },
  "varInspector": {
   "cols": {
    "lenName": 16,
    "lenType": 16,
    "lenVar": 40
   },
   "kernels_config": {
    "python": {
     "delete_cmd_postfix": "",
     "delete_cmd_prefix": "del ",
     "library": "var_list.py",
     "varRefreshCmd": "print(var_dic_list())"
    },
    "r": {
     "delete_cmd_postfix": ") ",
     "delete_cmd_prefix": "rm(",
     "library": "var_list.r",
     "varRefreshCmd": "cat(var_dic_list()) "
    }
   },
   "types_to_exclude": [
    "module",
    "function",
    "builtin_function_or_method",
    "instance",
    "_Feature"
   ],
   "window_display": false
  }
 },
 "nbformat": 4,
 "nbformat_minor": 5
}
