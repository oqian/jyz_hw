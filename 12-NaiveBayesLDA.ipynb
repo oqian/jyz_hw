{
 "cells": [
  {
   "cell_type": "markdown",
   "metadata": {
    "slideshow": {
     "slide_type": "slide"
    }
   },
   "source": [
    "<hr/>\n",
    "\n",
    "# Introduction to Data Science - Fall 2021\n",
    "**Jinchao Feng and Christian Kuemmerle** - introdsfall2021@jh.edu <br/>\n",
    "\n",
    "- Naive Bayes Classifier\n",
    "- Linear Discriminant Analysis\n",
    "\n",
    "<hr/>"
   ]
  },
  {
   "cell_type": "markdown",
   "metadata": {},
   "source": [
    "<h1><font color=\"darkblue\">Group Project</font></h1>\n",
    "\n",
    "  - Project Groups (5 or 6 students per group) assigned: Check Blackboard, **contact your project partners**!\n",
    "  - Project proposal (2 paragraphs) due on **October 25**."
   ]
  },
  {
   "cell_type": "markdown",
   "metadata": {
    "slideshow": {
     "slide_type": "slide"
    }
   },
   "source": [
    "### Recall: Classification\n",
    "\n",
    "Examples for classification tasks:\n",
    "  - Detect spam e-mails: Given e-mail, spam yes/no?\n",
    "  - Serological COVID-19 test: Patient previously infected yes/no?\n",
    "  - Recognize digit from image data\n",
    "\n",
    "Based on a **training set** of labeled points, assign _class labels_ to unknown vectors in the **query/test set**.  \n",
    "\n",
    "> **Training set**\n",
    "><br><br>\n",
    ">$T = \\big\\{ (x_i, y_i) \\big\\}$ where $x_i\\in \\mathbb{R}^d$ and $y_i$ is the known class membership.\n",
    "The class if also often called **label** or **category**.\n",
    ">  - The classes/labels $y_i$ can take only a (small) number of discrete values.\n",
    "\n",
    "Examples:  \n",
    "   - Spam emails: $y_i \\in \\{0, 1\\}$ (**binary classification**): $0$ if no spam, $1$ if spam. <br>\n",
    "   - Digits: $y_i \\in \\{0,1,2,3,4,5,6,7,8,9\\}$ (**multiclass classification**)\n",
    " \n",
    "\n",
    "> **Query/Test set**\n",
    "><br><br>\n",
    ">$Q = \\big\\{ x_i \\big\\}$ where $x_i\\in \\mathbb{R}^d$."
   ]
  },
  {
   "cell_type": "markdown",
   "metadata": {
    "slideshow": {
     "slide_type": "slide"
    }
   },
   "source": [
    "### Classification Methods\n",
    "\n",
    "- $k$-NN\n",
    "- **Naive Bayes**\n",
    "- **Linear Discriminant Analysis**"
   ]
  },
  {
   "cell_type": "markdown",
   "metadata": {},
   "source": [
    "## $k$ Nearest Neighbors\n",
    "\n",
    "- Assign label/class based on the **$k$ nearest neighbors** ($k$-NN) in the training set, where $k \\in \\mathbb{N}$ that is fixed. Assume there are $D$ different labels/classes.\n",
    "\n",
    "> <br>\n",
    "> <img src=\"files/KnnClassification.svg\" width=200>\n",
    "\n",
    "**Input:** $\\{x_1,\\ldots,x_n\\}$ are predictor vectors of training set, training labels $(y_1,\\ldots,y_n)$, predictor vector $x$ of sample to be classified, parameter $k$.\n",
    "\n",
    "Define define label $y = y_{j^*}$ for $x$, where\n",
    "\n",
    "> $$ j^* = \\operatorname{argmax}_{j = 1}^K \\left\\{ \\sum_{i=1}^k w_{\\pi_i(x)} I_j\\left(\\pi_i(x)\\right)  \\right\\},$$\n",
    "\n",
    "and $I_j\\left(\\pi_i(x)\\right) = 1$ if $\\pi_i(x)$ has label $y_j$ and $0$ otherwise, for each class $j =1,\\ldots,K$.\n",
    "\n",
    "Here, for each $i=1,\\ldots,k$, $\\pi_i(x)$ is index of $i$-th closest vector $x_i$ of $x$ among $\\{x_1,\\ldots,x_n\\}$, and $w_{\\pi_i(x)}$ are **weights**.\n",
    "\n",
    "In [sklearn.neighbors.KNeighborsClassifier](https://scikit-learn.org/stable/modules/generated/sklearn.neighbors.KNeighborsClassifier.html):\n",
    "  - If `weights='uniform'` (is default): Always $w_{\\pi_i(x)} = 1$.\n",
    "  - If `weights='distance'`: $w_{\\pi_i(x)} =  \\dfrac{1}{\\|x - \\pi_i(x)\\|} $  for each $i=1,\\ldots, k$."
   ]
  },
  {
   "cell_type": "code",
   "execution_count": 13,
   "metadata": {},
   "outputs": [],
   "source": [
    "from sklearn import datasets\n",
    "iris = datasets.load_iris()\n",
    "\n",
    "def classification_map(X,y,classifier,i=0,j=1,X_test=None,y_test=None,h=0.1):\n",
    "    '''\n",
    "    h: step size in the mesh\n",
    "    i: first feature number to be plotted\n",
    "    j: second feature number to be plotted\n",
    "    '''\n",
    "    import matplotlib.pyplot as plt\n",
    "    from matplotlib.colors import ListedColormap\n",
    "    cmap_light = ListedColormap(['#FFBBBB', '#BBFFBB', '#BBBBFF'])\n",
    "    cmap_bold = ListedColormap(['#CC0000', '#00AA00', '#0000CC'])\n",
    "# Points in a mesh of [x_min, m_max] x [y_min, y_max]\n",
    "    x_min, x_max = X[:,i].min()-1, X[:,i].max()+1\n",
    "    y_min, y_max = X[:,j].min()-1, X[:,j].max()+1\n",
    "    xx, yy = np.meshgrid(np.arange(x_min, x_max, h),\n",
    "                         np.arange(y_min, y_max, h))\n",
    "    grid = np.c_[xx.ravel(), yy.ravel()]\n",
    "    classifier.fit(X,y)\n",
    "    Z = classifier.predict(grid)\n",
    "\n",
    "    # Put the result into a color plot\n",
    "    Z = Z.reshape(xx.shape)\n",
    "    fig = plt.figure(figsize=(5,5))\n",
    "    if False:\n",
    "        plt.scatter(xx, yy, c=Z, cmap=cmap_light, edgecolor='none')\n",
    "    else:\n",
    "        plt.pcolormesh(xx, yy, Z, cmap=cmap_light,shading='auto')\n",
    "    # Plot also the training points\n",
    "    plt.scatter(X[:,i], X[:,j], c=y, cmap=cmap_bold)\n",
    "    plt.xlim(xx.min(), xx.max())\n",
    "    plt.ylim(yy.min(), yy.max())\n",
    "    plt.title(\"3-Class classification with classifier \"+str(classifier))\n",
    "    if not X_test is None and not y_test is None: # if test set features are provided, overlay classified labels on test set as well\n",
    "        plt.scatter(X_test[:,i], X_test[:,j], c=y_test,cmap=cmap_bold,marker=\"x\")\n",
    "    ax=plt.gca()\n",
    "    ax.legend([\"training data\",\"test data\"],loc=0,fontsize=8)\n",
    "    \n",
    "    return fig"
   ]
  },
  {
   "cell_type": "code",
   "execution_count": 12,
   "metadata": {},
   "outputs": [
    {
     "ename": "NameError",
     "evalue": "name 'xx' is not defined",
     "output_type": "error",
     "traceback": [
      "\u001b[0;31m---------------------------------------------------------------------------\u001b[0m",
      "\u001b[0;31mNameError\u001b[0m                                 Traceback (most recent call last)",
      "\u001b[0;32m<ipython-input-12-98cd3a9325e7>\u001b[0m in \u001b[0;36m<module>\u001b[0;34m\u001b[0m\n\u001b[0;32m----> 1\u001b[0;31m \u001b[0mgrid\u001b[0m \u001b[0;34m=\u001b[0m \u001b[0mnp\u001b[0m\u001b[0;34m.\u001b[0m\u001b[0mc_\u001b[0m\u001b[0;34m[\u001b[0m\u001b[0mxx\u001b[0m\u001b[0;34m.\u001b[0m\u001b[0mravel\u001b[0m\u001b[0;34m(\u001b[0m\u001b[0;34m)\u001b[0m\u001b[0;34m,\u001b[0m \u001b[0myy\u001b[0m\u001b[0;34m.\u001b[0m\u001b[0mravel\u001b[0m\u001b[0;34m(\u001b[0m\u001b[0;34m)\u001b[0m\u001b[0;34m]\u001b[0m\u001b[0;34m\u001b[0m\u001b[0;34m\u001b[0m\u001b[0m\n\u001b[0m",
      "\u001b[0;31mNameError\u001b[0m: name 'xx' is not defined"
     ]
    }
   ],
   "source": [
    "grid = np.c_[xx.ravel(), yy.ravel()]"
   ]
  },
  {
   "cell_type": "code",
   "execution_count": 14,
   "metadata": {},
   "outputs": [],
   "source": [
    "from sklearn import datasets\n",
    "import numpy as np\n",
    "from sklearn.model_selection import train_test_split\n",
    "iris = datasets.load_iris()\n",
    "X = iris.data[:,:]\n",
    "y = iris.target\n",
    "X_train, X_test, y_train, y_test = train_test_split(X,y,random_state=10,test_size=0.90,stratify=y)"
   ]
  },
  {
   "cell_type": "code",
   "execution_count": null,
   "metadata": {},
   "outputs": [],
   "source": [
    "iris"
   ]
  },
  {
   "cell_type": "code",
   "execution_count": 15,
   "metadata": {},
   "outputs": [
    {
     "name": "stdout",
     "output_type": "stream",
     "text": [
      "\n",
      "\n"
     ]
    },
    {
     "data": {
      "image/png": "[encoded data removed]",
      "text/plain": [
       "<Figure size 360x360 with 1 Axes>"
      ]
     },
     "metadata": {
      "needs_background": "light"
     },
     "output_type": "display_data"
    },
    {
     "data": {
      "image/png": "[encoded data removed]",
      "text/plain": [
       "<Figure size 360x360 with 1 Axes>"
      ]
     },
     "metadata": {
      "needs_background": "light"
     },
     "output_type": "display_data"
    }
   ],
   "source": [
    "import matplotlib.pyplot as plt\n",
    "from sklearn.neighbors import KNeighborsClassifier\n",
    "k = 5\n",
    "features = [0,1]\n",
    "for weights in ['uniform', 'distance']:\n",
    "    knn = KNeighborsClassifier(n_neighbors=k,weights=weights)\n",
    "    classification_map(X_train[:,features],y_train,knn)"
   ]
  },
  {
   "cell_type": "markdown",
   "metadata": {
    "slideshow": {
     "slide_type": "slide"
    }
   },
   "source": [
    "<h1><font color=\"darkblue\">Naive Bayes Classifier</font></h1>\n",
    "\n",
    "Uses ideas from Bayesian inference.\n",
    "\n",
    "Given **data** $D = \\big\\{\\mathbf{x}_i\\big\\}_{i=1}^n$, suppose there are class labels $\\{c_1,\\ldots,c_K\\}$. By [Bayes' theorem](https://en.wikipedia.org/wiki/Bayes%27_theorem),\n",
    "\n",
    ">$\\displaystyle p(c_k \\lvert D) = \\frac{p(c_k)\\,p(D \\lvert c_k)}{p(D)} = \\frac{\\pi(c_k)\\,{\\cal{}L}\\!_D(c_k)}{Z} .$ \n",
    "\n",
    "- **Prior** $\\pi(c_k)$: Encodes belief about distribution of class labels $c_k$.\n",
    "- **Likelihood function** ${\\cal{}L}\\!_D(c_k)$: Joint probability distribution of data $D$, given class label $c_k$.\n",
    "- **Posterior** $p(c_k \\lvert D)$: Probability that data $D$ has class label $c_k$.\n",
    "\n",
    "Normalization factor (\"**evidence**\") $\\displaystyle Z = \\sum_{k=1}^K \\pi(c_k)\\,{\\cal{}L}\\!_D(c_k) $ of does not need to be computed."
   ]
  },
  {
   "cell_type": "markdown",
   "metadata": {
    "slideshow": {
     "slide_type": "slide"
    }
   },
   "source": [
    "For a feature vector $\\mathbf{x} = (x_1, \\ldots ,x_d) \\in \\mathbb{R}^d$, the probability of the label class $c_k$ is\n",
    "\n",
    ">$\\displaystyle p(c_k \\lvert \\mathbf{x}) = \\frac{\\pi(c_k)\\,{\\cal{}L}\\!_\\mathbf{x}(c_k)}{Z} .$ \n",
    "\n",
    "### Bayes classifier\n",
    "\n",
    "Choose class label $c_{k^*}$ such that _posterior is maximized_:\n",
    "\n",
    "> $$ k^* = \\operatorname{argmax}_{k=1}^K \\left\\{ \\pi(c_k)\\,{\\cal{}L}\\!_\\mathbf{x}(c_k) \\right\\} $$\n",
    "\n",
    "**Questions:**\n",
    "   - How to choose prior $\\pi(c_k)$?\n",
    "   - How to choose likelihood function ${\\cal{}L}\\!_\\mathbf{x}(c_k)$?\n",
    "\n",
    "### Key assumption of **naive** Bayes classifier\n",
    "\n",
    "Assume _naively_ that the **features** $x_1,\\ldots, x_d$ **are independent**!\n",
    "\n",
    "- Thus, likelihood such that\n",
    "\n",
    ">$\\displaystyle {\\cal{}L}_{\\!\\boldsymbol{x}}(c_k) = p(\\mathbf{x} | c_k) = \\prod_{j=1}^{d} p(x_{j} \\lvert c_k)$"
   ]
  },
  {
   "cell_type": "markdown",
   "metadata": {
    "slideshow": {
     "slide_type": "slide"
    }
   },
   "source": [
    "## Gaussian Naive Bayes\n",
    "\n",
    "- Assume marginal likelihoods $p(x_{j} \\lvert c_k)$ are **Gaussian**, \n",
    "\n",
    ">$\\displaystyle p(x_{j} \\lvert c_k) = G(x_{j};\\mu_{k,j}, \\sigma^2_{k,j})$\n",
    "\n",
    "where $G(x_{j};\\mu_{k,j}, \\sigma^2_{k,j})$ is PDF of Gaussian with mean $\\mu_{k,j}$ and variance $\\sigma^2_{k,j}$, evaluated at $x_{j}$.\n",
    "<br>\n",
    "\n",
    "- As $\\mu_{k,j}$ and $\\sigma^2_{k,j}$, we use the sample mean and the sample variance of all features for each class $k$, respectively.\n",
    "\n",
    "## Choice of prior \n",
    "\n",
    "- Pick _prior_ $\\pi_k = \\pi(c_k)$ for the classes $c_1,\\ldots, c_K$:\n",
    "\n",
    ">  -  Use **uniform prior**:\n",
    "    > $$\\pi_k = \\dfrac{1}{K}$$ \n",
    "or\n",
    "\n",
    ">  -  Use **sample-weighted prior**: For each $k=1,\\ldots,K$, search for\n",
    "    > $$\\pi_k = \\dfrac{|C_k|}{\\sum_{i=1}^K |C_i|} = \\dfrac{|C_k|}{n} $$.\n",
    "\n",
    "$|C_k|$: Number of data samples in $D$ that have label $c_k$.\n",
    "$n$: total number of data samples"
   ]
  },
  {
   "cell_type": "markdown",
   "metadata": {
    "slideshow": {
     "slide_type": "slide"
    }
   },
   "source": [
    "### Naive Bayes: Estimation\n",
    "\n",
    "- Look for maximum of the posterior, i.e.,\n",
    "\n",
    "$$ k^* = \\operatorname{argmax}_{k=1}^K \\left\\{ \\pi(c_k)\\,{\\cal{}L}\\!_\\mathbf{x}(c_k) \\right\\} $$\n",
    "\n",
    "For Gaussian Naive Bayes:\n",
    "\n",
    ">$\\displaystyle k^* =  \\mathrm{arg}\\max_k \\left[ \\pi_k \\prod_{j=1}^d G(x_{j};\\mu_{k,j}, \\sigma^2_{k,j})\\right]$ \n"
   ]
  },
  {
   "cell_type": "code",
   "execution_count": 6,
   "metadata": {},
   "outputs": [],
   "source": [
    "# unique known classes in training set\n",
    "classes = np.unique(iris.target)"
   ]
  },
  {
   "cell_type": "code",
   "execution_count": 7,
   "metadata": {},
   "outputs": [
    {
     "name": "stdout",
     "output_type": "stream",
     "text": [
      "There are 3 classes: [0 1 2]\n",
      "0 [5.006 3.428 1.462 0.246] [0.0408604  0.04725369 0.00991812 0.00365235]\n",
      "1 [5.936 2.77  4.26  1.326] [0.08761879 0.03238255 0.07261745 0.0128604 ]\n",
      "2 [6.588 2.974 5.552 2.026] [0.13297181 0.03420268 0.10016644 0.02480671]\n"
     ]
    }
   ],
   "source": [
    "print ('There are %d classes:' % len(classes), classes)\n",
    "# calculate feature means and variances for each class, and the prior\n",
    "param = dict()  # we save them in this dictionary\n",
    "data = iris.data.copy()\n",
    "for k in classes:\n",
    "    members = (iris.target == k) # boolean array\n",
    "    num = members.sum()    # True:1, False:0\n",
    "    prior = num / iris.target.size\n",
    "    XX = data[members,:] # slice out members\n",
    "    mu = XX.mean(axis=0)      # calc mean\n",
    "    Xtilde = XX - mu\n",
    "    var = (Xtilde*Xtilde).sum(axis=0) / (X.shape[0]-1)\n",
    "    param[k] = (num, prior, mu, var) # save results\n",
    "    print (k, mu, var)"
   ]
  },
  {
   "cell_type": "code",
   "execution_count": 8,
   "metadata": {},
   "outputs": [
    {
     "name": "stdout",
     "output_type": "stream",
     "text": [
      "Number of mislabeled points out of a total 150 points : 7\n"
     ]
    }
   ],
   "source": [
    "# init predicted values\n",
    "k_pred = -1 * np.ones(iris.target.size)\n",
    "\n",
    "# evaluate posterior for each point and find maximum\n",
    "for i in range(iris.target.size):\n",
    "    pmax, kmax = -1, None   # initialize to nonsense values\n",
    "    for k in classes:\n",
    "        num, prior, mu, var = param[k]\n",
    "        diff = iris.data[i,:] - mu\n",
    "        d2 = diff*diff / (2*var)\n",
    "        p = prior * np.exp(-d2.sum()) / np.sqrt(np.prod(2*np.pi*var))\n",
    "        if p > pmax:\n",
    "            pmax = p\n",
    "            kmax = k\n",
    "    k_pred[i] = kmax\n",
    "\n",
    "print(\"Number of mislabeled points out of a total %d points : %d\"\n",
    "      % (iris.target.size, (iris.target!=k_pred).sum()))"
   ]
  },
  {
   "cell_type": "code",
   "execution_count": 11,
   "metadata": {},
   "outputs": [
    {
     "data": {
      "text/plain": [
       "array([4.9, 3. , 1.4, 0.2])"
      ]
     },
     "execution_count": 11,
     "metadata": {},
     "output_type": "execute_result"
    }
   ],
   "source": [
    "iris.data[1,:]"
   ]
  },
  {
   "cell_type": "markdown",
   "metadata": {},
   "source": [
    "The scikit-learn implementation of Gaussian naive Bayes can be found [here](https://scikit-learn.org/stable/modules/generated/sklearn.naive_bayes.GaussianNB.html#sklearn.naive_bayes.GaussianNB)."
   ]
  },
  {
   "cell_type": "code",
   "execution_count": 11,
   "metadata": {},
   "outputs": [],
   "source": [
    "# run sklearn's version - read up on differences if interested\n",
    "from sklearn.naive_bayes import GaussianNB"
   ]
  },
  {
   "cell_type": "code",
   "execution_count": 13,
   "metadata": {},
   "outputs": [
    {
     "name": "stdout",
     "output_type": "stream",
     "text": [
      "Number of mislabeled points out of a total 150 points : 6\n"
     ]
    }
   ],
   "source": [
    "gnb = GaussianNB()\n",
    "\n",
    "y_pred = gnb.fit(iris.data, iris.target).predict(iris.data)\n",
    "\n",
    "print(\"Number of mislabeled points out of a total %d points : %d\"\n",
    "      % (iris.target.size, (iris.target!=y_pred).sum()))"
   ]
  },
  {
   "cell_type": "code",
   "execution_count": 14,
   "metadata": {},
   "outputs": [
    {
     "data": {
      "text/plain": [
       "False"
      ]
     },
     "execution_count": 14,
     "metadata": {},
     "output_type": "execute_result"
    }
   ],
   "source": [
    "# same results from both methods?\n",
    "np.alltrue(k_pred==y_pred)"
   ]
  },
  {
   "cell_type": "code",
   "execution_count": 10,
   "metadata": {},
   "outputs": [
    {
     "name": "stdout",
     "output_type": "stream",
     "text": [
      "[[1.00000000e+00 1.51480769e-17 2.34820051e-25]\n",
      " [1.00000000e+00 1.07304179e-18 2.34026774e-26]\n",
      " [1.00000000e+00 1.46619543e-17 2.95492722e-25]\n",
      " [1.00000000e+00 4.53291917e-19 2.88389975e-26]\n",
      " [1.00000000e+00 1.49094245e-14 1.75752068e-21]\n",
      " [1.00000000e+00 1.10262691e-17 2.71144689e-25]\n",
      " [1.00000000e+00 6.53644612e-18 2.77336308e-25]\n",
      " [1.00000000e+00 9.42227052e-18 1.20443161e-25]\n",
      " [1.00000000e+00 3.42348334e-18 1.20750647e-25]] [[8.02061979e-223 5.01446576e-009 9.99999995e-001]\n",
      " [3.87252859e-187 4.67798053e-007 9.99999532e-001]\n",
      " [1.06947698e-152 2.50121636e-002 9.74987836e-001]\n",
      " [7.07688248e-234 4.42556022e-009 9.99999996e-001]\n",
      " [3.56898830e-237 1.64602693e-010 1.00000000e+000]\n",
      " [1.56556628e-191 5.85507962e-007 9.99999414e-001]\n",
      " [1.06062035e-149 2.54457623e-002 9.74554238e-001]\n",
      " [7.98859322e-168 3.70166862e-004 9.99629833e-001]\n",
      " [1.44378562e-199 2.46020435e-007 9.99999754e-001]\n",
      " [3.25988243e-146 5.60050092e-002 9.43994991e-001]]\n"
     ]
    }
   ],
   "source": [
    "# class probabilities\n",
    "probas = gnb.predict_proba(iris.data)\n",
    "\n",
    "print(probas[1:10,:] , probas[-10:,:] )"
   ]
  },
  {
   "cell_type": "markdown",
   "metadata": {},
   "source": [
    "Note: We tested the method with _the same data_ as used in training."
   ]
  },
  {
   "cell_type": "markdown",
   "metadata": {},
   "source": [
    "### Pros and Cons\n",
    "\n",
    "- Features are automatically treated correctly relative to each other\n",
    "\n",
    "> For example, measuring similar things in different units? 1m vs 1mm\n",
    "><br><br>\n",
    "> The estimated mean and variance puts them on a meaningful scale\n",
    "\n",
    "- Independence is a strong assumption and for no good reason\n",
    "\n",
    "> Actually... it helps with the computational cost!"
   ]
  },
  {
   "cell_type": "code",
   "execution_count": 17,
   "metadata": {},
   "outputs": [
    {
     "data": {
      "image/png": "[encoded data removed]",
      "text/plain": [
       "<Figure size 360x360 with 1 Axes>"
      ]
     },
     "metadata": {
      "needs_background": "light"
     },
     "output_type": "display_data"
    }
   ],
   "source": [
    "import matplotlib.pyplot as plt\n",
    "features = [0,1]\n",
    "classification_map(X_train[:,features],y_train,gnb)\n",
    "plt.show()"
   ]
  },
  {
   "cell_type": "code",
   "execution_count": 18,
   "metadata": {},
   "outputs": [
    {
     "data": {
      "image/png": "[encoded data removed]",
      "text/plain": [
       "<Figure size 360x360 with 1 Axes>"
      ]
     },
     "metadata": {
      "needs_background": "light"
     },
     "output_type": "display_data"
    }
   ],
   "source": [
    "X_train, X_test, y_train, y_test = train_test_split(X,y,random_state=10,test_size=0.25,stratify=y)\n",
    "classification_map(X_train[:,features],y_train,gnb)\n",
    "plt.show()"
   ]
  },
  {
   "cell_type": "markdown",
   "metadata": {},
   "source": [
    "### Exercise: Gaussian Naive Bayes\n",
    "\n",
    "- Use the provided [training](files/Class-Train.csv) and [query](files/Class-Query.csv) sets to perform classification\n",
    "\n",
    "> **Training** set consists of 3 columns of ($x_i$, $y_i$, $C_i$)\n",
    "\n",
    "> **Query** set only has 2 columns of ($x_i$, $y_i$)\n"
   ]
  },
  {
   "cell_type": "markdown",
   "metadata": {},
   "source": [
    "Recall likelihood ${\\cal{}L}_{\\!\\boldsymbol{x}}(c_k)$ in Naive Bayes:\n",
    "\n",
    "$$ {\\cal{}L}_{\\!\\boldsymbol{x}}(c_k) =  \\prod_{j=1}^{d} p(x_{j} \\lvert c_k) = \\prod_{j=1}^{d} G(x_{j};\\mu_{k,j}, \\sigma^2_{k,j}),$$\n",
    "\n",
    "where $G(x_{j};\\mu_{k,j}, \\sigma^2_{k,j})$ univariate Gaussian with mean $\\mu_{k,j}$ and variance $\\sigma^2_{k,j}$.\n",
    "<br><br>\n",
    "If data set $D = \\big\\{\\mathbf{x}_i\\big\\}_{i=1}^n$ with class labels $\\big\\{y_i\\big\\}_{i=1}^n$ in $\\{c_1,\\ldots,c_K\\}$ and class sizes of $|C_1|,\\ldots,|C_K|$, we estimate \n",
    ">  $$ \\mu_{k,j} = \\frac{1}{|C_k|} \\sum_{i: y_i = c_k} (\\mathbf{x}_i)_j $$ and\n",
    ">  $$ \\sigma^2_{k,j} = \\frac{1}{|C_k|}  \\sum_{i: y_i = c_k} \\left( (\\mathbf{x}_i)_j - \\mu_{k,j} \\right)^2 $$\n",
    "for each $k=1,\\ldots, K$ and each $j=1,\\ldots, d$.\n",
    "\n",
    "<h1><font color=\"darkblue\">Linear Discriminant Analysis</font></h1>\n",
    "\n",
    "Different approach for **Linear Discriminant Analysis (LDA)**:\n",
    "\n",
    "Assume likelihood is **multivariate Gaussian** with common covariance matrix $\\Sigma$, i.e.,\n",
    ">$\\displaystyle {\\cal{}L}_{\\!\\boldsymbol{x}}(c_k) =  G(\\boldsymbol{x};\\mu_k, \\Sigma)$.\n",
    "><br><br>\n",
    "> Full covariance matrix $\\Sigma$,\n",
    "> handles correlated features well.\n",
    "\n",
    "In **LDA**: \n",
    "  - Choose $\\Sigma$ such that the _discrimination between different classes_ is maximized. \n",
    "  - Linear decision boundary\n",
    "\n",
    "In order to compute $\\Sigma$:\n",
    "  - In one-dimensional case of $d=1$: <br>\n",
    "$\\Sigma = \\sigma$ can be computed by\n",
    "\n",
    "> $$ \\sigma^2 = \\frac{1}{n-K} \\sum_{k=1}^K \\sum_{i: y_k = c_k} (x_i - \\mu_k)^2,$$ \n",
    "\n",
    "    with $\\mu_k$ as above.\n",
    "  - If $d > 1$: Singular value decomposition (SVD) of within-class scatter matrix and between-class scatter matrix.\n",
    "  \n",
    "Properties of LDA:\n",
    "> Fewer parameters than in Naive Bayes to estimate during the learning process\n",
    "><br><br>\n",
    "> Good, if we don't have enough data, for example..."
   ]
  },
  {
   "cell_type": "markdown",
   "metadata": {},
   "source": [
    "In scikit-learn: Implementation [sklearn.discriminant_analysis.LinearDiscriminantAnalysis](https://scikit-learn.org/stable/modules/generated/sklearn.discriminant_analysis.LinearDiscriminantAnalysis.html#sklearn.discriminant_analysis.LinearDiscriminantAnalysis)."
   ]
  },
  {
   "cell_type": "code",
   "execution_count": 19,
   "metadata": {},
   "outputs": [
    {
     "name": "stdout",
     "output_type": "stream",
     "text": [
      "Number of mislabeled points out of a total 150 points : 6\n",
      "The (training) accuracy for LDA model prediction (using 2 features) is:  0.8035714285714286\n",
      "The (test) accuracy for LDA model prediction (using 2 features) is:  0.8421052631578947\n"
     ]
    }
   ],
   "source": [
    "# apply LDA to Iris data\n",
    "from sklearn.discriminant_analysis import LinearDiscriminantAnalysis\n",
    "from sklearn.metrics import accuracy_score\n",
    "LDA_model = LinearDiscriminantAnalysis()\n",
    "LDA_model.fit(X_train[:,features], y_train)\n",
    "# predict target\n",
    "LDA_preds = LDA_model.predict(X_test[:,features])\n",
    "print(\"Number of mislabeled points out of a total %d points : %d\"\n",
    "      % (iris.target.size, (iris.target!=y_pred).sum()))\n",
    "# check results\n",
    "print('The (training) accuracy for LDA model prediction (using',np.size(features),'features) is: ', accuracy_score(LDA_model.predict(X_train[:,features]),y_train))\n",
    "print('The (test) accuracy for LDA model prediction (using',np.size(features),'features) is: ', accuracy_score(LDA_preds,y_test))"
   ]
  },
  {
   "cell_type": "code",
   "execution_count": 24,
   "metadata": {},
   "outputs": [
    {
     "data": {
      "image/png": "[encoded data removed]",
      "text/plain": [
       "<Figure size 360x360 with 1 Axes>"
      ]
     },
     "metadata": {
      "needs_background": "light"
     },
     "output_type": "display_data"
    }
   ],
   "source": [
    "features_new = [2,3]\n",
    "classification_map(X_train[:,features_new],y_train,LDA_model,X_test=X_test[:,features_new],y_test=y_test)\n",
    "plt.show()"
   ]
  },
  {
   "cell_type": "markdown",
   "metadata": {},
   "source": [
    "This visualized the fact that LDA has **linear decision boundaries**!"
   ]
  },
  {
   "cell_type": "code",
   "execution_count": 15,
   "metadata": {},
   "outputs": [
    {
     "data": {
      "text/plain": [
       "{'solver': 'svd',\n",
       " 'shrinkage': None,\n",
       " 'priors': None,\n",
       " 'n_components': None,\n",
       " 'store_covariance': False,\n",
       " 'tol': 0.0001,\n",
       " 'n_features_in_': 2,\n",
       " 'classes_': array([0, 1, 2]),\n",
       " 'priors_': array([0.33928571, 0.33035714, 0.33035714]),\n",
       " '_max_components': 2,\n",
       " 'means_': array([[3.42631579, 0.24736842],\n",
       "        [2.77567568, 1.34054054],\n",
       "        [2.94864865, 2.00810811]]),\n",
       " 'xbar_': array([3.05357143, 1.19017857]),\n",
       " 'explained_variance_ratio_': array([0.98883965, 0.01116035]),\n",
       " 'scalings_': array([[-1.83216673,  2.66002662],\n",
       "        [ 5.10893531,  0.8539464 ]]),\n",
       " 'intercept_': array([-15.25279877,   2.85156483, -16.70470347]),\n",
       " 'coef_': array([[ 10.57217202, -27.93836335],\n",
       "        [ -3.96506984,   6.00425399],\n",
       "        [ -6.89283655,  22.68920026]])}"
      ]
     },
     "execution_count": 15,
     "metadata": {},
     "output_type": "execute_result"
    }
   ],
   "source": [
    "vars(LDA_model)"
   ]
  },
  {
   "cell_type": "markdown",
   "metadata": {},
   "source": [
    "By default, covariance $\\Sigma$ is not stored. Choose `store_covariance=True` in parameters if desired"
   ]
  },
  {
   "cell_type": "code",
   "execution_count": 16,
   "metadata": {},
   "outputs": [
    {
     "data": {
      "text/plain": [
       "{'solver': 'svd',\n",
       " 'shrinkage': None,\n",
       " 'priors': None,\n",
       " 'n_components': None,\n",
       " 'store_covariance': True,\n",
       " 'tol': 0.0001,\n",
       " 'n_features_in_': 2,\n",
       " 'classes_': array([0, 1, 2]),\n",
       " 'priors_': array([0.33928571, 0.33035714, 0.33035714]),\n",
       " '_max_components': 2,\n",
       " 'means_': array([[4.99210526, 3.42631579],\n",
       "        [6.0027027 , 2.77567568],\n",
       "        [6.55405405, 2.94864865]]),\n",
       " 'covariance_': array([[0.26008262, 0.08395562],\n",
       "        [0.08395562, 0.11369844]]),\n",
       " 'xbar_': array([5.84196429, 3.05357143]),\n",
       " 'explained_variance_ratio_': array([0.97136806, 0.02863194]),\n",
       " 'scalings_': array([[-2.05177841, -0.83857855],\n",
       "        [ 2.62191672, -2.08900686]]),\n",
       " 'intercept_': array([  5.30091503,  -0.95283509, -13.85891929]),\n",
       " 'coef_': array([[-5.52760512,  7.27216405],\n",
       "        [ 1.79785827, -3.70622892],\n",
       "        [ 3.87914159, -3.7624801 ]])}"
      ]
     },
     "execution_count": 16,
     "metadata": {},
     "output_type": "execute_result"
    }
   ],
   "source": [
    "LDA_modelcov = LinearDiscriminantAnalysis(store_covariance=True)\n",
    "LDA_modelcov.fit(X_train[:,features], y_train)\n",
    "vars(LDA_modelcov)"
   ]
  },
  {
   "cell_type": "code",
   "execution_count": 17,
   "metadata": {},
   "outputs": [
    {
     "name": "stdout",
     "output_type": "stream",
     "text": [
      "[[0.26008262 0.08395562]\n",
      " [0.08395562 0.11369844]]\n"
     ]
    }
   ],
   "source": [
    "print(LDA_modelcov.covariance_) # to obtain the covariance matrix"
   ]
  },
  {
   "cell_type": "markdown",
   "metadata": {},
   "source": [
    "   - Linear Discriminant Analysis can also be used as (supervised) dimension reduction method"
   ]
  },
  {
   "cell_type": "markdown",
   "metadata": {},
   "source": [
    "### Exercise: Naive Bayes & LDA\n",
    "\n",
    "- Use the provided [training](files/Class-Train.csv) and [query](files/Class-Query.csv) sets to perform classification\n",
    "\n",
    "> **Training** set consists of 3 columns of ($x_i$, $y_i$, $C_i$)\n",
    "><br><br>\n",
    "> **Query** set only has 2 columns of ($x_i$, $y_i$)\n"
   ]
  }
 ],
 "metadata": {
  "anaconda-cloud": {},
  "kernelspec": {
   "display_name": "Python 3",
   "language": "python",
   "name": "python3"
  },
  "language_info": {
   "codemirror_mode": {
    "name": "ipython",
    "version": 3
   },
   "file_extension": ".py",
   "mimetype": "text/x-python",
   "name": "python",
   "nbconvert_exporter": "python",
   "pygments_lexer": "ipython3",
   "version": "3.8.8"
  },
  "varInspector": {
   "cols": {
    "lenName": 16,
    "lenType": 16,
    "lenVar": 40
   },
   "kernels_config": {
    "python": {
     "delete_cmd_postfix": "",
     "delete_cmd_prefix": "del ",
     "library": "var_list.py",
     "varRefreshCmd": "print(var_dic_list())"
    },
    "r": {
     "delete_cmd_postfix": ") ",
     "delete_cmd_prefix": "rm(",
     "library": "var_list.r",
     "varRefreshCmd": "cat(var_dic_list()) "
    }
   },
   "types_to_exclude": [
    "module",
    "function",
    "builtin_function_or_method",
    "instance",
    "_Feature"
   ],
   "window_display": false
  }
 },
 "nbformat": 4,
 "nbformat_minor": 4
}
