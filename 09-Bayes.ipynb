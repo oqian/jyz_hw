{
 "cells": [
  {
   "cell_type": "markdown",
   "metadata": {
    "nbpresent": {
     "id": "978ff1f5-ffac-4819-b832-db261a5fb32c"
    },
    "slideshow": {
     "slide_type": "slide"
    }
   },
   "source": [
    "<hr/>\n",
    "\n",
    "# Introduction to Data Science - Fall 2021\n",
    "**Jinchao Feng and Christian Kuemmerle** - introdsfall2021@jh.edu <br/>\n",
    "\n",
    "- Bayesian inference\n",
    "- Prior: proper vs improper\n",
    "- Likelihood function\n",
    "- Maximum Likelihood Estimation\n",
    "- Links to least squares\n",
    "\n",
    "<hr/>"
   ]
  },
  {
   "cell_type": "markdown",
   "metadata": {
    "nbpresent": {
     "id": "9e13cc51-e810-49c3-ac4c-82398c17211d"
    }
   },
   "source": [
    "<h1><font color=\"darkblue\">Bayesian Inference</font></h1>\n",
    "\n",
    "### Joint & Conditional Probability\n",
    "- Consider random variables $X$, $Y$ of events. Their **joint probability** is\n",
    "\n",
    ">$\\displaystyle P(X=x, Y=y) \\neq P(X=x)\\,P(Y=y)$ \n",
    ">\n",
    "> instead\n",
    ">\n",
    ">$\\displaystyle P(X=x, Y=y) = P(X=x)\\,P(Y=y \\lvert X=x)$ \n",
    ">\n",
    "> where $P(Y = y \\lvert X=x)$ is the **conditional probability** of $Y=y$ given $X=x$\n",
    "\n",
    "- For example, if $X$ represents the event of flipping head and $Y$ is tail on the same trial, $P(X=head,Y=tail)=0$ because $P(Y =tail \\lvert  X=head)=0$. \n",
    "\n",
    "- But on separate trials, the events would be independent and we would have $P(Y = y \\lvert  X=x)=P(Y=y)$.\n"
   ]
  },
  {
   "cell_type": "markdown",
   "metadata": {
    "nbpresent": {
     "id": "4349fff5-7a9a-49be-a174-0f302cc3e27b"
    }
   },
   "source": [
    "### Bayes' Theorem\n",
    "\n",
    "Rev. Thomas Bayes (c.1701-1761)\n",
    "\n",
    "<img src=https://upload.wikimedia.org/wikipedia/commons/d/d4/Thomas_Bayes.gif align=left height=200>"
   ]
  },
  {
   "cell_type": "markdown",
   "metadata": {
    "nbpresent": {
     "id": "4349fff5-7a9a-49be-a174-0f302cc3e27b"
    }
   },
   "source": [
    "- The joint probability of $X$ and $Y$ discrete events\n",
    "\n",
    ">$\\displaystyle P(X=x,Y=y) = P(X=x)\\,P(Y = y \\lvert X = x)$ \n",
    ">\n",
    "> and \n",
    ">\n",
    ">$\\displaystyle P(Y=y,X=x) = P(Y=y)\\,P(X = x  \\lvert Y = y)$ \n",
    ">\n",
    "> Their equality yields\n",
    ">\n",
    ">$\\displaystyle P(X = x \\lvert Y = y) = \\frac{P(X = x)\\,P(Y = y \\lvert X = x)}{P(Y = y)}$ "
   ]
  },
  {
   "cell_type": "markdown",
   "metadata": {},
   "source": [
    "- Example:\n",
    "\n",
    "> * Suppose a certain disease has an incidence rate of 0.1% (that is, about 1 in every 1000 people has the disease. \n",
    ">\n",
    "> * A test has been devised to detect this disease. \n",
    ">\n",
    "> * If the false negative rate is 10% (that is, about 10% of people who take the test will test negative, even though they **do** have the disease)\n",
    ">\n",
    "> * and the false positive rate is 5% (that is, about 5% of people who take the test will test positive, even though they **do not** have the disease)\n",
    ">\n",
    "> * Suppose a randomly selected person takes the test and tests positive.  What is the probability that this person actually has the disease?                                                                   \n",
    "    \n",
    "- Input:\n",
    "\n",
    "> P(disease)=0.001 <=> P(no disease)=0.999; \n",
    "> P(negative | disease)= 0.1 <=> P(positive | disease)= 0.9; \n",
    "> P(positive | no disease)=0.05 <=> P(negative | no disease)=0.95 \n",
    "> \n",
    "- Output: P(disease | positive)\n",
    "\n",
    "> $\\displaystyle P(disease | positive) = \\frac{P(positive | disease) P(disease)}{P(positive)}$\n",
    ">\n",
    "> $\\displaystyle P(positive) = P(positive | disease)P(disease) + P(positive | no\\ disease)P(no\\ disease)$  **(Law of Total Probability)**"
   ]
  },
  {
   "cell_type": "code",
   "execution_count": 1,
   "metadata": {},
   "outputs": [
    {
     "name": "stdout",
     "output_type": "stream",
     "text": [
      "The probability that this person actually has the disease given the positive test result is 0.017699\n"
     ]
    }
   ],
   "source": [
    "print(\"The probability that this person actually has the disease given the positive test result is %.6f\" % ((0.9 * 0.001)/(0.9 * 0.001 + 0.05 * 0.999)))"
   ]
  },
  {
   "cell_type": "markdown",
   "metadata": {},
   "source": [
    "**Unhomework:** If a person takes the test twice (independently), and both results are positive. What is the probability that this person actually has the disease?                                         "
   ]
  },
  {
   "cell_type": "markdown",
   "metadata": {
    "nbpresent": {
     "id": "a4ed11a3-064c-4aba-afc5-27020039d755"
    }
   },
   "source": [
    "### Probability Densities\n",
    "- It is also true in the continuous case and PDFs\n",
    "\n",
    ">$\\displaystyle P(X = x \\lvert y) = \\frac{P(X = x)\\,p(y \\lvert X = x)}{p(y)}$ \n",
    ">\n",
    "> and\n",
    ">\n",
    ">$\\displaystyle p(x \\lvert Y = y) = \\frac{p(x)\\,P(Y = y \\lvert x)}{P(Y = y)}$ \n",
    ">"
   ]
  },
  {
   "cell_type": "markdown",
   "metadata": {
    "nbpresent": {
     "id": "be3e9a65-83ef-4b03-a7e1-3fdc67433261"
    }
   },
   "source": [
    "- Also\n",
    "\n",
    ">$\\displaystyle p(x \\lvert y) = \\frac{p(x)\\,p(y \\lvert x)}{p(y)}$ \n",
    ">\n",
    "> where\n",
    ">\n",
    ">$\\displaystyle p(y) = \\int p(x)\\,p(y \\lvert x)\\,dx$ \n",
    ">\n",
    "> to ensure that\n",
    ">\n",
    ">$\\displaystyle \\int p(x \\lvert y)\\,dx = 1$ "
   ]
  },
  {
   "cell_type": "markdown",
   "metadata": {
    "nbpresent": {
     "id": "c0cae685-cadf-4c80-abd1-5bfdaa093971"
    }
   },
   "source": [
    "### Probabilitistic Model\n",
    "- From data $D$ we can **infer** the parameters $\\theta$ of model $M$ \n",
    "\n",
    ">$\\displaystyle p(\\theta \\lvert D) = \\frac{p(\\theta)\\,p(D \\lvert \\theta)}{p(D)}$ \n",
    ">\n",
    "> or including the model $M$ explicitly\n",
    ">\n",
    ">\n",
    ">$\\displaystyle p(\\theta \\lvert D,M) = \\frac{p(\\theta \\lvert M)\\,p(D \\lvert \\theta,M)}{p(D \\lvert M)}$ \n",
    "\n"
   ]
  },
  {
   "cell_type": "markdown",
   "metadata": {
    "nbpresent": {
     "id": "6f060d06-d47e-4e84-9d27-313e2e9f2515"
    }
   },
   "source": [
    "### Likelihood Function, Prior distribution, Posterior distribution\n",
    "\n",
    "- From data $D$ we can **infer** the parameters $\\theta$ of model $M$ \n",
    "\n",
    ">$\\displaystyle p(\\theta \\lvert D) = \\frac{\\pi(\\theta)\\,{\\cal{}L}\\!_D(\\theta)}{Z}$ \n",
    ">\n",
    "> where the normalization\n",
    ">\n",
    ">$\\displaystyle Z = \\int \\pi(\\theta)\\,{\\cal{}L}\\!_D(\\theta)\\ d\\theta $ \n",
    ">\n",
    "> * $Z = p(D)$ also called **evidence**, which is the probability of the data, not given any specific set of parameters $\\theta$, but given the model we choose.\n",
    "\n",
    "- The **posterior** $p(\\theta \\lvert D)$ is proportional to the **prior** $\\pi(\\theta)$ times the **likelihood function** ${\\cal{}L}\\!_D(\\theta)$"
   ]
  },
  {
   "cell_type": "markdown",
   "metadata": {
    "nbpresent": {
     "id": "b8920874-4b6e-4946-a26e-461506850628"
    }
   },
   "source": [
    "### Data\n",
    "- A set of independent measurements\n",
    "\n",
    ">$\\displaystyle D = \\Big\\{x_i\\Big\\}_{i=1}^N$\n",
    "\n",
    "- E.g., heights of people in a conference"
   ]
  },
  {
   "cell_type": "code",
   "execution_count": 13,
   "metadata": {},
   "outputs": [],
   "source": [
    "import numpy as np\n",
    "import matplotlib.pyplot as plt\n",
    "from scipy import stats\n",
    "\n",
    "# Data set of heights\n",
    "heights = np.array([183, 168, 177, 160, 175, 167, 158, 166, 174, 178])"
   ]
  },
  {
   "cell_type": "markdown",
   "metadata": {
    "nbpresent": {
     "id": "28ccfbf6-3a33-4e28-a9f3-93e3e230a3fe"
    }
   },
   "source": [
    "### Model Parametrization\n",
    "\n",
    "- For example, we can assume that the true height can be modelled by a Gaussian distribution, and it is parameterized with a mean $\\mu$ and a standard deviation $\\sigma$\n",
    "\n",
    "> *“All models are wrong, but some are useful”*. --- George E. P. Box\n",
    "\n",
    "> Deciding which model to use can be obvious in few cases, but it will be complex in many others, for which we will use a combination of different distributions to explain how our data was generated."
   ]
  },
  {
   "cell_type": "markdown",
   "metadata": {
    "nbpresent": {
     "id": "16aa483a-9bdc-419c-ab32-ddb981316486"
    }
   },
   "source": [
    "### What is the likelihood function?\n",
    "\n",
    "- The likelihood is the probability of obtaining the data $x_i$ from the choosen model (e.g. the Gaussian distribution) and for a specific set of parameters $\\theta$. For a set of independent measurements:\n",
    "\n",
    ">$\\displaystyle {\\cal L}\\!_D(\\mu, \\sigma) = p(D \\lvert \\mu, \\sigma^2) = p(\\{x_i\\!\\}\\lvert\\mu, \\sigma^2) = \\prod_{i=1}^N p(x_i\\lvert\\mu, \\sigma^2) = \\prod_{i=1}^N \\ell\\!_{i}(\\mu,\\sigma)$\n",
    "\n",
    "- For example, Gaussian uncertainties\n",
    "\n",
    ">$\\displaystyle \\ell\\!_{i}(\\mu,\\sigma) = \\frac{1}{\\sqrt{2\\pi\\sigma^2}}\\ \\exp\\left\\{-\\frac{(x_i-\\mu)^2}{2\\sigma^2}\\right\\}$\n",
    "\n"
   ]
  },
  {
   "cell_type": "code",
   "execution_count": 14,
   "metadata": {},
   "outputs": [
    {
     "data": {
      "text/plain": [
       "Text(0, 0.5, '$\\\\sigma$')"
      ]
     },
     "execution_count": 14,
     "metadata": {},
     "output_type": "execute_result"
    },
    {
     "data": {
      "image/png": "[encoded data removed]",
      "text/plain": [
       "<Figure size 432x288 with 1 Axes>"
      ]
     },
     "metadata": {
      "needs_background": "light"
     },
     "output_type": "display_data"
    }
   ],
   "source": [
    "import scipy.stats\n",
    "\n",
    "# lets create a grid of our two parameters\n",
    "mu = np.linspace(130, 220)\n",
    "sigma = np.linspace(0, 15)[::-1]\n",
    "\n",
    "mm, ss = np.meshgrid(mu, sigma[:-1])  # just broadcasted parameters\n",
    "\n",
    "# compute likelihood\n",
    "likelihood = np.prod([stats.norm(mm, ss).pdf(a) for a in heights], axis=0)\n",
    "aspect = mm.max() / ss.max() / 3\n",
    "extent = [mm.min(), mm.max(), ss.min(), ss.max()]\n",
    "# extent = left right bottom top\n",
    "\n",
    "plt.imshow(likelihood, cmap='Reds', aspect=aspect, extent=extent)\n",
    "plt.xlabel(r'$\\mu$')\n",
    "plt.ylabel(r'$\\sigma$')"
   ]
  },
  {
   "cell_type": "code",
   "execution_count": 20,
   "metadata": {},
   "outputs": [
    {
     "data": {
      "text/plain": [
       "(49, 50)"
      ]
     },
     "execution_count": 20,
     "metadata": {},
     "output_type": "execute_result"
    }
   ],
   "source": [
    "likelihood.shape"
   ]
  },
  {
   "cell_type": "code",
   "execution_count": 11,
   "metadata": {},
   "outputs": [
    {
     "data": {
      "text/plain": [
       "array([[15.        , 15.        , 15.        , ..., 15.        ,\n",
       "        15.        , 15.        ],\n",
       "       [14.69387755, 14.69387755, 14.69387755, ..., 14.69387755,\n",
       "        14.69387755, 14.69387755],\n",
       "       [14.3877551 , 14.3877551 , 14.3877551 , ..., 14.3877551 ,\n",
       "        14.3877551 , 14.3877551 ],\n",
       "       ...,\n",
       "       [ 0.91836735,  0.91836735,  0.91836735, ...,  0.91836735,\n",
       "         0.91836735,  0.91836735],\n",
       "       [ 0.6122449 ,  0.6122449 ,  0.6122449 , ...,  0.6122449 ,\n",
       "         0.6122449 ,  0.6122449 ],\n",
       "       [ 0.30612245,  0.30612245,  0.30612245, ...,  0.30612245,\n",
       "         0.30612245,  0.30612245]])"
      ]
     },
     "execution_count": 11,
     "metadata": {},
     "output_type": "execute_result"
    }
   ],
   "source": [
    "ss"
   ]
  },
  {
   "cell_type": "code",
   "execution_count": 12,
   "metadata": {},
   "outputs": [
    {
     "data": {
      "text/plain": [
       "array([0. , 0.5, 1. ])"
      ]
     },
     "execution_count": 12,
     "metadata": {},
     "output_type": "execute_result"
    }
   ],
   "source": [
    "np.linspace(0, 1,3)"
   ]
  },
  {
   "cell_type": "code",
   "execution_count": 18,
   "metadata": {},
   "outputs": [
    {
     "data": {
      "text/plain": [
       "(49, 50)"
      ]
     },
     "execution_count": 18,
     "metadata": {},
     "output_type": "execute_result"
    }
   ],
   "source": [
    "likelihood.shape"
   ]
  },
  {
   "cell_type": "markdown",
   "metadata": {
    "nbpresent": {
     "id": "28ccfbf6-3a33-4e28-a9f3-93e3e230a3fe"
    }
   },
   "source": [
    "### Prior Distribution\n",
    "\n",
    "- The prior is our knowledge of the parameters before we observe the data. It's probably the most subjective part of Bayesian inference, and different approaches can be used. For example, use the mean of the world population as the mean of our prior, which is arond 165 cms, and take the standard deviation of the world population, 7 cms.\n",
    "\n",
    "> We pick an appropriate prior - often people say we use a \"flat\" prior because we don't know...\n",
    "\n",
    "- We could have chosen another parametrization, say $\\tan \\phi$ with $\\phi \\in \\left(-\\frac{\\pi}{2},\\frac{\\pi}{2} \\right)$\n",
    "\n",
    "> Clearly a \"flat prior\" means something different!\n",
    "><br/>\n",
    "> What should be the prior? Needs careful consideration!\n",
    "\n",
    "- Non-informative prior?\n",
    "\n",
    "> For more, see [Jeffreys prior](https://en.wikipedia.org/wiki/Jeffreys_prior)"
   ]
  },
  {
   "cell_type": "code",
   "execution_count": 21,
   "metadata": {},
   "outputs": [
    {
     "data": {
      "text/plain": [
       "Text(0, 0.5, '$\\\\sigma$')"
      ]
     },
     "execution_count": 21,
     "metadata": {},
     "output_type": "execute_result"
    },
    {
     "data": {
      "image/png": "[encoded data removed]",
      "text/plain": [
       "<Figure size 432x288 with 1 Axes>"
      ]
     },
     "metadata": {
      "needs_background": "light"
     },
     "output_type": "display_data"
    }
   ],
   "source": [
    "# prior information\n",
    "world_height_mean = 165\n",
    "world_height_standard_deviation = 7\n",
    "\n",
    "# plot the prior distribution\n",
    "prior = stats.norm(world_height_mean, world_height_standard_deviation*2).pdf(mm) * stats.gamma(world_height_standard_deviation*0.5,0,2).pdf(ss)\n",
    "\n",
    "plt.imshow(prior, cmap='Greens', aspect=aspect, extent=extent)\n",
    "plt.xlabel(r'$\\mu$')\n",
    "plt.ylabel(r'$\\sigma$')"
   ]
  },
  {
   "cell_type": "code",
   "execution_count": 23,
   "metadata": {},
   "outputs": [
    {
     "data": {
      "text/plain": [
       "(49, 50)"
      ]
     },
     "execution_count": 23,
     "metadata": {},
     "output_type": "execute_result"
    }
   ],
   "source": [
    "stats.norm(world_height_mean, world_height_standard_deviation*2).pdf(mm).shape"
   ]
  },
  {
   "cell_type": "markdown",
   "metadata": {
    "nbpresent": {
     "id": "821311cd-c763-4c57-be59-e545cd81188e"
    }
   },
   "source": [
    "### Detour: Improper Priors\n",
    "\n",
    "- The posterior PDF is\n",
    "\n",
    ">$\\displaystyle p(\\theta|D) = \\frac{\\pi(\\theta) \\prod {\\ell}\\!_i(\\theta)}{\\int \\pi(\\theta) \\prod {\\ell}\\!_i(\\theta)\\,d\\theta}\\ $ \n",
    "\n",
    "- Uniform prior?\n",
    "\n",
    "> Using $\\pi(\\theta)\\!=\\!1$ is clearly wrong but what if the prior is flat over the interval where likelihood function is non-zero (if!), the normalization cancels from the ratio\n"
   ]
  },
  {
   "cell_type": "markdown",
   "metadata": {},
   "source": [
    "### Posterior distribution\n",
    "\n",
    "- $\\displaystyle p(\\theta \\lvert D) = \\frac{\\pi(\\theta)\\,{\\cal{}L}\\!_D(\\theta)}{Z}$ "
   ]
  },
  {
   "cell_type": "code",
   "execution_count": 1,
   "metadata": {
    "scrolled": true
   },
   "outputs": [
    {
     "ename": "NameError",
     "evalue": "name 'prior' is not defined",
     "output_type": "error",
     "traceback": [
      "\u001b[1;31m---------------------------------------------------------------------------\u001b[0m",
      "\u001b[1;31mNameError\u001b[0m                                 Traceback (most recent call last)",
      "\u001b[1;32m<ipython-input-1-32b656dc1924>\u001b[0m in \u001b[0;36m<module>\u001b[1;34m\u001b[0m\n\u001b[0;32m      1\u001b[0m \u001b[1;31m# compute the posterior for the grid\u001b[0m\u001b[1;33m\u001b[0m\u001b[1;33m\u001b[0m\u001b[1;33m\u001b[0m\u001b[0m\n\u001b[1;32m----> 2\u001b[1;33m \u001b[0munnormalized_posterior\u001b[0m \u001b[1;33m=\u001b[0m \u001b[0mprior\u001b[0m \u001b[1;33m*\u001b[0m \u001b[0mlikelihood\u001b[0m\u001b[1;33m\u001b[0m\u001b[1;33m\u001b[0m\u001b[0m\n\u001b[0m\u001b[0;32m      3\u001b[0m \u001b[0mposterior\u001b[0m \u001b[1;33m=\u001b[0m \u001b[0munnormalized_posterior\u001b[0m \u001b[1;33m/\u001b[0m \u001b[1;33m(\u001b[0m\u001b[0mnp\u001b[0m\u001b[1;33m.\u001b[0m\u001b[0mtrapz\u001b[0m\u001b[1;33m(\u001b[0m\u001b[0mnp\u001b[0m\u001b[1;33m.\u001b[0m\u001b[0mtrapz\u001b[0m\u001b[1;33m(\u001b[0m\u001b[0munnormalized_posterior\u001b[0m\u001b[1;33m,\u001b[0m\u001b[0mmu\u001b[0m\u001b[1;33m)\u001b[0m\u001b[1;33m,\u001b[0m\u001b[0msigma\u001b[0m\u001b[1;33m[\u001b[0m\u001b[1;33m:\u001b[0m\u001b[1;33m-\u001b[0m\u001b[1;36m1\u001b[0m\u001b[1;33m]\u001b[0m\u001b[1;33m)\u001b[0m\u001b[1;33m)\u001b[0m\u001b[1;33m\u001b[0m\u001b[1;33m\u001b[0m\u001b[0m\n\u001b[0;32m      4\u001b[0m \u001b[0mplt\u001b[0m\u001b[1;33m.\u001b[0m\u001b[0mimshow\u001b[0m\u001b[1;33m(\u001b[0m\u001b[0mposterior\u001b[0m\u001b[1;33m,\u001b[0m \u001b[0mcmap\u001b[0m\u001b[1;33m=\u001b[0m\u001b[1;34m'Blues'\u001b[0m\u001b[1;33m,\u001b[0m \u001b[0maspect\u001b[0m\u001b[1;33m=\u001b[0m\u001b[0maspect\u001b[0m\u001b[1;33m,\u001b[0m \u001b[0mextent\u001b[0m\u001b[1;33m=\u001b[0m\u001b[0mextent\u001b[0m\u001b[1;33m)\u001b[0m\u001b[1;33m\u001b[0m\u001b[1;33m\u001b[0m\u001b[0m\n\u001b[0;32m      5\u001b[0m \u001b[0mplt\u001b[0m\u001b[1;33m.\u001b[0m\u001b[0mxlabel\u001b[0m\u001b[1;33m(\u001b[0m\u001b[1;34mr'$\\mu$'\u001b[0m\u001b[1;33m)\u001b[0m\u001b[1;33m\u001b[0m\u001b[1;33m\u001b[0m\u001b[0m\n",
      "\u001b[1;31mNameError\u001b[0m: name 'prior' is not defined"
     ]
    }
   ],
   "source": [
    "# compute the posterior for the grid\n",
    "unnormalized_posterior = prior * likelihood\n",
    "posterior = unnormalized_posterior / (-np.trapz(np.trapz(unnormalized_posterior,mu),sigma[:-1]))\n",
    "plt.imshow(posterior, cmap='Blues', aspect=aspect, extent=extent)\n",
    "plt.xlabel(r'$\\mu$')\n",
    "plt.ylabel(r'$\\sigma$')"
   ]
  },
  {
   "cell_type": "markdown",
   "metadata": {
    "nbpresent": {
     "id": "37cdbbee-2d2a-4214-b26b-ba7a91ba566e"
    }
   },
   "source": [
    "### Estimation\n",
    "\n",
    "- Expected value\n",
    "\n",
    ">$\\displaystyle \\int \\mu\\, p(\\mu \\lvert D)\\, d\\mu$\n",
    "\n",
    "> where $p(\\mu \\lvert D) = \\int p(\\theta \\lvert D)\\, d\\sigma$\n",
    "\n",
    "- Variance: 2nd central moment\n",
    "\n",
    "\n"
   ]
  },
  {
   "cell_type": "code",
   "execution_count": 6,
   "metadata": {},
   "outputs": [
    {
     "name": "stdout",
     "output_type": "stream",
     "text": [
      "Mean and variance of μ̂ is (170.402713, 6.911867).\n"
     ]
    },
    {
     "data": {
      "image/png": "[encoded data removed]",
      "text/plain": [
       "<Figure size 432x288 with 1 Axes>"
      ]
     },
     "metadata": {
      "needs_background": "light"
     },
     "output_type": "display_data"
    }
   ],
   "source": [
    "# mean and variance of mu_hat\n",
    "posterior_mu = -np.trapz(posterior,sigma[:-1], axis = 0)\n",
    "plt.plot(mu,posterior_mu)\n",
    "mu_mean = np.trapz(mu*posterior_mu,mu)\n",
    "mu_var = np.trapz((mu-mu_mean)**2*posterior_mu,mu)\n",
    "print(\"Mean and variance of \\u03BC\\u0302 is (%.6f, %.6f).\" % (mu_mean, mu_var))"
   ]
  },
  {
   "cell_type": "markdown",
   "metadata": {
    "nbpresent": {
     "id": "3ee5d8bb-95e3-48f1-bc1d-89b2874f040f"
    }
   },
   "source": [
    "### Maximum Likelihood Estimation (MLE)\n",
    "\n",
    "- Maximizing ${\\cal{}L}$ is the same as minimizing $-\\log{\\cal{}L}$, $\\hat\\theta_{MLE} = argmin_{\\theta}\\ -\\log \\cal{}L\\!_D(\\theta)$ \n",
    "\n",
    "> $\\displaystyle -\\log{\\cal{}L(\\mu)} = \\mathrm{const.} + \\sum_{i=1}^N \\frac{(x_i\\!-\\!\\mu)^2}{2\\sigma^2}$\n",
    "><br/>\n",
    "><br/>\n",
    "> Cf. the method of least squares\n",
    "\n",
    "\n"
   ]
  },
  {
   "cell_type": "code",
   "execution_count": 7,
   "metadata": {},
   "outputs": [
    {
     "name": "stdout",
     "output_type": "stream",
     "text": [
      "MLE for (μ,σ) is (170.408163, 7.653061).\n"
     ]
    }
   ],
   "source": [
    "# MLE using a grid approximation\n",
    "ind = np.where(likelihood == likelihood.max())\n",
    "print(\"MLE for (\\u03BC,\\u03C3) is (%.6f, %.6f).\" % (mm[ind], ss[ind]))"
   ]
  },
  {
   "cell_type": "markdown",
   "metadata": {
    "nbpresent": {
     "id": "14fae3f4-c070-495a-a7b6-2253f5539878"
    }
   },
   "source": [
    "### Result\n",
    "\n",
    "- $\\displaystyle \\hat\\mu = \\sum_{i=1}^N \\frac{x_i}{N}$, $\\displaystyle \\hat\\sigma^2 = \\frac{1}{N} \\sum_{i=1}^N (x_i - \\hat\\mu)^2$"
   ]
  },
  {
   "cell_type": "code",
   "execution_count": 8,
   "metadata": {},
   "outputs": [
    {
     "data": {
      "text/plain": [
       "[170.6, 7.696752561957543]"
      ]
     },
     "execution_count": 8,
     "metadata": {},
     "output_type": "execute_result"
    }
   ],
   "source": [
    "# exact MLE result\n",
    "[np.mean(heights), np.sqrt(np.var(heights))]"
   ]
  },
  {
   "cell_type": "markdown",
   "metadata": {
    "nbpresent": {
     "id": "14fae3f4-c070-495a-a7b6-2253f5539878"
    }
   },
   "source": [
    "- If we know $\\sigma_i$\n",
    "\n",
    "- Weighted average! Using $w_i = 1 \\big/ \\sigma_i^2$\n",
    "\n",
    "> $\\displaystyle \\hat{\\mu} = \\frac{\\sum w_i x_i}{\\sum w_i}$\n",
    "\n",
    "- Also variance!\n",
    "\n",
    ">$\\displaystyle \\frac{1}{\\sigma_{\\mu}^2} = \\sum w_i = \\sum \\frac{1}{\\sigma_i^2}$\n",
    "><br/>\n",
    "><br/>\n",
    "> If all have the same $\\sigma$, we have\n",
    "><br/>\n",
    "><br/>\n",
    ">$\\displaystyle \\frac{1}{\\sigma_{\\mu}^2} = \\frac{N}{\\sigma^2}$\n",
    "$\\ \\ \\ \\rightarrow\\ \\ \\ \\\n",
    "\\displaystyle \\sigma_{\\mu} = {\\sigma} \\big/{\\sqrt{N}}$"
   ]
  },
  {
   "cell_type": "markdown",
   "metadata": {},
   "source": [
    "### Maximum a Posteriori estimation (MAP)\n",
    "\n",
    "- $\\hat\\theta_{MAP} = argmin_{\\theta}\\ -\\log \\cal{}L\\!_D(\\theta) -\\log \\pi(\\theta)$ "
   ]
  },
  {
   "cell_type": "code",
   "execution_count": 9,
   "metadata": {},
   "outputs": [
    {
     "name": "stdout",
     "output_type": "stream",
     "text": [
      "MAP for (μ,σ) is (170.408163, 7.346939).\n"
     ]
    }
   ],
   "source": [
    "# MAP using a grid approximation\n",
    "ind = np.where(posterior == posterior.max())\n",
    "print(\"MAP for (\\u03BC,\\u03C3) is (%.6f, %.6f).\" % (mm[ind], ss[ind]))"
   ]
  },
  {
   "cell_type": "markdown",
   "metadata": {},
   "source": [
    "- if we know $\\sigma_i \\equiv \\sigma$, $\\pi(\\mu) = \\mathcal{N}(\\mu_0,\\sigma_0^2)$\n",
    "\n",
    "> $\\displaystyle \\hat{\\mu} = \\frac{N\\sigma_0^2}{\\sigma^2+N\\sigma_0^2}\\bar{x}+\\frac{\\sigma^2}{\\sigma^2+N\\sigma_0^2}\\mu_0$\n",
    "\n",
    "> $\\displaystyle \\sigma_{\\mu}^2  = (\\frac{N}{\\sigma^2}+\\frac{1}{\\sigma_0^2})^{-1}$"
   ]
  },
  {
   "cell_type": "code",
   "execution_count": null,
   "metadata": {},
   "outputs": [],
   "source": []
  }
 ],
 "metadata": {
  "anaconda-cloud": {},
  "kernelspec": {
   "display_name": "Python 3",
   "language": "python",
   "name": "python3"
  },
  "language_info": {
   "codemirror_mode": {
    "name": "ipython",
    "version": 3
   },
   "file_extension": ".py",
   "mimetype": "text/x-python",
   "name": "python",
   "nbconvert_exporter": "python",
   "pygments_lexer": "ipython3",
   "version": "3.8.8"
  },
  "nbpresent": {
   "slides": {
    "0db15b68-434e-4168-b87b-8c022669e794": {
     "id": "0db15b68-434e-4168-b87b-8c022669e794",
     "prev": "9d7d757a-65fc-4a11-9255-d6f44b7cd7d0",
     "regions": {
      "6d136006-49fb-40d9-94c1-7aa9b7f780bd": {
       "attrs": {
        "height": 0.8,
        "width": 0.8,
        "x": 0.1,
        "y": 0.1
       },
       "content": {
        "cell": "fa034999-d4ca-4a7a-bfe1-738e03123fac",
        "part": "whole"
       },
       "id": "6d136006-49fb-40d9-94c1-7aa9b7f780bd"
      }
     }
    },
    "1acb2407-3452-43a9-998e-036067e56e7e": {
     "id": "1acb2407-3452-43a9-998e-036067e56e7e",
     "prev": "861f7e4d-723f-4bab-8273-6498380d395c",
     "regions": {
      "cb08a654-8e86-4073-b831-033065f34bf5": {
       "attrs": {
        "height": 0.8,
        "width": 0.8,
        "x": 0.1,
        "y": 0.1
       },
       "content": {
        "cell": "be3e9a65-83ef-4b03-a7e1-3fdc67433261",
        "part": "whole"
       },
       "id": "cb08a654-8e86-4073-b831-033065f34bf5"
      }
     }
    },
    "2d51d07f-6d89-43d4-846b-ca0dc6246a3b": {
     "id": "2d51d07f-6d89-43d4-846b-ca0dc6246a3b",
     "prev": "582a2192-ea55-41d1-925a-af0037e5eb79",
     "regions": {
      "ce8fd56c-bddf-49bb-b934-9b62844872af": {
       "attrs": {
        "height": 0.8,
        "width": 0.8,
        "x": 0.1,
        "y": 0.1
       },
       "content": {
        "cell": "14fae3f4-c070-495a-a7b6-2253f5539878",
        "part": "whole"
       },
       "id": "ce8fd56c-bddf-49bb-b934-9b62844872af"
      }
     }
    },
    "2d7b1ea3-3bba-4837-8661-bb5154a57cb7": {
     "id": "2d7b1ea3-3bba-4837-8661-bb5154a57cb7",
     "prev": "b62bafb2-a360-4698-a1f8-38cacd8c8630",
     "regions": {
      "32c42ccc-fffe-4034-89a5-5300897ef541": {
       "attrs": {
        "height": 0.8,
        "width": 0.8,
        "x": 0.1,
        "y": 0.1
       },
       "content": {
        "cell": "b8920874-4b6e-4946-a26e-461506850628",
        "part": "whole"
       },
       "id": "32c42ccc-fffe-4034-89a5-5300897ef541"
      }
     }
    },
    "301d2155-5b7a-457a-93fc-97f72fa3d455": {
     "id": "301d2155-5b7a-457a-93fc-97f72fa3d455",
     "prev": "0db15b68-434e-4168-b87b-8c022669e794",
     "regions": {
      "13a84692-d66a-4194-9372-4544e600756a": {
       "attrs": {
        "height": 0.8,
        "width": 0.8,
        "x": 0.1,
        "y": 0.1
       },
       "content": {
        "cell": "16aa483a-9bdc-419c-ab32-ddb981316486",
        "part": "whole"
       },
       "id": "13a84692-d66a-4194-9372-4544e600756a"
      }
     }
    },
    "3bba41e5-c337-46c7-8891-d1472e516da9": {
     "id": "3bba41e5-c337-46c7-8891-d1472e516da9",
     "prev": "ea0b5edb-dffd-4ec9-8638-290a1aec9677",
     "regions": {
      "91b168e1-822c-43fa-87ed-47811383617c": {
       "attrs": {
        "height": 0.8,
        "width": 0.8,
        "x": 0.1,
        "y": 0.1
       },
       "content": {
        "cell": "e5e31e5b-f66c-4c7f-9fca-ddd919059fa1",
        "part": "whole"
       },
       "id": "91b168e1-822c-43fa-87ed-47811383617c"
      }
     }
    },
    "46653369-0661-40cc-b956-361332d6f315": {
     "id": "46653369-0661-40cc-b956-361332d6f315",
     "prev": "e4ad3da0-6237-4a55-95fb-a06428a2ba21",
     "regions": {
      "fe70bc85-3b45-42c4-99fd-120c47a1826d": {
       "attrs": {
        "height": 0.8,
        "width": 0.8,
        "x": 0.1,
        "y": 0.1
       },
       "content": {
        "cell": "4349fff5-7a9a-49be-a174-0f302cc3e27b",
        "part": "whole"
       },
       "id": "fe70bc85-3b45-42c4-99fd-120c47a1826d"
      }
     }
    },
    "582a2192-ea55-41d1-925a-af0037e5eb79": {
     "id": "582a2192-ea55-41d1-925a-af0037e5eb79",
     "prev": "707540a1-c8f8-47f1-8003-fe25d3423c20",
     "regions": {
      "bf516684-c3cc-4e37-81a5-8ba4be359b2f": {
       "attrs": {
        "height": 0.8,
        "width": 0.8,
        "x": 0.1,
        "y": 0.1
       },
       "content": {
        "cell": "3ee5d8bb-95e3-48f1-bc1d-89b2874f040f",
        "part": "whole"
       },
       "id": "bf516684-c3cc-4e37-81a5-8ba4be359b2f"
      }
     }
    },
    "65d54aeb-8b28-49ef-96ca-93799a8b7897": {
     "id": "65d54aeb-8b28-49ef-96ca-93799a8b7897",
     "prev": "3bba41e5-c337-46c7-8891-d1472e516da9",
     "regions": {
      "e4e9b2bc-9ca1-433f-adb7-b3c3e3cc41dc": {
       "attrs": {
        "height": 0.8,
        "width": 0.8,
        "x": 0.1,
        "y": 0.1
       },
       "content": {
        "cell": "570e824d-f0d2-4ee0-a32c-fc20d8dc78f4",
        "part": "whole"
       },
       "id": "e4e9b2bc-9ca1-433f-adb7-b3c3e3cc41dc"
      }
     }
    },
    "707540a1-c8f8-47f1-8003-fe25d3423c20": {
     "id": "707540a1-c8f8-47f1-8003-fe25d3423c20",
     "prev": "7e74aab8-84a3-4394-885f-92f97f560083",
     "regions": {
      "6bce4587-52cb-4228-b802-b38e002892cf": {
       "attrs": {
        "height": 0.8,
        "width": 0.8,
        "x": 0.1,
        "y": 0.1
       },
       "content": {
        "cell": "37cdbbee-2d2a-4214-b26b-ba7a91ba566e",
        "part": "whole"
       },
       "id": "6bce4587-52cb-4228-b802-b38e002892cf"
      }
     }
    },
    "7e74aab8-84a3-4394-885f-92f97f560083": {
     "id": "7e74aab8-84a3-4394-885f-92f97f560083",
     "prev": "301d2155-5b7a-457a-93fc-97f72fa3d455",
     "regions": {
      "4c5ba40b-6e82-47e4-a992-1282d727a173": {
       "attrs": {
        "height": 0.8,
        "width": 0.8,
        "x": 0.1,
        "y": 0.1
       },
       "content": {
        "cell": "821311cd-c763-4c57-be59-e545cd81188e",
        "part": "whole"
       },
       "id": "4c5ba40b-6e82-47e4-a992-1282d727a173"
      }
     }
    },
    "861f7e4d-723f-4bab-8273-6498380d395c": {
     "id": "861f7e4d-723f-4bab-8273-6498380d395c",
     "prev": "46653369-0661-40cc-b956-361332d6f315",
     "regions": {
      "7a6f1aa7-fcc3-46d6-ad44-d1dac7ea5c8a": {
       "attrs": {
        "height": 0.8,
        "width": 0.8,
        "x": 0.1,
        "y": 0.1
       },
       "content": {
        "cell": "a4ed11a3-064c-4aba-afc5-27020039d755",
        "part": "whole"
       },
       "id": "7a6f1aa7-fcc3-46d6-ad44-d1dac7ea5c8a"
      }
     }
    },
    "9d7d757a-65fc-4a11-9255-d6f44b7cd7d0": {
     "id": "9d7d757a-65fc-4a11-9255-d6f44b7cd7d0",
     "prev": "2d7b1ea3-3bba-4837-8661-bb5154a57cb7",
     "regions": {
      "a027b389-192c-4235-87af-8da05444fdc5": {
       "attrs": {
        "height": 0.8,
        "width": 0.8,
        "x": 0.1,
        "y": 0.1
       },
       "content": {
        "cell": "28ccfbf6-3a33-4e28-a9f3-93e3e230a3fe",
        "part": "whole"
       },
       "id": "a027b389-192c-4235-87af-8da05444fdc5"
      }
     }
    },
    "b62bafb2-a360-4698-a1f8-38cacd8c8630": {
     "id": "b62bafb2-a360-4698-a1f8-38cacd8c8630",
     "prev": "d0a8c858-42da-4085-8e9f-f35cb6607c91",
     "regions": {
      "8667f7e5-7002-4d20-9bb6-2461ee04834d": {
       "attrs": {
        "height": 0.8,
        "width": 0.8,
        "x": 0.1,
        "y": 0.1
       },
       "content": {
        "cell": "6f060d06-d47e-4e84-9d27-313e2e9f2515",
        "part": "whole"
       },
       "id": "8667f7e5-7002-4d20-9bb6-2461ee04834d"
      }
     }
    },
    "d0a8c858-42da-4085-8e9f-f35cb6607c91": {
     "id": "d0a8c858-42da-4085-8e9f-f35cb6607c91",
     "prev": "1acb2407-3452-43a9-998e-036067e56e7e",
     "regions": {
      "82bc29cf-fd7e-4f73-be21-bbd7f1d174c5": {
       "attrs": {
        "height": 0.8,
        "width": 0.8,
        "x": 0.1,
        "y": 0.1
       },
       "content": {
        "cell": "c0cae685-cadf-4c80-abd1-5bfdaa093971",
        "part": "whole"
       },
       "id": "82bc29cf-fd7e-4f73-be21-bbd7f1d174c5"
      }
     }
    },
    "e4ad3da0-6237-4a55-95fb-a06428a2ba21": {
     "id": "e4ad3da0-6237-4a55-95fb-a06428a2ba21",
     "prev": "65d54aeb-8b28-49ef-96ca-93799a8b7897",
     "regions": {
      "c187c83b-38db-44ec-8a18-03240ec0bca5": {
       "attrs": {
        "height": 0.8,
        "width": 0.8,
        "x": 0.1,
        "y": 0.1
       },
       "content": {
        "cell": "9e13cc51-e810-49c3-ac4c-82398c17211d",
        "part": "whole"
       },
       "id": "c187c83b-38db-44ec-8a18-03240ec0bca5"
      }
     }
    },
    "ea0b5edb-dffd-4ec9-8638-290a1aec9677": {
     "id": "ea0b5edb-dffd-4ec9-8638-290a1aec9677",
     "prev": null,
     "regions": {
      "30a33912-3209-4e73-a603-05cea335aa3e": {
       "attrs": {
        "height": 0.8,
        "width": 0.8,
        "x": 0.1,
        "y": 0.1
       },
       "content": {
        "cell": "978ff1f5-ffac-4819-b832-db261a5fb32c",
        "part": "whole"
       },
       "id": "30a33912-3209-4e73-a603-05cea335aa3e"
      }
     }
    }
   },
   "themes": {}
  }
 },
 "nbformat": 4,
 "nbformat_minor": 4
}
