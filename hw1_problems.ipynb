{
 "cells": [
  {
   "cell_type": "markdown",
   "id": "248ad18c",
   "metadata": {},
   "source": [
    "# Homework 1\n",
    "### Introduction to Data Science EN.553.436/EN.553.636 - Fall 2021\n",
    "\n",
    "Due date: Wednesday, September 22 at midnight."
   ]
  },
  {
   "cell_type": "markdown",
   "id": "179ab7dc",
   "metadata": {},
   "source": [
    "## Guidelines\n",
    "* Answer in the cells immediately below the problem statements. If a problem calls for code, a code cell will follow. If a problem calls for a text response, a Markdown cell will follow.\n",
    "* Your code should include some comments. Insufficient commentary may result in loss of points. But you do not necessarily need to comment every line or problem. Further guidelines:\n",
    "    - If the the meaning of some line of code would be obvious to the average Python novice, you do not need to comment (e.g., you do not need to comment _import numpy_). \n",
    "    - If your code is moderately complex, you should comment (e.g., if you nest several functions in one line, you should comment). \n",
    "    - It may be proper to comment before a code block to describe generally what you are doing (e.g., you should comment before a function definition to explain the function and its parameters)."
   ]
  },
  {
   "cell_type": "markdown",
   "id": "8cb62d85",
   "metadata": {},
   "source": [
    "# Problem 1"
   ]
  },
  {
   "cell_type": "markdown",
   "id": "8a7afdc9",
   "metadata": {},
   "source": [
    "## 1.1\n",
    "Load the _lowbwt_ dataset from the OpenML repository as a Pandas DataFrame from following URL: https://www.openml.org/data/get_csv/3640/dataset_2189_lowbwt.arff. Use a function that is able to handle loading the data directly into Jupyter from the URL. The function should take the URL as an argument. **Do not load the data using a filepath on your hard drive:** again, load the data directly into Jupyter using the URL.\n",
    "\n",
    "Print the loaded DataFrame. Read the [description](https://www.openml.org/d/203) of the dataset to better understand it. Check the column names and values to see if they match the variables discussed in the description. One or more variables may have been renamed."
   ]
  },
  {
   "cell_type": "code",
   "execution_count": 223,
   "id": "c9da2e01",
   "metadata": {
    "scrolled": true
   },
   "outputs": [],
   "source": [
    "import pandas as pd\n",
    "# a function called read_csv\n",
    "def read_csv(link:str):\n",
    "    return pd.read_csv(link)\n",
    "\n",
    "df = read_csv('https://www.openml.org/data/get_csv/3640/dataset_2189_lowbwt.arff')"
   ]
  },
  {
   "cell_type": "code",
   "execution_count": 224,
   "id": "c864a18d-b32e-4885-b9a4-ccf3b4b0ed92",
   "metadata": {},
   "outputs": [
    {
     "data": {
      "text/html": [
       "<div>\n",
       "<style scoped>\n",
       "    .dataframe tbody tr th:only-of-type {\n",
       "        vertical-align: middle;\n",
       "    }\n",
       "\n",
       "    .dataframe tbody tr th {\n",
       "        vertical-align: top;\n",
       "    }\n",
       "\n",
       "    .dataframe thead th {\n",
       "        text-align: right;\n",
       "    }\n",
       "</style>\n",
       "<table border=\"1\" class=\"dataframe\">\n",
       "  <thead>\n",
       "    <tr style=\"text-align: right;\">\n",
       "      <th></th>\n",
       "      <th>LOW</th>\n",
       "      <th>AGE</th>\n",
       "      <th>LWT</th>\n",
       "      <th>RACE</th>\n",
       "      <th>SMOKE</th>\n",
       "      <th>PTL</th>\n",
       "      <th>HT</th>\n",
       "      <th>UI</th>\n",
       "      <th>FTV</th>\n",
       "      <th>class</th>\n",
       "    </tr>\n",
       "  </thead>\n",
       "  <tbody>\n",
       "    <tr>\n",
       "      <th>0</th>\n",
       "      <td>0</td>\n",
       "      <td>19</td>\n",
       "      <td>182</td>\n",
       "      <td>2</td>\n",
       "      <td>0</td>\n",
       "      <td>0</td>\n",
       "      <td>0</td>\n",
       "      <td>1</td>\n",
       "      <td>0</td>\n",
       "      <td>2523</td>\n",
       "    </tr>\n",
       "    <tr>\n",
       "      <th>1</th>\n",
       "      <td>0</td>\n",
       "      <td>33</td>\n",
       "      <td>155</td>\n",
       "      <td>3</td>\n",
       "      <td>0</td>\n",
       "      <td>0</td>\n",
       "      <td>0</td>\n",
       "      <td>0</td>\n",
       "      <td>3</td>\n",
       "      <td>2551</td>\n",
       "    </tr>\n",
       "    <tr>\n",
       "      <th>2</th>\n",
       "      <td>0</td>\n",
       "      <td>20</td>\n",
       "      <td>105</td>\n",
       "      <td>1</td>\n",
       "      <td>1</td>\n",
       "      <td>0</td>\n",
       "      <td>0</td>\n",
       "      <td>0</td>\n",
       "      <td>1</td>\n",
       "      <td>2557</td>\n",
       "    </tr>\n",
       "    <tr>\n",
       "      <th>3</th>\n",
       "      <td>0</td>\n",
       "      <td>21</td>\n",
       "      <td>108</td>\n",
       "      <td>1</td>\n",
       "      <td>1</td>\n",
       "      <td>0</td>\n",
       "      <td>0</td>\n",
       "      <td>1</td>\n",
       "      <td>2</td>\n",
       "      <td>2594</td>\n",
       "    </tr>\n",
       "    <tr>\n",
       "      <th>4</th>\n",
       "      <td>0</td>\n",
       "      <td>18</td>\n",
       "      <td>107</td>\n",
       "      <td>1</td>\n",
       "      <td>1</td>\n",
       "      <td>0</td>\n",
       "      <td>0</td>\n",
       "      <td>1</td>\n",
       "      <td>0</td>\n",
       "      <td>2600</td>\n",
       "    </tr>\n",
       "    <tr>\n",
       "      <th>...</th>\n",
       "      <td>...</td>\n",
       "      <td>...</td>\n",
       "      <td>...</td>\n",
       "      <td>...</td>\n",
       "      <td>...</td>\n",
       "      <td>...</td>\n",
       "      <td>...</td>\n",
       "      <td>...</td>\n",
       "      <td>...</td>\n",
       "      <td>...</td>\n",
       "    </tr>\n",
       "    <tr>\n",
       "      <th>184</th>\n",
       "      <td>1</td>\n",
       "      <td>28</td>\n",
       "      <td>95</td>\n",
       "      <td>1</td>\n",
       "      <td>1</td>\n",
       "      <td>0</td>\n",
       "      <td>0</td>\n",
       "      <td>0</td>\n",
       "      <td>2</td>\n",
       "      <td>2466</td>\n",
       "    </tr>\n",
       "    <tr>\n",
       "      <th>185</th>\n",
       "      <td>1</td>\n",
       "      <td>14</td>\n",
       "      <td>100</td>\n",
       "      <td>3</td>\n",
       "      <td>0</td>\n",
       "      <td>0</td>\n",
       "      <td>0</td>\n",
       "      <td>0</td>\n",
       "      <td>2</td>\n",
       "      <td>2495</td>\n",
       "    </tr>\n",
       "    <tr>\n",
       "      <th>186</th>\n",
       "      <td>1</td>\n",
       "      <td>23</td>\n",
       "      <td>94</td>\n",
       "      <td>3</td>\n",
       "      <td>1</td>\n",
       "      <td>0</td>\n",
       "      <td>0</td>\n",
       "      <td>0</td>\n",
       "      <td>0</td>\n",
       "      <td>2495</td>\n",
       "    </tr>\n",
       "    <tr>\n",
       "      <th>187</th>\n",
       "      <td>1</td>\n",
       "      <td>17</td>\n",
       "      <td>142</td>\n",
       "      <td>2</td>\n",
       "      <td>0</td>\n",
       "      <td>0</td>\n",
       "      <td>1</td>\n",
       "      <td>0</td>\n",
       "      <td>0</td>\n",
       "      <td>2495</td>\n",
       "    </tr>\n",
       "    <tr>\n",
       "      <th>188</th>\n",
       "      <td>1</td>\n",
       "      <td>21</td>\n",
       "      <td>130</td>\n",
       "      <td>1</td>\n",
       "      <td>1</td>\n",
       "      <td>0</td>\n",
       "      <td>1</td>\n",
       "      <td>0</td>\n",
       "      <td>3</td>\n",
       "      <td>2495</td>\n",
       "    </tr>\n",
       "  </tbody>\n",
       "</table>\n",
       "<p>189 rows × 10 columns</p>\n",
       "</div>"
      ],
      "text/plain": [
       "     LOW  AGE  LWT  RACE  SMOKE  PTL  HT  UI  FTV  class\n",
       "0      0   19  182     2      0    0   0   1    0   2523\n",
       "1      0   33  155     3      0    0   0   0    3   2551\n",
       "2      0   20  105     1      1    0   0   0    1   2557\n",
       "3      0   21  108     1      1    0   0   1    2   2594\n",
       "4      0   18  107     1      1    0   0   1    0   2600\n",
       "..   ...  ...  ...   ...    ...  ...  ..  ..  ...    ...\n",
       "184    1   28   95     1      1    0   0   0    2   2466\n",
       "185    1   14  100     3      0    0   0   0    2   2495\n",
       "186    1   23   94     3      1    0   0   0    0   2495\n",
       "187    1   17  142     2      0    0   1   0    0   2495\n",
       "188    1   21  130     1      1    0   1   0    3   2495\n",
       "\n",
       "[189 rows x 10 columns]"
      ]
     },
     "execution_count": 224,
     "metadata": {},
     "output_type": "execute_result"
    }
   ],
   "source": [
    "df"
   ]
  },
  {
   "cell_type": "code",
   "execution_count": 6,
   "id": "f40cb397-3286-42f8-8268-d3a5e005c116",
   "metadata": {},
   "outputs": [
    {
     "data": {
      "text/plain": [
       "Index(['LOW', 'AGE', 'LWT', 'RACE', 'SMOKE', 'PTL', 'HT', 'UI', 'FTV',\n",
       "       'class'],\n",
       "      dtype='object')"
      ]
     },
     "execution_count": 6,
     "metadata": {},
     "output_type": "execute_result"
    }
   ],
   "source": [
    "df.columns"
   ]
  },
  {
   "cell_type": "markdown",
   "id": "571d8bdc",
   "metadata": {},
   "source": [
    "## 1.2\n",
    "From the full DataFrame, extract and print a DataFrame with the birthweight column (and only the birthweight column) for mothers who smoked during pregnancy and had low-birthweight deliveries."
   ]
  },
  {
   "cell_type": "code",
   "execution_count": 147,
   "id": "a05a95f5",
   "metadata": {},
   "outputs": [
    {
     "data": {
      "text/html": [
       "<div>\n",
       "<style scoped>\n",
       "    .dataframe tbody tr th:only-of-type {\n",
       "        vertical-align: middle;\n",
       "    }\n",
       "\n",
       "    .dataframe tbody tr th {\n",
       "        vertical-align: top;\n",
       "    }\n",
       "\n",
       "    .dataframe thead th {\n",
       "        text-align: right;\n",
       "    }\n",
       "</style>\n",
       "<table border=\"1\" class=\"dataframe\">\n",
       "  <thead>\n",
       "    <tr style=\"text-align: right;\">\n",
       "      <th></th>\n",
       "      <th>class</th>\n",
       "    </tr>\n",
       "  </thead>\n",
       "  <tbody>\n",
       "    <tr>\n",
       "      <th>130</th>\n",
       "      <td>709</td>\n",
       "    </tr>\n",
       "    <tr>\n",
       "      <th>132</th>\n",
       "      <td>1135</td>\n",
       "    </tr>\n",
       "    <tr>\n",
       "      <th>139</th>\n",
       "      <td>1790</td>\n",
       "    </tr>\n",
       "    <tr>\n",
       "      <th>140</th>\n",
       "      <td>1818</td>\n",
       "    </tr>\n",
       "    <tr>\n",
       "      <th>141</th>\n",
       "      <td>1885</td>\n",
       "    </tr>\n",
       "    <tr>\n",
       "      <th>144</th>\n",
       "      <td>1928</td>\n",
       "    </tr>\n",
       "    <tr>\n",
       "      <th>145</th>\n",
       "      <td>1928</td>\n",
       "    </tr>\n",
       "    <tr>\n",
       "      <th>147</th>\n",
       "      <td>1936</td>\n",
       "    </tr>\n",
       "    <tr>\n",
       "      <th>152</th>\n",
       "      <td>2084</td>\n",
       "    </tr>\n",
       "    <tr>\n",
       "      <th>153</th>\n",
       "      <td>2084</td>\n",
       "    </tr>\n",
       "    <tr>\n",
       "      <th>155</th>\n",
       "      <td>2125</td>\n",
       "    </tr>\n",
       "    <tr>\n",
       "      <th>156</th>\n",
       "      <td>2126</td>\n",
       "    </tr>\n",
       "    <tr>\n",
       "      <th>157</th>\n",
       "      <td>2187</td>\n",
       "    </tr>\n",
       "    <tr>\n",
       "      <th>159</th>\n",
       "      <td>2211</td>\n",
       "    </tr>\n",
       "    <tr>\n",
       "      <th>160</th>\n",
       "      <td>2225</td>\n",
       "    </tr>\n",
       "    <tr>\n",
       "      <th>164</th>\n",
       "      <td>2296</td>\n",
       "    </tr>\n",
       "    <tr>\n",
       "      <th>165</th>\n",
       "      <td>2296</td>\n",
       "    </tr>\n",
       "    <tr>\n",
       "      <th>168</th>\n",
       "      <td>2353</td>\n",
       "    </tr>\n",
       "    <tr>\n",
       "      <th>170</th>\n",
       "      <td>2367</td>\n",
       "    </tr>\n",
       "    <tr>\n",
       "      <th>171</th>\n",
       "      <td>2381</td>\n",
       "    </tr>\n",
       "    <tr>\n",
       "      <th>172</th>\n",
       "      <td>2381</td>\n",
       "    </tr>\n",
       "    <tr>\n",
       "      <th>175</th>\n",
       "      <td>2410</td>\n",
       "    </tr>\n",
       "    <tr>\n",
       "      <th>176</th>\n",
       "      <td>2410</td>\n",
       "    </tr>\n",
       "    <tr>\n",
       "      <th>177</th>\n",
       "      <td>2414</td>\n",
       "    </tr>\n",
       "    <tr>\n",
       "      <th>178</th>\n",
       "      <td>2424</td>\n",
       "    </tr>\n",
       "    <tr>\n",
       "      <th>182</th>\n",
       "      <td>2466</td>\n",
       "    </tr>\n",
       "    <tr>\n",
       "      <th>183</th>\n",
       "      <td>2466</td>\n",
       "    </tr>\n",
       "    <tr>\n",
       "      <th>184</th>\n",
       "      <td>2466</td>\n",
       "    </tr>\n",
       "    <tr>\n",
       "      <th>186</th>\n",
       "      <td>2495</td>\n",
       "    </tr>\n",
       "    <tr>\n",
       "      <th>188</th>\n",
       "      <td>2495</td>\n",
       "    </tr>\n",
       "  </tbody>\n",
       "</table>\n",
       "</div>"
      ],
      "text/plain": [
       "     class\n",
       "130    709\n",
       "132   1135\n",
       "139   1790\n",
       "140   1818\n",
       "141   1885\n",
       "144   1928\n",
       "145   1928\n",
       "147   1936\n",
       "152   2084\n",
       "153   2084\n",
       "155   2125\n",
       "156   2126\n",
       "157   2187\n",
       "159   2211\n",
       "160   2225\n",
       "164   2296\n",
       "165   2296\n",
       "168   2353\n",
       "170   2367\n",
       "171   2381\n",
       "172   2381\n",
       "175   2410\n",
       "176   2410\n",
       "177   2414\n",
       "178   2424\n",
       "182   2466\n",
       "183   2466\n",
       "184   2466\n",
       "186   2495\n",
       "188   2495"
      ]
     },
     "execution_count": 147,
     "metadata": {},
     "output_type": "execute_result"
    }
   ],
   "source": [
    "# selecting rows that meet the conditions and then call it sub_df\n",
    "sub_df = df[(df['SMOKE']==1)&(df['LOW']==1)]\n",
    "# sub-select the \"class\" column from the sub_df dataframe and convert it to pandas dataframe\n",
    "sub_df = pd.DataFrame(sub_df['class'])\n",
    "sub_df"
   ]
  },
  {
   "cell_type": "markdown",
   "id": "05b58d44",
   "metadata": {},
   "source": [
    "## 1.3\n",
    "Print the following statistics for the birthweights in the original full dataset:\n",
    "- Standard deviation\n",
    "- 0.16 Quantile\n",
    "- Mean\n",
    "- Median\n",
    "- 0.84 Quantile\n",
    "\n",
    "Afterwards, print the same statistics for the birthweights in the subset you selected in 1.2."
   ]
  },
  {
   "cell_type": "code",
   "execution_count": 156,
   "id": "cbd9adef",
   "metadata": {
    "scrolled": true
   },
   "outputs": [
    {
     "name": "stdout",
     "output_type": "stream",
     "text": [
      "standard deviation: 729.022417\n",
      "0.16 quantile: 2226.200000\n",
      "mean: 2944.656085\n",
      "0.84 quantile: 3695.160000\n"
     ]
    }
   ],
   "source": [
    "print('standard deviation: %f' %(df['class'].describe()['std']))\n",
    "print('0.16 quantile: %f' %df['class'].quantile(0.16))\n",
    "print('mean: %f' %df['class'].describe()['mean'])\n",
    "print('0.84 quantile: %f' %df['class'].quantile(0.84))\n"
   ]
  },
  {
   "cell_type": "markdown",
   "id": "161ecee4",
   "metadata": {},
   "source": [
    "## 1.4\n",
    "Plot two density histograms: one for the birthweights in the full dataset, and one for the birthweights in the subset you selected in 1.2. Label the histograms."
   ]
  },
  {
   "cell_type": "code",
   "execution_count": 184,
   "id": "f5963a5c",
   "metadata": {},
   "outputs": [
    {
     "data": {
      "image/png": "[encoded data removed]",
      "text/plain": [
       "<Figure size 432x288 with 1 Axes>"
      ]
     },
     "metadata": {
      "needs_background": "light"
     },
     "output_type": "display_data"
    }
   ],
   "source": [
    "import seaborn as sns\n",
    "\n",
    "sns.histplot(df['class'], kde=True, stat=\"density\",bins=50)\n",
    "plt.show()"
   ]
  },
  {
   "cell_type": "code",
   "execution_count": 197,
   "id": "4dcb22ee-7694-46ec-b434-41e37e0d44df",
   "metadata": {},
   "outputs": [
    {
     "data": {
      "image/png": "[encoded data removed]",
      "text/plain": [
       "<Figure size 432x288 with 1 Axes>"
      ]
     },
     "metadata": {
      "needs_background": "light"
     },
     "output_type": "display_data"
    }
   ],
   "source": [
    "sns.histplot(sub_df['class'], kde=True, stat=\"density\",bins=25)\n",
    "plt.show()"
   ]
  },
  {
   "cell_type": "markdown",
   "id": "19d2b9c2",
   "metadata": {},
   "source": [
    "## 1.5\n",
    "Is a normal distribution a plausible model for birthweight in either of the two datasets? Back up your answer using the previous results. This image of a normal PDF may be useful:\n",
    "\n",
    "\n",
    "![Normal PDF](bell-curve.jpg)"
   ]
  },
  {
   "cell_type": "markdown",
   "id": "a6fd116e",
   "metadata": {},
   "source": [
    "### _Answer:_"
   ]
  },
  {
   "cell_type": "markdown",
   "id": "b6d2b23b-4f31-4159-a26e-b15d583e31cf",
   "metadata": {},
   "source": [
    "Only the first model can by explained by the normal distribution. Because it is a bell-shaped plot, which is very much like a normal distribution."
   ]
  },
  {
   "cell_type": "markdown",
   "id": "d44b6864",
   "metadata": {},
   "source": [
    "# Problem 2\n",
    "In this exercise, we will proceed in steps to perform rejection sampling of a [beta random variable](https://docs.scipy.org/doc/scipy/reference/generated/scipy.stats.beta.html) using a [triangular random variable](https://docs.scipy.org/doc/scipy/reference/generated/scipy.stats.triang.html) as candidate."
   ]
  },
  {
   "cell_type": "markdown",
   "id": "a6887a8e",
   "metadata": {},
   "source": [
    "## 2.1\n",
    "Plot an overlay of a beta PDF and a triangular PDF with the following parameters:\n",
    "- For the beta PDF, a=2, b=2, loc=0, scale=1.\n",
    "- For the triangular PDF, c=0.50, loc=0, scale=1."
   ]
  },
  {
   "cell_type": "code",
   "execution_count": 208,
   "id": "1db616bb",
   "metadata": {},
   "outputs": [],
   "source": [
    "import matplotlib.pyplot as plt\n",
    "from scipy.stats import beta, triang\n",
    "import numpy as np\n",
    "a = 2\n",
    "b = 2\n",
    "c = 0.5\n",
    "x = np.arange(-0.5, 1.5,0.01)\n",
    "y1 = beta.pdf(x,a,b, scale=1, loc=0)\n",
    "y2 = triang.pdf(x,c, scale=1, loc=0)\n"
   ]
  },
  {
   "cell_type": "code",
   "execution_count": 209,
   "id": "08ecadb0-a2b7-4bf1-8a68-a5ea8ad5f3df",
   "metadata": {},
   "outputs": [
    {
     "data": {
      "image/png": "[encoded data removed]",
      "text/plain": [
       "<Figure size 432x288 with 1 Axes>"
      ]
     },
     "metadata": {
      "needs_background": "light"
     },
     "output_type": "display_data"
    }
   ],
   "source": [
    "plt.plot(x,y1,label='beta')\n",
    "plt.plot(x,y2,label='triangular')\n",
    "plt.legend(loc=\"upper right\")\n",
    "plt.show()"
   ]
  },
  {
   "cell_type": "markdown",
   "id": "dc2eaa1e",
   "metadata": {},
   "source": [
    "## 2.2\n",
    "We will perform 10,000 trials of the rejection sampling procedure. Simulate and store 10,000 random variables distributed as $\\text{Uniform}[0,1]$ using random state 436. Simulate and store 10,000 triangular random variables from the specified triangular distribution using random state 636."
   ]
  },
  {
   "cell_type": "code",
   "execution_count": 32,
   "id": "177f2a49",
   "metadata": {},
   "outputs": [],
   "source": [
    "import random\n",
    "import scipy.stats as stat\n",
    "u = stat.uniform.rvs(size=10000, random_state=436)\n",
    "tri = stat.triang.rvs(c = 0.5,size=10000, random_state=636)"
   ]
  },
  {
   "cell_type": "code",
   "execution_count": 33,
   "id": "4ec4bc50-9e33-49d9-8fea-0f246f345f20",
   "metadata": {},
   "outputs": [
    {
     "data": {
      "text/plain": [
       "<AxesSubplot:ylabel='Density'>"
      ]
     },
     "execution_count": 33,
     "metadata": {},
     "output_type": "execute_result"
    },
    {
     "data": {
      "image/png": "[encoded data removed]",
      "text/plain": [
       "<Figure size 432x288 with 1 Axes>"
      ]
     },
     "metadata": {
      "needs_background": "light"
     },
     "output_type": "display_data"
    }
   ],
   "source": [
    "sns.kdeplot(tri)"
   ]
  },
  {
   "cell_type": "markdown",
   "id": "c073366a",
   "metadata": {},
   "source": [
    "## 2.3\n",
    "Let $f$ be the beta PDF and $g$ the triangular PDF. Using 1.50 as an estimate of $\\sup f/g$, generate samples from the beta distribution by rejection sampling. Store your samples. Print the number of samples you obtain."
   ]
  },
  {
   "cell_type": "code",
   "execution_count": 47,
   "id": "0e00626d-6d79-4293-880c-aa411c4db170",
   "metadata": {},
   "outputs": [],
   "source": [
    "# if values from g(x) >= c * f(X)/U, then accept, otherwise, reject\n",
    "# candidate: triangular (denominator)\n",
    "# beta(numerator)\n",
    "# beta = (a,b)\n",
    "# x is sampled from triangular distribition\n",
    "\n",
    "samples = []\n",
    "x = tri\n",
    "for i in range(len(tri)):\n",
    "    # candidate pdf\n",
    "    cand = stat.triang.pdf(x[i],c=0.5)\n",
    "    ratio = stat.beta.pdf(x[i],a=2, b=2) / cand\n",
    "    if u[i] <= ratio/1.5:\n",
    "        samples.append(x[i])"
   ]
  },
  {
   "cell_type": "code",
   "execution_count": 49,
   "id": "44a05eef-cfc6-423c-a0d5-988dae44bff7",
   "metadata": {},
   "outputs": [
    {
     "name": "stdout",
     "output_type": "stream",
     "text": [
      "6674\n"
     ]
    }
   ],
   "source": [
    "print(len(samples))"
   ]
  },
  {
   "cell_type": "markdown",
   "id": "ad73a593",
   "metadata": {},
   "source": [
    "## 2.4\n",
    "Plot a density histogram of your samples overlaid with the beta and triangular PDFs. Use 100 bins."
   ]
  },
  {
   "cell_type": "code",
   "execution_count": 50,
   "id": "163ec994",
   "metadata": {},
   "outputs": [
    {
     "data": {
      "image/png": "[encoded data removed]",
      "text/plain": [
       "<Figure size 432x288 with 1 Axes>"
      ]
     },
     "metadata": {
      "needs_background": "light"
     },
     "output_type": "display_data"
    }
   ],
   "source": [
    "plt.hist(samples,bins=100)\n",
    "plt.show()"
   ]
  },
  {
   "cell_type": "markdown",
   "id": "ba687088",
   "metadata": {},
   "source": [
    "# Problem 3"
   ]
  },
  {
   "cell_type": "markdown",
   "id": "abd0a313",
   "metadata": {},
   "source": [
    "## 3.1\n",
    "The Epanechnikov kernel is defined by\n",
    "$$K(u) = \\frac{3}{4}\\left(1 - u^{2}\\right)\\qquad\\text{for }\\lvert u \\rvert \\leq 1$$\n",
    "Perform Epanechnikov kernel density estimation on 1,000 simulated samples from a [lognormal distribution](https://docs.scipy.org/doc/scipy/reference/generated/scipy.stats.lognorm.html) with s=1 and random state 636. Use a bandwidth of 2.0. Plot the density estimate over the support of the lognormal distribution. (You can use 2 times the maximum of your samples as an upper bound for the support.)"
   ]
  },
  {
   "cell_type": "code",
   "execution_count": 232,
   "id": "1db4268b",
   "metadata": {},
   "outputs": [],
   "source": [
    "import scipy.stats as stat\n",
    "import numpy as np\n",
    "from functools import *\n",
    "sample = stat.lognorm.rvs(s=1, loc=0, scale=1, size=1000, random_state=636)\n",
    "bw = 2\n",
    "x = np.linspace(np.min(sample),np.max(sample),1000)"
   ]
  },
  {
   "cell_type": "code",
   "execution_count": 236,
   "id": "6d946bde-2a26-44ef-a9f3-4e2c5cde075d",
   "metadata": {},
   "outputs": [],
   "source": [
    "#kernel function\n",
    "def Epanechnikov_est(x):\n",
    "    return (3/4)*(1-x**2)\n",
    "\n",
    "def ekde(x, data, bw):\n",
    "    density = []\n",
    "    for i in range(len(data)):\n",
    "        y = Epanechnikov_est((x-data[i])/bw)\n",
    "        y[y<0] = 0\n",
    "        density.append(y)\n",
    "    return 1/(len(data)*2) * sum(density)"
   ]
  },
  {
   "cell_type": "code",
   "execution_count": 239,
   "id": "4b22495b-3f28-47f4-87e2-188b99dd04fd",
   "metadata": {},
   "outputs": [
    {
     "data": {
      "text/plain": [
       "[<matplotlib.lines.Line2D at 0x7fdde6cf0640>]"
      ]
     },
     "execution_count": 239,
     "metadata": {},
     "output_type": "execute_result"
    },
    {
     "data": {
      "image/png": "[encoded data removed]",
      "text/plain": [
       "<Figure size 432x288 with 1 Axes>"
      ]
     },
     "metadata": {
      "needs_background": "light"
     },
     "output_type": "display_data"
    }
   ],
   "source": [
    "# plot\n",
    "plt.plot(x, ekde(x,sample,2))"
   ]
  },
  {
   "cell_type": "markdown",
   "id": "7b8d1e35",
   "metadata": {},
   "source": [
    "## 3.2\n",
    "Test whether the estimate integrates to unity over the support of the lognormal distribution."
   ]
  },
  {
   "cell_type": "code",
   "execution_count": 240,
   "id": "dd1989e2-5510-492b-a504-61ee789a96b5",
   "metadata": {},
   "outputs": [
    {
     "data": {
      "text/plain": [
       "0.8127974135971673"
      ]
     },
     "execution_count": 240,
     "metadata": {},
     "output_type": "execute_result"
    }
   ],
   "source": [
    "# integreation\n",
    "np.trapz(ekde(x,sample,2), x)"
   ]
  },
  {
   "cell_type": "markdown",
   "id": "293ce053",
   "metadata": {},
   "source": [
    "## 3.3\n",
    "Explain the results of your integration."
   ]
  },
  {
   "cell_type": "markdown",
   "id": "86b7071e",
   "metadata": {},
   "source": [
    "### _Answer:_ It is not a perfect estimation as it only covers 81.27% of the area"
   ]
  },
  {
   "cell_type": "markdown",
   "id": "466f585d",
   "metadata": {},
   "source": [
    "# Problem 4"
   ]
  },
  {
   "cell_type": "markdown",
   "id": "430da839",
   "metadata": {},
   "source": [
    "## 4.1\n",
    "Below we load the [Boston house prices dataset](https://scikit-learn.org/stable/datasets/toy_dataset.html#boston-dataset). We also store the labels of the predictor variables for you.\n",
    "\n",
    "Our goal will be to predict house price (MEDV) by regression. Split the dataset into a training and test set using 1/3 as the test size and a random state of 553. Use the function [_train_test_split_](https://scikit-learn.org/stable/modules/generated/sklearn.model_selection.train_test_split.html) from _sklearn.model_selection_ for this purpose."
   ]
  },
  {
   "cell_type": "code",
   "execution_count": 157,
   "id": "a5ceade1",
   "metadata": {},
   "outputs": [],
   "source": [
    "# Loading data:\n",
    "\n",
    "# Import function for loading the 'boston' dataset.\n",
    "from sklearn.datasets import load_boston\n",
    "# Load a 'bunch' containing data and descriptions.\n",
    "boston_bunch = load_boston()\n",
    "# Extract and store predictor variables.\n",
    "X = boston_bunch.data\n",
    "# Extract and store the variable that is the target for prediction.\n",
    "y = boston_bunch.target\n",
    "# Extract and store labels of predictor variables.\n",
    "labels = boston_bunch.feature_names"
   ]
  },
  {
   "cell_type": "code",
   "execution_count": 158,
   "id": "3c6be9d9",
   "metadata": {},
   "outputs": [],
   "source": [
    "# Your code:\n",
    "from sklearn.model_selection import train_test_split\n",
    "X_train, X_test, y_train, y_test = train_test_split(X,y,test_size=1/3,random_state=553)"
   ]
  },
  {
   "cell_type": "markdown",
   "id": "1dabfc03",
   "metadata": {},
   "source": [
    "## 4.2\n",
    "Fit three different linear models on the training set by ordinary least squares (OLS): \n",
    "- A model using all predictor variables.\n",
    "- A model using only AGE, NOX, DIS, and RAD as predictor variables.\n",
    "- A model using all polynomial combinations of degree $\\leq 2$ of the original thirteen predictor variables."
   ]
  },
  {
   "cell_type": "markdown",
   "id": "02ba92d7-4458-4736-b49c-c653772cead0",
   "metadata": {},
   "source": [
    "### model1"
   ]
  },
  {
   "cell_type": "code",
   "execution_count": 159,
   "id": "2ab15f13-7b8b-45dd-b23a-a30c3bfed8b1",
   "metadata": {},
   "outputs": [
    {
     "data": {
      "text/plain": [
       "LinearRegression()"
      ]
     },
     "execution_count": 159,
     "metadata": {},
     "output_type": "execute_result"
    }
   ],
   "source": [
    "from sklearn import linear_model\n",
    "regr = linear_model.LinearRegression()\n",
    "regr.fit(X_train, y_train)\n"
   ]
  },
  {
   "cell_type": "markdown",
   "id": "a6635c3f-9686-411f-8826-b73191329633",
   "metadata": {},
   "source": [
    "### model2"
   ]
  },
  {
   "cell_type": "code",
   "execution_count": 160,
   "id": "061c161a-a338-4bbe-8c64-71117140d402",
   "metadata": {},
   "outputs": [
    {
     "name": "stdout",
     "output_type": "stream",
     "text": [
      "4\n",
      "6\n",
      "7\n",
      "8\n"
     ]
    }
   ],
   "source": [
    "# find the index in the 2d array \n",
    "for counter, i in enumerate(labels):\n",
    "    if i in [\"AGE\",\"NOX\",\"DIS\",\"RAD\"]:\n",
    "        print(counter)"
   ]
  },
  {
   "cell_type": "code",
   "execution_count": 161,
   "id": "9665dd55-9005-4503-97e4-88306d683895",
   "metadata": {},
   "outputs": [
    {
     "data": {
      "text/plain": [
       "LinearRegression()"
      ]
     },
     "execution_count": 161,
     "metadata": {},
     "output_type": "execute_result"
    }
   ],
   "source": [
    "X_model2_train = X_train[:,[4,6,7,8]]\n",
    "X_model2_test = X_test[:,[4,6,7,8]]\n",
    "regr2 = linear_model.LinearRegression()\n",
    "regr2.fit(X_model2_train,y_train)"
   ]
  },
  {
   "cell_type": "markdown",
   "id": "fca10bd4-14d5-4438-bebc-2d999187a520",
   "metadata": {},
   "source": [
    "### model 3"
   ]
  },
  {
   "cell_type": "code",
   "execution_count": 162,
   "id": "f7fd167f-fbf3-4fb2-ad67-dee3d9392e42",
   "metadata": {},
   "outputs": [],
   "source": [
    "def poly_combination(array:np.array):\n",
    "    new_array = []\n",
    "    for i in range(len(array)):\n",
    "        for j in array[i:]:\n",
    "            new_array.append(array[i]*j)\n",
    "    new_array = np.concatenate((array, new_array), axis =0)\n",
    "    return new_array\n",
    "    "
   ]
  },
  {
   "cell_type": "code",
   "execution_count": 163,
   "id": "816e080a-14f7-4c73-a2cb-312fe37cd4ef",
   "metadata": {},
   "outputs": [],
   "source": [
    "X_model3_train = np.array(list(map(poly_combination,list(X_train))))\n",
    "X_model3_test = np.array(list(map(poly_combination,list(X_test))))"
   ]
  },
  {
   "cell_type": "code",
   "execution_count": 164,
   "id": "87142e24-be6b-4389-9a22-2bbdc55ae427",
   "metadata": {},
   "outputs": [
    {
     "data": {
      "text/plain": [
       "LinearRegression()"
      ]
     },
     "execution_count": 164,
     "metadata": {},
     "output_type": "execute_result"
    }
   ],
   "source": [
    "regr3 = linear_model.LinearRegression()\n",
    "regr3.fit(X_model3_train,y_train)"
   ]
  },
  {
   "cell_type": "markdown",
   "id": "a6870645",
   "metadata": {},
   "source": [
    "## 4.3\n",
    "For model assessment, print the following for each of the three models:\n",
    "- The $R^{2}$ of the predictions on the training set.\n",
    "- The $R^{2}$ of the predictions on the test set.\n",
    "- Predicted MEDV for the first five sample points in the test set.\n",
    "- True MEDV for the first five sample points in the test set."
   ]
  },
  {
   "cell_type": "code",
   "execution_count": 165,
   "id": "f7ce3d90-a1f2-467a-b5cb-039c05ed3854",
   "metadata": {},
   "outputs": [],
   "source": [
    "from sklearn.metrics import r2_score"
   ]
  },
  {
   "cell_type": "markdown",
   "id": "a6d515f2-392b-477c-8550-12b7544413a4",
   "metadata": {},
   "source": [
    "### model 1"
   ]
  },
  {
   "cell_type": "code",
   "execution_count": 166,
   "id": "4256ac5a-d921-400e-ad78-b50306b9ae07",
   "metadata": {},
   "outputs": [
    {
     "data": {
      "text/plain": [
       "0.7666994695638145"
      ]
     },
     "execution_count": 166,
     "metadata": {},
     "output_type": "execute_result"
    }
   ],
   "source": [
    "r2_score(y_train,regr.predict(X_train))"
   ]
  },
  {
   "cell_type": "code",
   "execution_count": 167,
   "id": "473d77d4-360f-4fd8-8167-e7a3b18ee3f5",
   "metadata": {},
   "outputs": [
    {
     "data": {
      "text/plain": [
       "0.6872592137146449"
      ]
     },
     "execution_count": 167,
     "metadata": {},
     "output_type": "execute_result"
    }
   ],
   "source": [
    "r2_score(y_test,regr.predict(X_test))"
   ]
  },
  {
   "cell_type": "markdown",
   "id": "fd1cd563-27e0-4c0d-982a-fd1acca5860c",
   "metadata": {},
   "source": [
    "### model 2"
   ]
  },
  {
   "cell_type": "code",
   "execution_count": 168,
   "id": "df954cd3-2911-4b26-8ddc-1a372f1a330b",
   "metadata": {},
   "outputs": [
    {
     "data": {
      "text/plain": [
       "0.2815080549659952"
      ]
     },
     "execution_count": 168,
     "metadata": {},
     "output_type": "execute_result"
    }
   ],
   "source": [
    "r2_score(y_train, regr2.predict(X_model2_train))"
   ]
  },
  {
   "cell_type": "code",
   "execution_count": 226,
   "id": "32bb228d-89f4-4081-99ad-a2fc4045ee9d",
   "metadata": {},
   "outputs": [
    {
     "data": {
      "text/plain": [
       "0.18523720715377578"
      ]
     },
     "execution_count": 226,
     "metadata": {},
     "output_type": "execute_result"
    }
   ],
   "source": [
    "r2_score(y_test, regr2.predict(X_model2_test))"
   ]
  },
  {
   "cell_type": "markdown",
   "id": "55de32e0-f9c2-40f6-9307-6ebd92e7b027",
   "metadata": {},
   "source": [
    "### model 3"
   ]
  },
  {
   "cell_type": "code",
   "execution_count": 170,
   "id": "8feb5787-b5e0-4bc7-ad75-885b36598296",
   "metadata": {},
   "outputs": [
    {
     "data": {
      "text/plain": [
       "0.9430681924988941"
      ]
     },
     "execution_count": 170,
     "metadata": {},
     "output_type": "execute_result"
    }
   ],
   "source": [
    "r2_score(y_train, regr3.predict(X_model3_train))"
   ]
  },
  {
   "cell_type": "code",
   "execution_count": 171,
   "id": "86910d54-cc7f-4d6d-8401-f0a86b86cc38",
   "metadata": {},
   "outputs": [
    {
     "data": {
      "text/plain": [
       "0.8572666517666643"
      ]
     },
     "execution_count": 171,
     "metadata": {},
     "output_type": "execute_result"
    }
   ],
   "source": [
    "r2_score(y_test, regr3.predict(X_model3_test))"
   ]
  },
  {
   "cell_type": "markdown",
   "id": "b1616690",
   "metadata": {},
   "source": [
    "## 4.4\n",
    "Comment on your results in 4.3, which model do you think is the best? Explain you answer."
   ]
  },
  {
   "cell_type": "markdown",
   "id": "718c0a15",
   "metadata": {},
   "source": [
    "### _Answer:_ Based on the results from 4.3, the third model is the best. However, since the discrepancy between the score of train set and test set, it seems that the model is overfitting. We need to have a residual plot to examine whether there is a systemmatic erroneous fitting pattern."
   ]
  },
  {
   "cell_type": "markdown",
   "id": "bf8555dd",
   "metadata": {},
   "source": [
    "## 4.5\n",
    "Consider the linear regression model using all original features you built above. Holding all other variables equal, what effect does the model predict that an increase in 0.1 parts per 10 million nitric oxide concentration in a place will have on the median value of of owner-occupied homes in that place? Write code that will return and print the answer."
   ]
  },
  {
   "cell_type": "markdown",
   "id": "e5ecaaac-f661-4da8-b17c-0d8349401d0d",
   "metadata": {},
   "source": [
    "### model1"
   ]
  },
  {
   "cell_type": "code",
   "execution_count": 172,
   "id": "b61637ca-daf1-4742-97df-5c6d84ff12a0",
   "metadata": {},
   "outputs": [],
   "source": [
    "import copy\n",
    "X_train_modified = copy.copy(X_train)\n",
    "X_train_modified[:,4] = X_train_modified[:,4] + 0.1\n",
    "X_test_modified = copy.copy(X_test)\n",
    "X_test_modified[:,4] = X_test_modified[:,4] + 0.1"
   ]
  },
  {
   "cell_type": "code",
   "execution_count": 225,
   "id": "2e1d529d-287c-4b7b-8e3a-8eb9598349f1",
   "metadata": {},
   "outputs": [
    {
     "data": {
      "text/plain": [
       "1.649636621618285"
      ]
     },
     "execution_count": 225,
     "metadata": {},
     "output_type": "execute_result"
    }
   ],
   "source": [
    "np.median(regr.predict(X_train))-np.median(regr.predict(X_train_modified))"
   ]
  },
  {
   "cell_type": "markdown",
   "id": "91fc4850-0448-4d3a-8690-5f917b6b9137",
   "metadata": {},
   "source": [
    "### We see a drop of 1.649 in median"
   ]
  },
  {
   "cell_type": "markdown",
   "id": "013072b5-ae87-48bd-a256-5f9fa806b02c",
   "metadata": {},
   "source": [
    "## Code below is unnecessary!!!"
   ]
  },
  {
   "cell_type": "markdown",
   "id": "ab0ecd41-b9b2-4937-af71-ebcd613d3c0b",
   "metadata": {},
   "source": [
    "### model2"
   ]
  },
  {
   "cell_type": "code",
   "execution_count": 174,
   "id": "2f0502b1-bd80-4207-857d-caa1db3827b9",
   "metadata": {},
   "outputs": [],
   "source": [
    "X_model2_train_modified = copy.copy(X_model2_train)\n",
    "X_model2_train_modified[:,0] = X_model2_train_modified[:,0] + 0.1"
   ]
  },
  {
   "cell_type": "code",
   "execution_count": 175,
   "id": "f9e4e082-e461-40d0-b972-770fa093765e",
   "metadata": {},
   "outputs": [
    {
     "data": {
      "text/plain": [
       "2.923271543664004"
      ]
     },
     "execution_count": 175,
     "metadata": {},
     "output_type": "execute_result"
    }
   ],
   "source": [
    "np.median(regr2.predict(X_model2_train))-np.median(regr2.predict(X_model2_train_modified))"
   ]
  },
  {
   "cell_type": "markdown",
   "id": "e7950801-6291-4520-991b-dc37305d74fc",
   "metadata": {},
   "source": [
    "### model3"
   ]
  },
  {
   "cell_type": "code",
   "execution_count": 176,
   "id": "eaa6cd78-ba24-4b8b-a825-f55b10e918f7",
   "metadata": {},
   "outputs": [],
   "source": [
    "X_model3_train_modified = np.array(list(map(poly_combination,list(X_train_modified))))"
   ]
  },
  {
   "cell_type": "code",
   "execution_count": 177,
   "id": "3b864e6d-1d60-4f19-9976-2a01e1211bd8",
   "metadata": {},
   "outputs": [
    {
     "data": {
      "text/plain": [
       "1.1257835350379253"
      ]
     },
     "execution_count": 177,
     "metadata": {},
     "output_type": "execute_result"
    }
   ],
   "source": [
    "np.median(regr3.predict(X_model3_train))- np.median(regr3.predict(X_model3_train_modified))"
   ]
  }
 ],
 "metadata": {
  "kernelspec": {
   "display_name": "Python 3",
   "language": "python",
   "name": "python3"
  },
  "language_info": {
   "codemirror_mode": {
    "name": "ipython",
    "version": 3
   },
   "file_extension": ".py",
   "mimetype": "text/x-python",
   "name": "python",
   "nbconvert_exporter": "python",
   "pygments_lexer": "ipython3",
   "version": "3.8.8"
  },
  "varInspector": {
   "cols": {
    "lenName": 16,
    "lenType": 16,
    "lenVar": 40
   },
   "kernels_config": {
    "python": {
     "delete_cmd_postfix": "",
     "delete_cmd_prefix": "del ",
     "library": "var_list.py",
     "varRefreshCmd": "print(var_dic_list())"
    },
    "r": {
     "delete_cmd_postfix": ") ",
     "delete_cmd_prefix": "rm(",
     "library": "var_list.r",
     "varRefreshCmd": "cat(var_dic_list()) "
    }
   },
   "types_to_exclude": [
    "module",
    "function",
    "builtin_function_or_method",
    "instance",
    "_Feature"
   ],
   "window_display": false
  }
 },
 "nbformat": 4,
 "nbformat_minor": 5
}
