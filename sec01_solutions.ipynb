{
 "cells": [
  {
   "cell_type": "markdown",
   "id": "6dbcb1a3",
   "metadata": {},
   "source": [
    "# 1 Descriptive Statistics"
   ]
  },
  {
   "cell_type": "markdown",
   "id": "f9586d32",
   "metadata": {},
   "source": [
    "## 1.0\n",
    "\n",
    "We will load data on monthly stock returns from 1926 to 2021 and store it in a numpy array for you."
   ]
  },
  {
   "cell_type": "code",
   "execution_count": 2,
   "id": "116d7bfe",
   "metadata": {},
   "outputs": [
    {
     "name": "stdout",
     "output_type": "stream",
     "text": [
      "[2.96 2.64 0.36 ... 4.93 0.29 2.79]\n",
      "<class 'numpy.ndarray'>\n"
     ]
    },
    {
     "data": {
      "text/plain": [
       "array([-29.13, -23.82, -23.24, ...,  33.84,  37.06,  38.85])"
      ]
     },
     "execution_count": 2,
     "metadata": {},
     "output_type": "execute_result"
    }
   ],
   "source": [
    "# Module for arrays.\n",
    "import numpy as np\n",
    "# Module for dataframe manipulation.\n",
    "import pandas as pd\n",
    "# Function for downloading from URLs.\n",
    "from urllib import request \n",
    "# Function for constructing interface with ZIP files.\n",
    "from zipfile import ZipFile \n",
    "\n",
    " # URL of ZIP archive with data.\n",
    "link = 'https://mba.tuck.dartmouth.edu/pages/faculty/ken.french/ftp/F-F_Research_Data_Factors_CSV.zip'\n",
    "# Name of local file where ZIP will be stored.\n",
    "temp = 'F-F_Research_Data_Factors_CSV.zip' \n",
    "# Retrieve ZIP file from 'link' and store in local file named 'temp'.\n",
    "request.urlretrieve(link, temp) \n",
    "# Construct interface with ZIP file.\n",
    "archive = ZipFile(temp) \n",
    "# Load the CSV file in the ZIP archive.\n",
    "csv = archive.open('F-F_Research_Data_Factors.CSV') \n",
    "# Read specified number of rows from CSV with line 2 as header.\n",
    "# Note that knowing which lines to read requires you to have viewed the CSV by another means (e.g. Excel).\n",
    "df1 = pd.read_csv(csv, header=2, nrows=1140) \n",
    "\n",
    "# Store the stock return variable values in a Numpy array.\n",
    "stocks = df1['Mkt-RF'].values\n",
    "# Print a preview of the 'stocks' variable.\n",
    "print(stocks)\n",
    "# Print the type of the 'stocks' variable.\n",
    "print(type(stocks))"
   ]
  },
  {
   "cell_type": "markdown",
   "id": "8b0ee402",
   "metadata": {},
   "source": [
    "## 1.1\n",
    "\n",
    "SciPy and NumPy have functions for computing sample\n",
    "\n",
    "- mean\n",
    "- variance\n",
    "- standard deviation\n",
    "- skewness\n",
    "- kurtosis\n",
    "- quantiles\n",
    "\n",
    "As an exercise, implement your own functions for these descriptive statistics. The functions should be designed to operate on a one-dimensional $\\texttt{ndarray}$. You may use other Scipy and Numpy functions in your implementations.  Apply your functions to the $\\texttt{stocks}$ data to test them out."
   ]
  },
  {
   "cell_type": "code",
   "execution_count": 20,
   "id": "f31d9ecc",
   "metadata": {},
   "outputs": [
    {
     "name": "stdout",
     "output_type": "stream",
     "text": [
      "***My Functions***\n",
      "Mean                      0.6900087719298245\n",
      "Variance                  28.547579894567413\n",
      "Standard Deviation        5.342993533083061\n",
      "Skewness                  0.16487197600823703\n",
      "Kurtosis                  7.641234428487045\n",
      "First Quartile            -1.97\n",
      "Median                    1.06\n",
      "Third Quartile            3.65\n"
     ]
    }
   ],
   "source": [
    "# Import NumPy for array manipulation.\n",
    "# This is unnecessary here because the module was imported above.\n",
    "import numpy as np \n",
    "\n",
    "# Sample mean.\n",
    "def my_mean(arr):\n",
    "    # Sample size (length of array).\n",
    "    n = len(arr)\n",
    "    # Sum of array elements divided by sample size.\n",
    "    return np.sum(arr) / n\n",
    "\n",
    "# Unbiased sample variance.\n",
    "def my_var(arr):\n",
    "    # Sample size.\n",
    "    n = len(arr)\n",
    "    # Array of deviations of array elements from sample mean.\n",
    "    # Note that 'array - scalar' will broadcast the subtraction.\n",
    "    dev = arr - my_mean(arr)\n",
    "    # Note the use of Bessel's correction.\n",
    "    # Note that 'array**2' performs squaring elementwise.\n",
    "    return np.sum(dev**2) / (n - 1)\n",
    "\n",
    "# Sample standard deviation derived from unbiased sample variance.\n",
    "def my_std(arr):\n",
    "    return np.sqrt(my_var(arr))\n",
    "\n",
    "# Adjusted Fisher-Pearson coefficient of skewness.\n",
    "def my_skew(arr):\n",
    "    # Sample size.\n",
    "    n = len(arr)\n",
    "    # Deviations.\n",
    "    dev = arr - my_mean(arr)\n",
    "    # Third central sample moment.\n",
    "    m3 = np.sum(dev**3) / n\n",
    "    # Second central sample moment.\n",
    "    m2 = np.sum(dev**2) / n\n",
    "    # Bias-adjustment cofactor.\n",
    "    adj = np.sqrt(n*(n-1)) / (n-2)\n",
    "    return adj * (m3 / m2**(3/2))\n",
    "\n",
    "# Adjusted Fisher coefficient of kurtosis.\n",
    "def my_kurt(arr):\n",
    "    # Sample size.\n",
    "    n = len(arr)\n",
    "    # Deviations.\n",
    "    dev = arr - my_mean(arr)\n",
    "    # Fourth central sample moment.\n",
    "    m4 = np.sum(dev**4) / n\n",
    "    # Second central sample moment.\n",
    "    m2 = np.sum(dev**2) / n\n",
    "    # Bias-adjustment cofactor.\n",
    "    adj = (n-1) / ((n-2)*(n-3))\n",
    "    return adj * ((n+1)*(m4 / (m2**2)) - (n-1)*3)\n",
    "\n",
    "# Sample quantile function with linear interpolation.\n",
    "# q: Quantile to compute. Floating-point number in [0,1].\n",
    "def my_quant(arr, q):\n",
    "    # Sample size.\n",
    "    n = len(arr)\n",
    "    # Sort array in place by calling the 'sort()' method.\n",
    "    arr.sort()\n",
    "    # Indices of points for linear interpolation.\n",
    "    # Note that 'int()' returns the integer part of a floating-point number.\n",
    "    i = int(n*q)\n",
    "    j = i + 1\n",
    "    # Fractional part of unrounded index.\n",
    "    # Note the use of the modulus operator '%'.\n",
    "    frac = n*q % 1\n",
    "    # Linear interpolation.\n",
    "    return arr[i] + (arr[j] - arr[i]) * frac\n",
    "\n",
    "# List of labels to print.\n",
    "label = ['Mean', 'Variance', 'Standard Deviation', 'Skewness', 'Kurtosis', 'First Quartile', 'Median', \\\n",
    "         'Third Quartile']\n",
    "# List of statistics.\n",
    "value = [my_mean(stocks), my_var(stocks), my_std(stocks), my_skew(stocks), my_kurt(stocks), my_quant(stocks, 0.25), \\\n",
    "        my_quant(stocks, 0.50), my_quant(stocks, 0.75)]\n",
    "# Print table.\n",
    "print('***My Functions***')\n",
    "for i in range(len(label)):\n",
    "    # Print results in two columns.\n",
    "    # Colon (':') indicates start of format specification.\n",
    "    # '<' indicates left alignment.\n",
    "    # '25' indicates field width of 25 characters.\n",
    "    print('{:<25} {}'.format(label[i], value[i]))"
   ]
  },
  {
   "cell_type": "markdown",
   "id": "c92c1737",
   "metadata": {},
   "source": [
    "## 1.2\n",
    "\n",
    "Apply the corresponding SciPy or NumPy functions. Do your functions give different results? If so, are your implementations incorrect, or can you adjust some parameters of the SciPy or NumPy functions to give the same results?"
   ]
  },
  {
   "cell_type": "code",
   "execution_count": 22,
   "id": "2e7eedcf",
   "metadata": {},
   "outputs": [
    {
     "name": "stdout",
     "output_type": "stream",
     "text": [
      "***SciPy and NumPy Functions, Default Parameters***\n",
      "Mean                      0.6900087719298245\n",
      "Variance                  28.52253815781779\n",
      "Standard Deviation        5.340649600733771\n",
      "Skewness                  0.16465495985920908\n",
      "Kurtosis                  7.602502829277306\n",
      "First Quartile            -1.97\n",
      "Median                    1.06\n",
      "Third Quartile            3.65\n",
      "\n",
      "\n",
      "***SciPy and NumPy Functions, Adjusted Parameters***\n",
      "Variance                  28.547579894567413\n",
      "Standard Deviation        5.342993533083061\n",
      "Skewness                  0.16487197600823722\n",
      "Kurtosis                  7.641234428487044\n"
     ]
    }
   ],
   "source": [
    "# Import specific functions from SciPy.\n",
    "from scipy.stats import skew, kurtosis\n",
    "\n",
    "# List of labels.\n",
    "label = ['Mean', 'Variance', 'Standard Deviation', 'Skewness', 'Kurtosis', 'First Quartile', 'Median', \\\n",
    "         'Third Quartile']\n",
    "# List of statistics.\n",
    "value = [np.mean(stocks), np.var(stocks), np.std(stocks), skew(stocks), kurtosis(stocks), \\\n",
    "         np.quantile(stocks, 0.25), np.quantile(stocks, 0.50), np.quantile(stocks, 0.75)]\n",
    "# Print table.\n",
    "print('***SciPy and NumPy Functions, Default Parameters***')\n",
    "for i in range(len(label)):\n",
    "    print('{:<25} {}'.format(label[i], value[i]))\n",
    "    \n",
    "# Results differ for variance, standard deviation, skewness, and kurtosis.\n",
    "# This is because the default parameters set the functions to compute alternative versions of the statistics.\n",
    "\n",
    "# We can adjust the parameters to match our versions of the statistics.\n",
    "# Note the extra arguments to the functions.\n",
    "label = ['Variance', 'Standard Deviation', 'Skewness', 'Kurtosis']\n",
    "value = [np.var(stocks, ddof=1), np.std(stocks, ddof=1), skew(stocks, bias=False), \\\n",
    "         kurtosis(stocks, bias=False)]\n",
    "# Newline in between tables.\n",
    "print('\\n')\n",
    "# Print table.\n",
    "print('***SciPy and NumPy Functions, Adjusted Parameters***')\n",
    "for i in range(len(label)):\n",
    "    print('{:<25} {}'.format(label[i], value[i]))\n",
    "    \n",
    "# Results are now within a roundoff error of each other.\n",
    "# Roundoff error is due to alternative arithmetic implementation."
   ]
  },
  {
   "cell_type": "markdown",
   "id": "3da9eeb9",
   "metadata": {},
   "source": [
    "## 1.3\n",
    "\n",
    "The normal distribution is commonly used to model natural and social phenomena. Investigate whether the hypothesis that the historical stock return is normally distributed is plausible as follows:\n",
    "\n",
    "- Simulate draws from a normal distribution with the same mean and standard deviation as the stock returns. For the number of draws, use the number of stock return observations. Use a seed of 0.\n",
    "- Compare descriptive statistics from the simulated data to the descriptive statistics of the stock returns.\n",
    "- Comment on similarities and differences."
   ]
  },
  {
   "cell_type": "code",
   "execution_count": 26,
   "id": "4e6e9087",
   "metadata": {},
   "outputs": [
    {
     "name": "stdout",
     "output_type": "stream",
     "text": [
      "***SciPy and NumPy Functions, Default Parameters***\n",
      "Mean                      0.5197701866992166\n",
      "Variance                  27.382121236219955\n",
      "Standard Deviation        5.23279287151899\n",
      "Skewness                  0.05367265351778994\n",
      "Kurtosis                  -0.006189000762067742\n",
      "First Quartile            -3.0217830666186645\n",
      "Median                    0.458084178609533\n",
      "Third Quartile            3.9388769539917403\n"
     ]
    }
   ],
   "source": [
    "# Import class for normal distribution from SciPy.\n",
    "# It is customary to import this under an alias because 'norm' is used for vector norms.\n",
    "from scipy.stats import norm as gaussian\n",
    "\n",
    "# Number of stock return observations.\n",
    "n = len(stocks)\n",
    "# Simulate normal random variables using a method.\n",
    "sim = gaussian.rvs(loc=np.mean(stocks), scale=np.std(stocks), size=n, random_state=0)\n",
    "\n",
    "# Print descriptive statistics.\n",
    "label = ['Mean', 'Variance', 'Standard Deviation', 'Skewness', 'Kurtosis', 'First Quartile', 'Median', \\\n",
    "         'Third Quartile']\n",
    "value = [np.mean(sim), np.var(sim), np.std(sim), skew(sim), kurtosis(sim), \\\n",
    "         np.quantile(sim, 0.25), np.quantile(sim, 0.50), np.quantile(sim, 0.75)]\n",
    "print('***SciPy and NumPy Functions, Default Parameters***')\n",
    "for i in range(len(label)):\n",
    "    print('{:<25} {}'.format(label[i], value[i]))\n",
    "    \n",
    "# Mean and standard deviation are similar.\n",
    "# Kurtosis and quantiles are notably different.\n",
    "# Excess kurtosis (leptokurtosis) is a commonly observed feature of asset returns.\n",
    "# The hypothesis that the historical stock return is normally distributed is implausible based on differing kurtosis."
   ]
  },
  {
   "cell_type": "markdown",
   "id": "cf23de18",
   "metadata": {},
   "source": [
    "# 2 Visualizing Probability Distributions\n",
    "A $\\text{binomial}(n, p)$ distribution converges to a normal $\\mathcal{N}\\left(np, np(1-p)\\right)$ distribution as $n$ increases. Write a procedure that demonstrates the convergence. The procedure should do the following:\n",
    "\n",
    "- Take $n$ and $p$ as input.\n",
    "- Plot the PMF of a $\\text{binom}(n,p)$ random variable.\n",
    "- Plot, over the PMF, the PDF of a normal random variable with mean $np$ and standard deviation $\\sqrt{np(1-p)}$.\n",
    "\n",
    "When you get procedure working, run it with small and then increasing values of $n$ for fixed $p$. Note how in the output plot the binomial PMF gets closer to the normal PDF as you increase $n$."
   ]
  },
  {
   "cell_type": "code",
   "execution_count": 59,
   "id": "21d66115",
   "metadata": {},
   "outputs": [
    {
     "data": {
      "text/plain": [
       "[<matplotlib.lines.Line2D at 0x7feebc780d30>]"
      ]
     },
     "execution_count": 59,
     "metadata": {},
     "output_type": "execute_result"
    },
    {
     "data": {
      "image/png": "[encoded data removed]",
      "text/plain": [
       "<Figure size 432x288 with 1 Axes>"
      ]
     },
     "metadata": {
      "needs_background": "light"
     },
     "output_type": "display_data"
    }
   ],
   "source": [
    "# Import module for plotting.\n",
    "import matplotlib.pyplot as plt\n",
    "# Import module for array manipulation.\n",
    "import numpy as np\n",
    "# Import class for binomial distribution.\n",
    "from scipy.stats import binom\n",
    "# Import class for normal distribution under alias.\n",
    "from scipy.stats import norm as gaussian\n",
    "\n",
    "# Set n.\n",
    "n = 10\n",
    "# Set p.\n",
    "p = 0.10\n",
    "\n",
    "# Support of the binomial random variable.\n",
    "k = np.arange(n)\n",
    "# Plot binomial PMF with red dots.\n",
    "plt.plot(k, binom.pmf(k, n, p), 'ro')\n",
    "# Create a finer domain for plotting a smoother Gaussian PDF.\n",
    "x = np.linspace(0, n, 100)\n",
    "# Plot smooth curve of Gaussian PDF.\n",
    "plt.plot(x, gaussian.pdf(x, n*p, np.sqrt(n*p*(1-p))))\n",
    "\n",
    "# Change n and p to see convergence behvaior."
   ]
  }
 ],
 "metadata": {
  "kernelspec": {
   "display_name": "Python 3",
   "language": "python",
   "name": "python3"
  },
  "language_info": {
   "codemirror_mode": {
    "name": "ipython",
    "version": 3
   },
   "file_extension": ".py",
   "mimetype": "text/x-python",
   "name": "python",
   "nbconvert_exporter": "python",
   "pygments_lexer": "ipython3",
   "version": "3.8.5"
  }
 },
 "nbformat": 4,
 "nbformat_minor": 5
}
